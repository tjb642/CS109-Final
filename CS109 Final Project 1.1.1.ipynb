{
 "metadata": {
  "name": ""
 },
 "nbformat": 3,
 "nbformat_minor": 0,
 "worksheets": [
  {
   "cells": [
    {
     "cell_type": "heading",
     "level": 1,
     "metadata": {},
     "source": [
      "Is It Too Early in the NBA Season to Judge Players and Spin Narratives?"
     ]
    },
    {
     "cell_type": "markdown",
     "metadata": {},
     "source": [
      "**A Data Science Project by Travis Belanger, Joseph Lee, and Kevin Oh**"
     ]
    },
    {
     "cell_type": "markdown",
     "metadata": {},
     "source": [
      "Here we are, in early December, and NBA fans and pundits are going all-out with their judgements and predictions.  Anthony Bennett, the number one pick in the 2013 NBA Draft who started the season missing his first 16 field goal attempts (his current field goal percentage is around 20-25%), was a terrible draft mistake.  The New York Knicks, at 5-14, have no shot of advancing in the playoffs, much less winning the NBA championship.  The Miami Heat, the two-time defending NBA champions who are two games behind the Indiana Pacers in the Eastern Conference standings, are never going to win the top playoff seed.  The Eastern Conference, which currently fields only 2-3 teams above .500, is the worst conference ever and has created the biggest conference disparity in the history of the NBA.\n",
      "\n",
      "All decided by now, about 40 days into the NBA season.\n",
      "\n",
      "What many fans and pundits fail to understand are the randomness and complex intracacies of sports - the ebbs and flows within each season that tend to average out over the long run.  With each ebb and each flow, journalists love to spin narratives about the causes and long-run implications of each random fluctuation.  \"That player has had great practices recently, and his high confidence is making him shoot better.\"  \"That rookie shouldn't have been drafted where he was.\"  \"The defense really made the other team shoot poorly today.\"\n",
      "\n",
      "The goal of this project is to approach the results from the beginning of the NBA season in a more principled manner.  As a cutoff point, we use the end of November 2013, 33 days into the current 2013-2014 season.  For a detailed storytelling of the first 33 days of the NBA season, please see http://www.grantland.com/blog/the-triangle/post/_/id/84665/bill-and-jalens-33-day-recap-the-first-birdmester.  (We actually find Grantland discussions to be pretty intelligent, but the authors nonetheless construct stories and pass judgements like any other fan.)\n",
      "\n",
      "Our primary research question pertains to whether or not one can make accurate naive predictions for the entire season in the first 33 days of the season (pre-December 1), and whether or not we can improve on those predictions using statistical modeling.  If we can improve those predictions, by how much?\n",
      "\n",
      "First, we scrape and clean data for both the 2012-2013 and 2013-2014 NBA seasons from CBS Sports.  After conducting some exploratory analyses on several variables, we concentrate on modeling and predicting field goal percentage (FG%).  We propose Bayesian hierarchical modeling as our prediction method and argue intuitively why it should trump the \"naive\" MLE method.  We outline three hierarchical models of varying complexity and implement them on the 2012-2013 pre-December data to make predictions for the rest of the 2012-2013 season.  We then compare their prediction results to the MLE predictions and to actual post-December data.  Lastly, we implement one of our models for the current 2013-2014 season and offer predictions for what's to come during the remainder of the season.\n",
      "\n",
      "To avoid confusion, we henceforth refer to the 2012-2013 season as \"2013\" and the current 2013-2014 season as \"2014.\""
     ]
    },
    {
     "cell_type": "heading",
     "level": 2,
     "metadata": {},
     "source": [
      "Gathering the Data"
     ]
    },
    {
     "cell_type": "markdown",
     "metadata": {},
     "source": [
      "We start off with the standard imports and adjustments included at the top of most of the homeworks."
     ]
    },
    {
     "cell_type": "code",
     "collapsed": false,
     "input": [
      "%matplotlib inline\n",
      "\n",
      "import json\n",
      "\n",
      "import requests\n",
      "import pandas as pd\n",
      "import numpy as np\n",
      "import matplotlib.pyplot as plt\n",
      "from pattern import web\n",
      "\n",
      "pd.set_option('display.width', 500)\n",
      "pd.set_option('display.max_columns', 30)\n",
      "\n",
      "# set some nicer defaults for matplotlib\n",
      "from matplotlib import rcParams\n",
      "\n",
      "#these colors come from colorbrewer2.org. Each is an RGB triplet\n",
      "dark2_colors = [(0.10588235294117647, 0.6196078431372549, 0.4666666666666667),\n",
      "                (0.8509803921568627, 0.37254901960784315, 0.00784313725490196),\n",
      "                (0.4588235294117647, 0.4392156862745098, 0.7019607843137254),\n",
      "                (0.9058823529411765, 0.1607843137254902, 0.5411764705882353),\n",
      "                (0.4, 0.6509803921568628, 0.11764705882352941),\n",
      "                (0.9019607843137255, 0.6705882352941176, 0.00784313725490196),\n",
      "                (0.6509803921568628, 0.4627450980392157, 0.11372549019607843),\n",
      "                (0.4, 0.4, 0.4)]\n",
      "\n",
      "rcParams['figure.figsize'] = (10, 6)\n",
      "rcParams['figure.dpi'] = 150\n",
      "rcParams['axes.color_cycle'] = dark2_colors\n",
      "rcParams['lines.linewidth'] = 2\n",
      "rcParams['axes.grid'] = False\n",
      "rcParams['axes.facecolor'] = 'white'\n",
      "rcParams['font.size'] = 14\n",
      "rcParams['patch.edgecolor'] = 'none'\n",
      "\n",
      "\n",
      "def remove_border(axes=None, top=False, right=False, left=True, bottom=True):\n",
      "    \"\"\"\n",
      "    Minimize chartjunk by stripping out unnecessary plot borders and axis ticks\n",
      "    \n",
      "    The top/right/left/bottom keywords toggle whether the corresponding plot border is drawn\n",
      "    \"\"\"\n",
      "    ax = axes or plt.gca()\n",
      "    ax.spines['top'].set_visible(top)\n",
      "    ax.spines['right'].set_visible(right)\n",
      "    ax.spines['left'].set_visible(left)\n",
      "    ax.spines['bottom'].set_visible(bottom)\n",
      "    \n",
      "    #turn off all ticks\n",
      "    ax.yaxis.set_ticks_position('none')\n",
      "    ax.xaxis.set_ticks_position('none')\n",
      "    \n",
      "    #now re-enable visibles\n",
      "    if top:\n",
      "        ax.xaxis.tick_top()\n",
      "    if bottom:\n",
      "        ax.xaxis.tick_bottom()\n",
      "    if left:\n",
      "        ax.yaxis.tick_left()\n",
      "    if right:\n",
      "        ax.yaxis.tick_right()"
     ],
     "language": "python",
     "metadata": {},
     "outputs": [],
     "prompt_number": 2
    },
    {
     "cell_type": "heading",
     "level": 3,
     "metadata": {},
     "source": [
      "Getting the Raw Data for a Single Test Player"
     ]
    },
    {
     "cell_type": "markdown",
     "metadata": {},
     "source": [
      "We need to grab all the player IDs from CBSSports so we can go after the data on the CBS website itself. We do this using the CSB Sports developers API to pull out just the player ids, names, and positions."
     ]
    },
    {
     "cell_type": "code",
     "collapsed": false,
     "input": [
      "\"\"\"\n",
      "function: get_player_ids\n",
      "\n",
      "description: gets all basketball player ids from CBSSports\n",
      "\n",
      "inputs: nothing\n",
      "\n",
      "output: list of player ids\n",
      "\"\"\"\n",
      "\n",
      "def get_player_ids():\n",
      "    raw_data = requests.get('http://api.cbssports.com/fantasy/players/list?version=2.0&SPORT=basketball&response_format=JSON').text\n",
      "    raw_data = json.loads(raw_data)['body']['players']\n",
      "    data = [(int(player['id']), player['fullname'], player['position']) for player in raw_data]\n",
      "    return data"
     ],
     "language": "python",
     "metadata": {},
     "outputs": [],
     "prompt_number": 2
    },
    {
     "cell_type": "markdown",
     "metadata": {},
     "source": [
      "The following function is a failed attempt to extract the player data. It is included only for completeness."
     ]
    },
    {
     "cell_type": "code",
     "collapsed": false,
     "input": [
      "\"\"\"\n",
      "\n",
      "*****This was a first attempt. It was way too complicated and had too many edge cases programmed into it.******\n",
      "\n",
      "function: get_player_data\n",
      "\n",
      "description: takes a player id, scrapes CBS website for that player's data, returns tuple with player id as first element and\n",
      "dict of dicts containing all stats for all games player participated in for 2012 season as second element.\n",
      "\n",
      "inputs: player_id: int\n",
      "\n",
      "outputs: tuple. First element is player id. Second element is dict of dicts. First dict is keyed on game number. Inner dicts are\n",
      "keyed on statistic names.\n",
      "\n",
      "\n",
      "def get_player_data(player_tuple):\n",
      "    player_id = player_tuple[0]\n",
      "    name = player_tuple[1]\n",
      "    \n",
      "    html = requests.get('http://fantasynews.cbssports.com/fantasybasketball/players/player/gamelogs/2012/%d' % player_id).text\n",
      "    dom = web.Element(html)\n",
      "    data = {}\n",
      "    data_keys = []\n",
      "    for i, stats in enumerate(dom.by_class('label')[1]):\n",
      "        stat = str(stats)[4:-5]\n",
      "        if len(stat) > 0 and i > 1:\n",
      "            data_keys.append(stat)\n",
      "\n",
      "    for each in dom.by_class('data borderTop'):\n",
      "        for each2 in each.by_tag('tr'):\n",
      "            for i, each3 in enumerate(each2.by_tag('td')):\n",
      "                if i not in data.keys():\n",
      "                    data[i] = []\n",
      "                if each3.content == 'Gamedate':\n",
      "                    continue\n",
      "                if each3.content == 'Opp':\n",
      "                    continue\n",
      "                #if i == 1:\n",
      "                 #   data[i].append(each3.content[-7:-4])\n",
      "                  #  continue\n",
      "                data[i].append(each3.content)\n",
      "    \n",
      "    return data\n",
      "\"\"\""
     ],
     "language": "python",
     "metadata": {},
     "outputs": [
      {
       "metadata": {},
       "output_type": "pyout",
       "prompt_number": 3,
       "text": [
        "\"\\n\\n*****This was a first attempt. It was way too complicated and had too many edge cases programmed into it.******\\n\\nfunction: get_player_data\\n\\ndescription: takes a player id, scrapes CBS website for that player's data, returns tuple with player id as first element and\\ndict of dicts containing all stats for all games player participated in for 2012 season as second element.\\n\\ninputs: player_id: int\\n\\noutputs: tuple. First element is player id. Second element is dict of dicts. First dict is keyed on game number. Inner dicts are\\nkeyed on statistic names.\\n\\n\\ndef get_player_data(player_tuple):\\n    player_id = player_tuple[0]\\n    name = player_tuple[1]\\n    \\n    html = requests.get('http://fantasynews.cbssports.com/fantasybasketball/players/player/gamelogs/2012/%d' % player_id).text\\n    dom = web.Element(html)\\n    data = {}\\n    data_keys = []\\n    for i, stats in enumerate(dom.by_class('label')[1]):\\n        stat = str(stats)[4:-5]\\n        if len(stat) > 0 and i > 1:\\n            data_keys.append(stat)\\n\\n    for each in dom.by_class('data borderTop'):\\n        for each2 in each.by_tag('tr'):\\n            for i, each3 in enumerate(each2.by_tag('td')):\\n                if i not in data.keys():\\n                    data[i] = []\\n                if each3.content == 'Gamedate':\\n                    continue\\n                if each3.content == 'Opp':\\n                    continue\\n                #if i == 1:\\n                 #   data[i].append(each3.content[-7:-4])\\n                  #  continue\\n                data[i].append(each3.content)\\n    \\n    return data\\n\""
       ]
      }
     ],
     "prompt_number": 3
    },
    {
     "cell_type": "markdown",
     "metadata": {},
     "source": [
      "After getting the player IDs from CBS Sports, we'll need a function that will use a single ID to grab a single player's data."
     ]
    },
    {
     "cell_type": "code",
     "collapsed": false,
     "input": [
      "\"\"\"\n",
      "function: get_player_data\n",
      "\n",
      "description: takes a player id, scrapes CBS website for that player's data, returns tuple with stat headings (FG, FGA, MIN, etc)\n",
      "as first element and a dict containing all stats for all games player participated in for 2012-2013 season as second element.\n",
      "Entries in the dict are keyed on the date of the game.\n",
      "\n",
      "inputs: player_id: int\n",
      "\n",
      "outputs: tuple. First element is list of of stat headings. Second element is a dict. Dict is keyed on game date and values are lists \n",
      "of the games' stats.\n",
      "\"\"\"\n",
      "\n",
      "def get_player_data(player_id):\n",
      "    # The following while loop is used to handle server timeouts. Occasionally the CBS server would not return information\n",
      "    # and the program would exceed the max allowable retries. The while loop limits request tries to 3 and then returns None\n",
      "    # and moves on if it hasn't gotten information from the server.\n",
      "    \n",
      "    attempt = 0\n",
      "    \n",
      "    while attempt <= 2: \n",
      "        try:\n",
      "            html = requests.get('http://fantasynews.cbssports.com/fantasybasketball/players/player/gamelogs/2012/%d' % player_id).text\n",
      "            break\n",
      "            \n",
      "        except:\n",
      "            attempt += 1\n",
      "    \n",
      "    if attempt == 3:\n",
      "        return None\n",
      "    \n",
      "    dom = web.Element(html)\n",
      "    data = {}\n",
      "    headings = []\n",
      "    \n",
      "    # This if statement checks to see if any usable data at all was returned. Some players with IDs did not play for the entirety\n",
      "    # of the season and thus had no data.\n",
      "    if len(dom.by_class('label')) == 0:\n",
      "        return None\n",
      "    \n",
      "    # This loop produces the headings for the individual stats. (i.e. FG, FGA, MIN, etc.)\n",
      "    for i, stat_headings in enumerate(dom.by_class('label')[1]):\n",
      "        # We need to knock off the html tags.\n",
      "        heading = str(stat_headings)[4:-5]\n",
      "        if len(heading) > 0 and i > 1:\n",
      "            headings.append(heading)\n",
      "    \n",
      "    # This loop grabs the data for each game and puts it in a dict keyed on the date of each game\n",
      "    for element in dom.by_class('data borderTop'):\n",
      "        for row in element.by_tag('tr'):\n",
      "            for i, each in enumerate(row.by_tag('td')):\n",
      "                if i == 0:\n",
      "                    #the key here is the date of the game\n",
      "                    key = str(each.content)\n",
      "                    data[key] = []\n",
      "                else:\n",
      "                    data[key].append(each.content)\n",
      "                    \n",
      "    return (headings, data)"
     ],
     "language": "python",
     "metadata": {},
     "outputs": [],
     "prompt_number": 4
    },
    {
     "cell_type": "heading",
     "level": 3,
     "metadata": {},
     "source": [
      "Cleaning the Data"
     ]
    },
    {
     "cell_type": "markdown",
     "metadata": {},
     "source": [
      "The following function cleans an individual player's data grabbed above from the CBS website. It is important that we get this intermediate step right before moving on to get *all* player data."
     ]
    },
    {
     "cell_type": "code",
     "collapsed": false,
     "input": [
      "\"\"\"\n",
      "Function: clean_data\n",
      "\n",
      "Description: takes a data set from get_player_data and cleans it.\n",
      "\n",
      "Inputs: dict containing player data keyed on date\n",
      "\n",
      "Outpurs: cleaned dict\n",
      "\"\"\"\n",
      "\n",
      "def clean_data(headings, data):\n",
      "    #Need to remove all non-dates from the data dict keys.\n",
      "    for key in data.keys():\n",
      "        if key[-1].isdigit() == False:\n",
      "            del(data[key])\n",
      "        \n",
      "    #Need to get rid of link HTML.\n",
      "    for date in data.keys():\n",
      "        if len(data[date][0]) < 61:\n",
      "            temp = data[date][0][-6:-4]\n",
      "            data[date].remove(data[date][0])\n",
      "            data[date].insert(0, temp)\n",
      "        else:\n",
      "            temp = data[date][0][-7:-4]\n",
      "            data[date].remove(data[date][0])\n",
      "            data[date].insert(0, temp)\n",
      "            \n",
      "    #If the player didn't play in a game add None for each stat missing.\n",
      "    for date in data.keys():\n",
      "        num_of_headings = len(headings[2:])\n",
      "        if 'Did Not Play ' in data[date]:\n",
      "            data[date].remove(data[date][2])\n",
      "            for i in range(num_of_headings):\n",
      "                data[date].append(None)\n",
      "    return data"
     ],
     "language": "python",
     "metadata": {},
     "outputs": [],
     "prompt_number": 5
    },
    {
     "cell_type": "markdown",
     "metadata": {},
     "source": [
      "Next we run a quick test to make sure we have a clean-looking version of the data we are supposed to have at this point."
     ]
    },
    {
     "cell_type": "code",
     "collapsed": false,
     "input": [
      "ids = get_player_ids()\n",
      "test_id, test_name, test_position = ids[15]\n",
      "headings, raw_data = get_player_data(test_id)\n",
      "data = clean_data(headings, raw_data)"
     ],
     "language": "python",
     "metadata": {},
     "outputs": [],
     "prompt_number": 6
    },
    {
     "cell_type": "code",
     "collapsed": false,
     "input": [
      "#these keys should be stat headings\n",
      "print headings\n",
      "\n",
      "#regular game with team abbr. 3 letters long\n",
      "print data['10/30']\n",
      "\n",
      "#team abbr. only 2 letters long, not 3\n",
      "print data['11/29']\n",
      "\n",
      "#player did not play in game\n",
      "print data['04/05']\n",
      "\n",
      "#team abbr. contains @ symbol\n",
      "print data['11/14']"
     ],
     "language": "python",
     "metadata": {},
     "outputs": [
      {
       "output_type": "stream",
       "stream": "stdout",
       "text": [
        "['Opp', 'Result', 'MIN', 'FG', 'FGA', 'FG3', 'FG3A', 'FT', 'FTA', 'OFF', 'REB', 'TREB', 'A', 'STL', 'BLK', 'TO', 'PF', 'PTS']\n",
        "[u'BOS', u'W 120-107', u'31', u'5', u'7', u'2', u'3', u'7', u'8', u'0', u'2', u'2', u'2', u'0', u'0', u'0', u'1', u'19']\n",
        "[u'SA', u'W 105-100', u'27', u'7', u'15', u'1', u'3', u'5', u'5', u'0', u'0', u'0', u'1', u'1', u'0', u'0', u'2', u'20']\n",
        "[u'CHA', u'W 89-79', None, None, None, None, None, None, None, None, None, None, None, None, None, None, None, None]\n",
        "[u'LAC', u'L 100-107', u'27', u'4', u'6', u'1', u'2', u'5', u'6', u'1', u'2', u'3', u'2', u'5', u'0', u'1', u'4', u'14']\n"
       ]
      }
     ],
     "prompt_number": 7
    },
    {
     "cell_type": "heading",
     "level": 3,
     "metadata": {},
     "source": [
      "Packaging Data"
     ]
    },
    {
     "cell_type": "markdown",
     "metadata": {},
     "source": [
      "Everything looks good so we can move on to package the data into a dataframe."
     ]
    },
    {
     "cell_type": "code",
     "collapsed": false,
     "input": [
      "\"\"\"\n",
      "Function: make_dataframe\n",
      "\n",
      "Inputs: individual player's data for the 2012 season.\n",
      "\n",
      "Outputs: dataframe with all data for single player\n",
      "\"\"\"\n",
      "\n",
      "def make_dataframe(player_id, player_name, player_position, headings, data_dict):\n",
      "    #this master list is to collect all stats into a single list. This makes converting to a dataframe much easier.\n",
      "    master_list = []\n",
      "    \n",
      "    #we populate the master list with the stats\n",
      "    for key in data_dict.keys():\n",
      "        master_list.append(data_dict[key])\n",
      "    \n",
      "    #now we create the dataframe using the master_list to populate values. We index here on the data_dict keys since they are the \n",
      "    #dates of the actual games. Columns are labeled by the headings passed earlier. \n",
      "    df = pd.DataFrame(master_list, index=data_dict.keys(), columns = headings)\n",
      "    \n",
      "    #we need to manually enter in needed information not available from the screen scraping.\n",
      "    df['Name'] = player_name\n",
      "    df['Id'] = player_id\n",
      "    df['Position'] = player_position\n",
      "    df['Date'] = data_dict.keys()\n",
      "    \n",
      "    #now to rearrange the columns into a more logical order\n",
      "    #start off with the columns we added manually...\n",
      "    col_names = ['Id', 'Name', 'Date', 'Position']\n",
      "    \n",
      "    #...and add the columns we scraped from the CBS website\n",
      "    for heading in headings:\n",
      "        col_names.append(heading)\n",
      "        \n",
      "    df = df[col_names]\n",
      "    \n",
      "    return df"
     ],
     "language": "python",
     "metadata": {},
     "outputs": [],
     "prompt_number": 8
    },
    {
     "cell_type": "markdown",
     "metadata": {},
     "source": [
      "Now that all our code for getting the data is ready, let's test it on our test_id."
     ]
    },
    {
     "cell_type": "code",
     "collapsed": false,
     "input": [
      "df = make_dataframe(test_id, test_name, test_position, headings, data)\n",
      "df.head()"
     ],
     "language": "python",
     "metadata": {},
     "outputs": [
      {
       "html": [
        "<div style=\"max-height:1000px;max-width:1500px;overflow:auto;\">\n",
        "<table border=\"1\" class=\"dataframe\">\n",
        "  <thead>\n",
        "    <tr style=\"text-align: right;\">\n",
        "      <th></th>\n",
        "      <th>Id</th>\n",
        "      <th>Name</th>\n",
        "      <th>Date</th>\n",
        "      <th>Position</th>\n",
        "      <th>Opp</th>\n",
        "      <th>Result</th>\n",
        "      <th>MIN</th>\n",
        "      <th>FG</th>\n",
        "      <th>FGA</th>\n",
        "      <th>FG3</th>\n",
        "      <th>FG3A</th>\n",
        "      <th>FT</th>\n",
        "      <th>FTA</th>\n",
        "      <th>OFF</th>\n",
        "      <th>REB</th>\n",
        "      <th>TREB</th>\n",
        "      <th>A</th>\n",
        "      <th>STL</th>\n",
        "      <th>BLK</th>\n",
        "      <th>TO</th>\n",
        "      <th>PF</th>\n",
        "      <th>PTS</th>\n",
        "    </tr>\n",
        "  </thead>\n",
        "  <tbody>\n",
        "    <tr>\n",
        "      <th>01/08</th>\n",
        "      <td> 6457</td>\n",
        "      <td> Ray Allen</td>\n",
        "      <td> 01/08</td>\n",
        "      <td> SG</td>\n",
        "      <td> IND</td>\n",
        "      <td>   L 77-87</td>\n",
        "      <td> 16</td>\n",
        "      <td> 0</td>\n",
        "      <td>  5</td>\n",
        "      <td> 0</td>\n",
        "      <td> 4</td>\n",
        "      <td> 0</td>\n",
        "      <td> 0</td>\n",
        "      <td> 0</td>\n",
        "      <td> 1</td>\n",
        "      <td> 1</td>\n",
        "      <td> 1</td>\n",
        "      <td> 0</td>\n",
        "      <td> 2</td>\n",
        "      <td> 1</td>\n",
        "      <td> 3</td>\n",
        "      <td>  0</td>\n",
        "    </tr>\n",
        "    <tr>\n",
        "      <th>11/12</th>\n",
        "      <td> 6457</td>\n",
        "      <td> Ray Allen</td>\n",
        "      <td> 11/12</td>\n",
        "      <td> SG</td>\n",
        "      <td> HOU</td>\n",
        "      <td> W 113-110</td>\n",
        "      <td> 26</td>\n",
        "      <td> 3</td>\n",
        "      <td>  7</td>\n",
        "      <td> 2</td>\n",
        "      <td> 5</td>\n",
        "      <td> 0</td>\n",
        "      <td> 0</td>\n",
        "      <td> 2</td>\n",
        "      <td> 2</td>\n",
        "      <td> 4</td>\n",
        "      <td> 3</td>\n",
        "      <td> 1</td>\n",
        "      <td> 0</td>\n",
        "      <td> 1</td>\n",
        "      <td> 2</td>\n",
        "      <td>  8</td>\n",
        "    </tr>\n",
        "    <tr>\n",
        "      <th>11/11</th>\n",
        "      <td> 6457</td>\n",
        "      <td> Ray Allen</td>\n",
        "      <td> 11/11</td>\n",
        "      <td> SG</td>\n",
        "      <td> MEM</td>\n",
        "      <td>  L 86-104</td>\n",
        "      <td> 25</td>\n",
        "      <td> 2</td>\n",
        "      <td>  7</td>\n",
        "      <td> 1</td>\n",
        "      <td> 3</td>\n",
        "      <td> 0</td>\n",
        "      <td> 1</td>\n",
        "      <td> 0</td>\n",
        "      <td> 1</td>\n",
        "      <td> 1</td>\n",
        "      <td> 2</td>\n",
        "      <td> 3</td>\n",
        "      <td> 1</td>\n",
        "      <td> 2</td>\n",
        "      <td> 0</td>\n",
        "      <td>  5</td>\n",
        "    </tr>\n",
        "    <tr>\n",
        "      <th>01/02</th>\n",
        "      <td> 6457</td>\n",
        "      <td> Ray Allen</td>\n",
        "      <td> 01/02</td>\n",
        "      <td> SG</td>\n",
        "      <td> DAL</td>\n",
        "      <td> W 119-109</td>\n",
        "      <td> 27</td>\n",
        "      <td> 5</td>\n",
        "      <td> 10</td>\n",
        "      <td> 3</td>\n",
        "      <td> 6</td>\n",
        "      <td> 2</td>\n",
        "      <td> 2</td>\n",
        "      <td> 1</td>\n",
        "      <td> 6</td>\n",
        "      <td> 7</td>\n",
        "      <td> 1</td>\n",
        "      <td> 0</td>\n",
        "      <td> 0</td>\n",
        "      <td> 0</td>\n",
        "      <td> 1</td>\n",
        "      <td> 15</td>\n",
        "    </tr>\n",
        "    <tr>\n",
        "      <th>11/17</th>\n",
        "      <td> 6457</td>\n",
        "      <td> Ray Allen</td>\n",
        "      <td> 11/17</td>\n",
        "      <td> SG</td>\n",
        "      <td> PHO</td>\n",
        "      <td>   W 97-88</td>\n",
        "      <td> 25</td>\n",
        "      <td> 3</td>\n",
        "      <td>  4</td>\n",
        "      <td> 0</td>\n",
        "      <td> 0</td>\n",
        "      <td> 3</td>\n",
        "      <td> 3</td>\n",
        "      <td> 1</td>\n",
        "      <td> 2</td>\n",
        "      <td> 3</td>\n",
        "      <td> 3</td>\n",
        "      <td> 0</td>\n",
        "      <td> 0</td>\n",
        "      <td> 3</td>\n",
        "      <td> 3</td>\n",
        "      <td>  9</td>\n",
        "    </tr>\n",
        "  </tbody>\n",
        "</table>\n",
        "</div>"
       ],
       "metadata": {},
       "output_type": "pyout",
       "prompt_number": 9,
       "text": [
        "         Id       Name   Date Position  Opp     Result MIN FG FGA FG3 FG3A FT FTA OFF REB TREB  A STL BLK TO PF PTS\n",
        "01/08  6457  Ray Allen  01/08       SG  IND    L 77-87  16  0   5   0    4  0   0   0   1    1  1   0   2  1  3   0\n",
        "11/12  6457  Ray Allen  11/12       SG  HOU  W 113-110  26  3   7   2    5  0   0   2   2    4  3   1   0  1  2   8\n",
        "11/11  6457  Ray Allen  11/11       SG  MEM   L 86-104  25  2   7   1    3  0   1   0   1    1  2   3   1  2  0   5\n",
        "01/02  6457  Ray Allen  01/02       SG  DAL  W 119-109  27  5  10   3    6  2   2   1   6    7  1   0   0  0  1  15\n",
        "11/17  6457  Ray Allen  11/17       SG  PHO    W 97-88  25  3   4   0    0  3   3   1   2    3  3   0   0  3  3   9"
       ]
      }
     ],
     "prompt_number": 9
    },
    {
     "cell_type": "heading",
     "level": 3,
     "metadata": {},
     "source": [
      "Downloading All Data"
     ]
    },
    {
     "cell_type": "markdown",
     "metadata": {},
     "source": [
      "Finally! All the functions up to now seem to work as they should and the data we're getting looks clean and usable. Let's scale the data-gathering up and get *all* NBA player data for the entire 2012-2013 season."
     ]
    },
    {
     "cell_type": "code",
     "collapsed": false,
     "input": [
      "\"\"\"\n",
      "Function: get_all_player_data\n",
      "\n",
      "Description: gets all player data\n",
      "\n",
      "Inputs: None\n",
      "\n",
      "Outputs: Dataframe of all players and their data\n",
      "\"\"\"\n",
      "\n",
      "def get_all_player_data():\n",
      "    #Part of this solution is from the HW3 solution, problem 1.2\n",
      "    \n",
      "    #First we grab all player ids.\n",
      "    ids = get_player_ids()\n",
      "    dfs = []\n",
      "    \n",
      "    #Next we iterate through the ids, grabbing everyone's data, and appending it to the dfs list it.\n",
      "    for player_id in ids:\n",
      "        \n",
      "        #unpack the ids\n",
      "        pid, player_name, player_position = player_id\n",
      "        \n",
      "        #get the player's data, checking to make sure it's actually there\n",
      "        player_data = get_player_data(pid)\n",
      "        if player_data != None:\n",
      "            headings, raw_data = player_data\n",
      "        else:\n",
      "            continue\n",
      "        \n",
      "        #Now we clean that data...\n",
      "        data = clean_data(headings, raw_data)\n",
      "        \n",
      "        #...and package it into a nice dataframe\n",
      "        player_df = make_dataframe(pid, player_name, player_position, headings, data)\n",
      "        dfs.append(player_df)\n",
      "    \n",
      "    all_player_df = pd.concat(dfs, ignore_index=True)\n",
      "    \n",
      "    return all_player_df"
     ],
     "language": "python",
     "metadata": {},
     "outputs": [],
     "prompt_number": 10
    },
    {
     "cell_type": "markdown",
     "metadata": {},
     "source": [
      "The code below gets all the players' data. The last two lines can be toggled so you don't have to download the CBS data every time."
     ]
    },
    {
     "cell_type": "code",
     "collapsed": false,
     "input": [
      "#all_data = get_all_player_data()\n",
      "#all_data.to_csv('all_data.csv', index=False)\n",
      "all_data = pd.read_csv('all_data.csv')"
     ],
     "language": "python",
     "metadata": {},
     "outputs": [],
     "prompt_number": 2
    },
    {
     "cell_type": "markdown",
     "metadata": {},
     "source": [
      "Now we calculate some basic statistics to make the dataframe easier to handle, and we re-organize the dataframe for visual purposes."
     ]
    },
    {
     "cell_type": "code",
     "collapsed": false,
     "input": [
      "all_data['FG%'] = all_data['FG']/all_data['FGA']\n",
      "all_data['FT%'] = all_data['FT']/all_data['FTA']\n",
      "all_data['FG3%'] = all_data['FG3']/all_data['FG3A']\n",
      "cols = ['Id', 'Name', 'Date', 'Position', 'Opp', 'Result', 'MIN', 'FG', 'FGA', 'FG%', 'FG3', 'FG3A', 'FG3%', 'FT', 'FTA', \n",
      "        'FT%', 'OFF', 'REB', 'TREB', 'A', 'STL', 'BLK', 'TO', 'PF', 'PTS']\n",
      "all_data = all_data[cols]"
     ],
     "language": "python",
     "metadata": {},
     "outputs": [],
     "prompt_number": 3
    },
    {
     "cell_type": "markdown",
     "metadata": {},
     "source": [
      "How does Lebron James' data look?  (He was an All-Star, as well as the NBA's Most Valuable Player, in both 2012 and 2013.)"
     ]
    },
    {
     "cell_type": "code",
     "collapsed": false,
     "input": [
      "all_data[all_data['Name'] == 'LeBron James'].head()"
     ],
     "language": "python",
     "metadata": {},
     "outputs": [
      {
       "html": [
        "<div style=\"max-height:1000px;max-width:1500px;overflow:auto;\">\n",
        "<table border=\"1\" class=\"dataframe\">\n",
        "  <thead>\n",
        "    <tr style=\"text-align: right;\">\n",
        "      <th></th>\n",
        "      <th>Id</th>\n",
        "      <th>Name</th>\n",
        "      <th>Date</th>\n",
        "      <th>Position</th>\n",
        "      <th>Opp</th>\n",
        "      <th>Result</th>\n",
        "      <th>MIN</th>\n",
        "      <th>FG</th>\n",
        "      <th>FGA</th>\n",
        "      <th>FG%</th>\n",
        "      <th>FG3</th>\n",
        "      <th>FG3A</th>\n",
        "      <th>FG3%</th>\n",
        "      <th>FT</th>\n",
        "      <th>FTA</th>\n",
        "      <th>FT%</th>\n",
        "      <th>OFF</th>\n",
        "      <th>REB</th>\n",
        "      <th>TREB</th>\n",
        "      <th>A</th>\n",
        "      <th>STL</th>\n",
        "      <th>BLK</th>\n",
        "      <th>TO</th>\n",
        "      <th>PF</th>\n",
        "      <th>PTS</th>\n",
        "    </tr>\n",
        "  </thead>\n",
        "  <tbody>\n",
        "    <tr>\n",
        "      <th>17259</th>\n",
        "      <td> 400553</td>\n",
        "      <td> LeBron James</td>\n",
        "      <td> 01/08</td>\n",
        "      <td> SF</td>\n",
        "      <td> IND</td>\n",
        "      <td>   L 77-87</td>\n",
        "      <td> 43</td>\n",
        "      <td> 10</td>\n",
        "      <td> 20</td>\n",
        "      <td> 0.500000</td>\n",
        "      <td> 1</td>\n",
        "      <td> 1</td>\n",
        "      <td> 1.000000</td>\n",
        "      <td> 1</td>\n",
        "      <td>  4</td>\n",
        "      <td> 0.250000</td>\n",
        "      <td> 3</td>\n",
        "      <td>  7</td>\n",
        "      <td> 10</td>\n",
        "      <td> 4</td>\n",
        "      <td> 1</td>\n",
        "      <td> 2</td>\n",
        "      <td> 7</td>\n",
        "      <td> 2</td>\n",
        "      <td> 22</td>\n",
        "    </tr>\n",
        "    <tr>\n",
        "      <th>17260</th>\n",
        "      <td> 400553</td>\n",
        "      <td> LeBron James</td>\n",
        "      <td> 11/12</td>\n",
        "      <td> SF</td>\n",
        "      <td> HOU</td>\n",
        "      <td> W 113-110</td>\n",
        "      <td> 40</td>\n",
        "      <td> 14</td>\n",
        "      <td> 26</td>\n",
        "      <td> 0.538462</td>\n",
        "      <td> 5</td>\n",
        "      <td> 8</td>\n",
        "      <td> 0.625000</td>\n",
        "      <td> 5</td>\n",
        "      <td>  8</td>\n",
        "      <td> 0.625000</td>\n",
        "      <td> 1</td>\n",
        "      <td>  9</td>\n",
        "      <td> 10</td>\n",
        "      <td> 6</td>\n",
        "      <td> 0</td>\n",
        "      <td> 0</td>\n",
        "      <td> 0</td>\n",
        "      <td> 1</td>\n",
        "      <td> 38</td>\n",
        "    </tr>\n",
        "    <tr>\n",
        "      <th>17261</th>\n",
        "      <td> 400553</td>\n",
        "      <td> LeBron James</td>\n",
        "      <td> 11/11</td>\n",
        "      <td> SF</td>\n",
        "      <td> MEM</td>\n",
        "      <td>  L 86-104</td>\n",
        "      <td> 36</td>\n",
        "      <td> 10</td>\n",
        "      <td> 19</td>\n",
        "      <td> 0.526316</td>\n",
        "      <td> 0</td>\n",
        "      <td> 1</td>\n",
        "      <td> 0.000000</td>\n",
        "      <td> 0</td>\n",
        "      <td>  4</td>\n",
        "      <td> 0.000000</td>\n",
        "      <td> 3</td>\n",
        "      <td>  7</td>\n",
        "      <td> 10</td>\n",
        "      <td> 6</td>\n",
        "      <td> 2</td>\n",
        "      <td> 1</td>\n",
        "      <td> 2</td>\n",
        "      <td> 2</td>\n",
        "      <td> 20</td>\n",
        "    </tr>\n",
        "    <tr>\n",
        "      <th>17262</th>\n",
        "      <td> 400553</td>\n",
        "      <td> LeBron James</td>\n",
        "      <td> 01/02</td>\n",
        "      <td> SF</td>\n",
        "      <td> DAL</td>\n",
        "      <td> W 119-109</td>\n",
        "      <td> 42</td>\n",
        "      <td> 11</td>\n",
        "      <td> 20</td>\n",
        "      <td> 0.550000</td>\n",
        "      <td> 1</td>\n",
        "      <td> 3</td>\n",
        "      <td> 0.333333</td>\n",
        "      <td> 9</td>\n",
        "      <td> 11</td>\n",
        "      <td> 0.818182</td>\n",
        "      <td> 1</td>\n",
        "      <td> 11</td>\n",
        "      <td> 12</td>\n",
        "      <td> 9</td>\n",
        "      <td> 3</td>\n",
        "      <td> 1</td>\n",
        "      <td> 4</td>\n",
        "      <td> 0</td>\n",
        "      <td> 32</td>\n",
        "    </tr>\n",
        "    <tr>\n",
        "      <th>17263</th>\n",
        "      <td> 400553</td>\n",
        "      <td> LeBron James</td>\n",
        "      <td> 11/17</td>\n",
        "      <td> SF</td>\n",
        "      <td> PHO</td>\n",
        "      <td>   W 97-88</td>\n",
        "      <td> 41</td>\n",
        "      <td>  8</td>\n",
        "      <td> 20</td>\n",
        "      <td> 0.400000</td>\n",
        "      <td> 1</td>\n",
        "      <td> 3</td>\n",
        "      <td> 0.333333</td>\n",
        "      <td> 4</td>\n",
        "      <td>  7</td>\n",
        "      <td> 0.571429</td>\n",
        "      <td> 0</td>\n",
        "      <td>  7</td>\n",
        "      <td>  7</td>\n",
        "      <td> 3</td>\n",
        "      <td> 2</td>\n",
        "      <td> 0</td>\n",
        "      <td> 1</td>\n",
        "      <td> 1</td>\n",
        "      <td> 21</td>\n",
        "    </tr>\n",
        "  </tbody>\n",
        "</table>\n",
        "</div>"
       ],
       "metadata": {},
       "output_type": "pyout",
       "prompt_number": 4,
       "text": [
        "           Id          Name   Date Position  Opp     Result  MIN  FG  FGA       FG%  FG3  FG3A      FG3%  FT  FTA       FT%  OFF  REB  TREB  A  STL  BLK  TO  PF  PTS\n",
        "17259  400553  LeBron James  01/08       SF  IND    L 77-87   43  10   20  0.500000    1     1  1.000000   1    4  0.250000    3    7    10  4    1    2   7   2   22\n",
        "17260  400553  LeBron James  11/12       SF  HOU  W 113-110   40  14   26  0.538462    5     8  0.625000   5    8  0.625000    1    9    10  6    0    0   0   1   38\n",
        "17261  400553  LeBron James  11/11       SF  MEM   L 86-104   36  10   19  0.526316    0     1  0.000000   0    4  0.000000    3    7    10  6    2    1   2   2   20\n",
        "17262  400553  LeBron James  01/02       SF  DAL  W 119-109   42  11   20  0.550000    1     3  0.333333   9   11  0.818182    1   11    12  9    3    1   4   0   32\n",
        "17263  400553  LeBron James  11/17       SF  PHO    W 97-88   41   8   20  0.400000    1     3  0.333333   4    7  0.571429    0    7     7  3    2    0   1   1   21"
       ]
      }
     ],
     "prompt_number": 4
    },
    {
     "cell_type": "markdown",
     "metadata": {},
     "source": [
      "To trim away uninformative (for our purposes, at least) data, let's get rid of all the rows with empty MIN (minutes played) numbers.  These are rows where the player did not enter the game.  (If a player entered the game but attempted 0 field goals, the row is kept.)"
     ]
    },
    {
     "cell_type": "code",
     "collapsed": false,
     "input": [
      "all_data = all_data[~all_data['MIN'].isnull()]"
     ],
     "language": "python",
     "metadata": {},
     "outputs": [],
     "prompt_number": 5
    },
    {
     "cell_type": "markdown",
     "metadata": {},
     "source": [
      "Finally, we split the data into regular and playoff data using the dates on which the regular season began and ended.  For the main statistical modeling portion of this project, we are only concerned with the regular season."
     ]
    },
    {
     "cell_type": "code",
     "collapsed": false,
     "input": [
      "#first we convert the dates to datetimes\n",
      "all_data['Date'] = pd.to_datetime(all_data['Date'])"
     ],
     "language": "python",
     "metadata": {},
     "outputs": [],
     "prompt_number": 6
    },
    {
     "cell_type": "code",
     "collapsed": false,
     "input": [
      "#next, we'll filter out the playoffs\n",
      "\n",
      "#the first mask grabs dates from October 2012 (it's coded as 2013 for convenience and produces correct results.)\n",
      "mask = (all_data['Date'] > '2013-10-01') | (all_data['Date'] < '2013-04-20')\n",
      "\n",
      "#this second masks grabs only the dates for playoff games\n",
      "playoff_mask = (all_data['Date'] < '2013-10-01') & (all_data['Date'] > '2013-04-20')\n",
      "\n",
      "#rseason means 'regular season'\n",
      "rseason = all_data[mask]\n",
      "\n",
      "#pseason means 'playoff season'\n",
      "pseason = all_data[playoff_mask]"
     ],
     "language": "python",
     "metadata": {},
     "outputs": [],
     "prompt_number": 7
    },
    {
     "cell_type": "code",
     "collapsed": false,
     "input": [
      "rseason.head()"
     ],
     "language": "python",
     "metadata": {},
     "outputs": [
      {
       "html": [
        "<div style=\"max-height:1000px;max-width:1500px;overflow:auto;\">\n",
        "<table border=\"1\" class=\"dataframe\">\n",
        "  <thead>\n",
        "    <tr style=\"text-align: right;\">\n",
        "      <th></th>\n",
        "      <th>Id</th>\n",
        "      <th>Name</th>\n",
        "      <th>Date</th>\n",
        "      <th>Position</th>\n",
        "      <th>Opp</th>\n",
        "      <th>Result</th>\n",
        "      <th>MIN</th>\n",
        "      <th>FG</th>\n",
        "      <th>FGA</th>\n",
        "      <th>FG%</th>\n",
        "      <th>FG3</th>\n",
        "      <th>FG3A</th>\n",
        "      <th>FG3%</th>\n",
        "      <th>FT</th>\n",
        "      <th>FTA</th>\n",
        "      <th>FT%</th>\n",
        "      <th>OFF</th>\n",
        "      <th>REB</th>\n",
        "      <th>TREB</th>\n",
        "      <th>A</th>\n",
        "      <th>STL</th>\n",
        "      <th>BLK</th>\n",
        "      <th>TO</th>\n",
        "      <th>PF</th>\n",
        "      <th>PTS</th>\n",
        "    </tr>\n",
        "  </thead>\n",
        "  <tbody>\n",
        "    <tr>\n",
        "      <th>5 </th>\n",
        "      <td> 1992779</td>\n",
        "      <td> Quincy Acy</td>\n",
        "      <td>2013-11-17 00:00:00</td>\n",
        "      <td> SF</td>\n",
        "      <td> BOS</td>\n",
        "      <td>  L 89-107</td>\n",
        "      <td> 12</td>\n",
        "      <td> 1</td>\n",
        "      <td> 1</td>\n",
        "      <td> 1.000000</td>\n",
        "      <td> 0</td>\n",
        "      <td> 0</td>\n",
        "      <td>NaN</td>\n",
        "      <td> 4</td>\n",
        "      <td> 4</td>\n",
        "      <td>  1</td>\n",
        "      <td> 2</td>\n",
        "      <td> 2</td>\n",
        "      <td> 4</td>\n",
        "      <td> 0</td>\n",
        "      <td> 2</td>\n",
        "      <td> 1</td>\n",
        "      <td> 0</td>\n",
        "      <td> 0</td>\n",
        "      <td> 6</td>\n",
        "    </tr>\n",
        "    <tr>\n",
        "      <th>6 </th>\n",
        "      <td> 1992779</td>\n",
        "      <td> Quincy Acy</td>\n",
        "      <td>2013-01-04 00:00:00</td>\n",
        "      <td> SF</td>\n",
        "      <td> SAC</td>\n",
        "      <td>  L 96-105</td>\n",
        "      <td> 12</td>\n",
        "      <td> 0</td>\n",
        "      <td> 2</td>\n",
        "      <td> 0.000000</td>\n",
        "      <td> 0</td>\n",
        "      <td> 0</td>\n",
        "      <td>NaN</td>\n",
        "      <td> 0</td>\n",
        "      <td> 0</td>\n",
        "      <td>NaN</td>\n",
        "      <td> 4</td>\n",
        "      <td> 1</td>\n",
        "      <td> 5</td>\n",
        "      <td> 0</td>\n",
        "      <td> 0</td>\n",
        "      <td> 0</td>\n",
        "      <td> 1</td>\n",
        "      <td> 3</td>\n",
        "      <td> 0</td>\n",
        "    </tr>\n",
        "    <tr>\n",
        "      <th>7 </th>\n",
        "      <td> 1992779</td>\n",
        "      <td> Quincy Acy</td>\n",
        "      <td>2013-01-06 00:00:00</td>\n",
        "      <td> SF</td>\n",
        "      <td> OKC</td>\n",
        "      <td>  L 92-104</td>\n",
        "      <td>  3</td>\n",
        "      <td> 1</td>\n",
        "      <td> 1</td>\n",
        "      <td> 1.000000</td>\n",
        "      <td> 0</td>\n",
        "      <td> 0</td>\n",
        "      <td>NaN</td>\n",
        "      <td> 4</td>\n",
        "      <td> 4</td>\n",
        "      <td>  1</td>\n",
        "      <td> 0</td>\n",
        "      <td> 1</td>\n",
        "      <td> 1</td>\n",
        "      <td> 0</td>\n",
        "      <td> 1</td>\n",
        "      <td> 0</td>\n",
        "      <td> 0</td>\n",
        "      <td> 0</td>\n",
        "      <td> 6</td>\n",
        "    </tr>\n",
        "    <tr>\n",
        "      <th>13</th>\n",
        "      <td> 1992779</td>\n",
        "      <td> Quincy Acy</td>\n",
        "      <td>2013-01-18 00:00:00</td>\n",
        "      <td> SF</td>\n",
        "      <td> PHI</td>\n",
        "      <td> L 101-108</td>\n",
        "      <td> 15</td>\n",
        "      <td> 2</td>\n",
        "      <td> 3</td>\n",
        "      <td> 0.666667</td>\n",
        "      <td> 0</td>\n",
        "      <td> 0</td>\n",
        "      <td>NaN</td>\n",
        "      <td> 0</td>\n",
        "      <td> 0</td>\n",
        "      <td>NaN</td>\n",
        "      <td> 2</td>\n",
        "      <td> 1</td>\n",
        "      <td> 3</td>\n",
        "      <td> 0</td>\n",
        "      <td> 0</td>\n",
        "      <td> 1</td>\n",
        "      <td> 1</td>\n",
        "      <td> 5</td>\n",
        "      <td> 4</td>\n",
        "    </tr>\n",
        "    <tr>\n",
        "      <th>14</th>\n",
        "      <td> 1992779</td>\n",
        "      <td> Quincy Acy</td>\n",
        "      <td>2013-01-02 00:00:00</td>\n",
        "      <td> SF</td>\n",
        "      <td> POR</td>\n",
        "      <td>  W 102-79</td>\n",
        "      <td>  5</td>\n",
        "      <td> 0</td>\n",
        "      <td> 0</td>\n",
        "      <td>      NaN</td>\n",
        "      <td> 0</td>\n",
        "      <td> 0</td>\n",
        "      <td>NaN</td>\n",
        "      <td> 2</td>\n",
        "      <td> 2</td>\n",
        "      <td>  1</td>\n",
        "      <td> 0</td>\n",
        "      <td> 0</td>\n",
        "      <td> 0</td>\n",
        "      <td> 0</td>\n",
        "      <td> 0</td>\n",
        "      <td> 1</td>\n",
        "      <td> 0</td>\n",
        "      <td> 2</td>\n",
        "      <td> 2</td>\n",
        "    </tr>\n",
        "  </tbody>\n",
        "</table>\n",
        "</div>"
       ],
       "metadata": {},
       "output_type": "pyout",
       "prompt_number": 8,
       "text": [
        "         Id        Name                Date Position  Opp     Result  MIN  FG  FGA       FG%  FG3  FG3A  FG3%  FT  FTA  FT%  OFF  REB  TREB  A  STL  BLK  TO  PF  PTS\n",
        "5   1992779  Quincy Acy 2013-11-17 00:00:00       SF  BOS   L 89-107   12   1    1  1.000000    0     0   NaN   4    4    1    2    2     4  0    2    1   0   0    6\n",
        "6   1992779  Quincy Acy 2013-01-04 00:00:00       SF  SAC   L 96-105   12   0    2  0.000000    0     0   NaN   0    0  NaN    4    1     5  0    0    0   1   3    0\n",
        "7   1992779  Quincy Acy 2013-01-06 00:00:00       SF  OKC   L 92-104    3   1    1  1.000000    0     0   NaN   4    4    1    0    1     1  0    1    0   0   0    6\n",
        "13  1992779  Quincy Acy 2013-01-18 00:00:00       SF  PHI  L 101-108   15   2    3  0.666667    0     0   NaN   0    0  NaN    2    1     3  0    0    1   1   5    4\n",
        "14  1992779  Quincy Acy 2013-01-02 00:00:00       SF  POR   W 102-79    5   0    0       NaN    0     0   NaN   2    2    1    0    0     0  0    0    1   0   2    2"
       ]
      }
     ],
     "prompt_number": 8
    },
    {
     "cell_type": "code",
     "collapsed": false,
     "input": [
      "pseason.head()"
     ],
     "language": "python",
     "metadata": {},
     "outputs": [
      {
       "html": [
        "<div style=\"max-height:1000px;max-width:1500px;overflow:auto;\">\n",
        "<table border=\"1\" class=\"dataframe\">\n",
        "  <thead>\n",
        "    <tr style=\"text-align: right;\">\n",
        "      <th></th>\n",
        "      <th>Id</th>\n",
        "      <th>Name</th>\n",
        "      <th>Date</th>\n",
        "      <th>Position</th>\n",
        "      <th>Opp</th>\n",
        "      <th>Result</th>\n",
        "      <th>MIN</th>\n",
        "      <th>FG</th>\n",
        "      <th>FGA</th>\n",
        "      <th>FG%</th>\n",
        "      <th>FG3</th>\n",
        "      <th>FG3A</th>\n",
        "      <th>FG3%</th>\n",
        "      <th>FT</th>\n",
        "      <th>FTA</th>\n",
        "      <th>FT%</th>\n",
        "      <th>OFF</th>\n",
        "      <th>REB</th>\n",
        "      <th>TREB</th>\n",
        "      <th>A</th>\n",
        "      <th>STL</th>\n",
        "      <th>BLK</th>\n",
        "      <th>TO</th>\n",
        "      <th>PF</th>\n",
        "      <th>PTS</th>\n",
        "    </tr>\n",
        "  </thead>\n",
        "  <tbody>\n",
        "    <tr>\n",
        "      <th>495</th>\n",
        "      <td> 6457</td>\n",
        "      <td> Ray Allen</td>\n",
        "      <td>2013-05-22 00:00:00</td>\n",
        "      <td> SG</td>\n",
        "      <td> IND</td>\n",
        "      <td> W 103-102</td>\n",
        "      <td> 22</td>\n",
        "      <td> 1</td>\n",
        "      <td>  8</td>\n",
        "      <td> 0.125000</td>\n",
        "      <td> 1</td>\n",
        "      <td> 4</td>\n",
        "      <td> 0.250000</td>\n",
        "      <td> 1</td>\n",
        "      <td> 2</td>\n",
        "      <td> 0.5</td>\n",
        "      <td> 0</td>\n",
        "      <td> 2</td>\n",
        "      <td> 2</td>\n",
        "      <td> 0</td>\n",
        "      <td> 0</td>\n",
        "      <td> 0</td>\n",
        "      <td> 1</td>\n",
        "      <td> 1</td>\n",
        "      <td>  4</td>\n",
        "    </tr>\n",
        "    <tr>\n",
        "      <th>496</th>\n",
        "      <td> 6457</td>\n",
        "      <td> Ray Allen</td>\n",
        "      <td>2013-05-26 00:00:00</td>\n",
        "      <td> SG</td>\n",
        "      <td> IND</td>\n",
        "      <td>  W 114-96</td>\n",
        "      <td> 19</td>\n",
        "      <td> 2</td>\n",
        "      <td>  6</td>\n",
        "      <td> 0.333333</td>\n",
        "      <td> 2</td>\n",
        "      <td> 4</td>\n",
        "      <td> 0.500000</td>\n",
        "      <td> 0</td>\n",
        "      <td> 0</td>\n",
        "      <td> NaN</td>\n",
        "      <td> 1</td>\n",
        "      <td> 0</td>\n",
        "      <td> 1</td>\n",
        "      <td> 2</td>\n",
        "      <td> 1</td>\n",
        "      <td> 1</td>\n",
        "      <td> 1</td>\n",
        "      <td> 4</td>\n",
        "      <td>  6</td>\n",
        "    </tr>\n",
        "    <tr>\n",
        "      <th>497</th>\n",
        "      <td> 6457</td>\n",
        "      <td> Ray Allen</td>\n",
        "      <td>2013-05-24 00:00:00</td>\n",
        "      <td> SG</td>\n",
        "      <td> IND</td>\n",
        "      <td>   L 93-97</td>\n",
        "      <td> 21</td>\n",
        "      <td> 2</td>\n",
        "      <td>  5</td>\n",
        "      <td> 0.400000</td>\n",
        "      <td> 0</td>\n",
        "      <td> 2</td>\n",
        "      <td> 0.000000</td>\n",
        "      <td> 2</td>\n",
        "      <td> 4</td>\n",
        "      <td> 0.5</td>\n",
        "      <td> 0</td>\n",
        "      <td> 3</td>\n",
        "      <td> 3</td>\n",
        "      <td> 0</td>\n",
        "      <td> 0</td>\n",
        "      <td> 0</td>\n",
        "      <td> 1</td>\n",
        "      <td> 1</td>\n",
        "      <td>  6</td>\n",
        "    </tr>\n",
        "    <tr>\n",
        "      <th>498</th>\n",
        "      <td> 6457</td>\n",
        "      <td> Ray Allen</td>\n",
        "      <td>2013-05-28 00:00:00</td>\n",
        "      <td> SG</td>\n",
        "      <td> IND</td>\n",
        "      <td>   L 92-99</td>\n",
        "      <td> 32</td>\n",
        "      <td> 4</td>\n",
        "      <td> 13</td>\n",
        "      <td> 0.307692</td>\n",
        "      <td> 2</td>\n",
        "      <td> 7</td>\n",
        "      <td> 0.285714</td>\n",
        "      <td> 1</td>\n",
        "      <td> 1</td>\n",
        "      <td> 1.0</td>\n",
        "      <td> 1</td>\n",
        "      <td> 6</td>\n",
        "      <td> 7</td>\n",
        "      <td> 1</td>\n",
        "      <td> 1</td>\n",
        "      <td> 0</td>\n",
        "      <td> 1</td>\n",
        "      <td> 1</td>\n",
        "      <td> 11</td>\n",
        "    </tr>\n",
        "    <tr>\n",
        "      <th>500</th>\n",
        "      <td> 6457</td>\n",
        "      <td> Ray Allen</td>\n",
        "      <td>2013-04-21 00:00:00</td>\n",
        "      <td> SG</td>\n",
        "      <td> MIL</td>\n",
        "      <td>  W 110-87</td>\n",
        "      <td> 29</td>\n",
        "      <td> 6</td>\n",
        "      <td> 13</td>\n",
        "      <td> 0.461538</td>\n",
        "      <td> 2</td>\n",
        "      <td> 8</td>\n",
        "      <td> 0.250000</td>\n",
        "      <td> 6</td>\n",
        "      <td> 6</td>\n",
        "      <td> 1.0</td>\n",
        "      <td> 2</td>\n",
        "      <td> 3</td>\n",
        "      <td> 5</td>\n",
        "      <td> 3</td>\n",
        "      <td> 2</td>\n",
        "      <td> 0</td>\n",
        "      <td> 3</td>\n",
        "      <td> 0</td>\n",
        "      <td> 20</td>\n",
        "    </tr>\n",
        "  </tbody>\n",
        "</table>\n",
        "</div>"
       ],
       "metadata": {},
       "output_type": "pyout",
       "prompt_number": 9,
       "text": [
        "       Id       Name                Date Position  Opp     Result  MIN  FG  FGA       FG%  FG3  FG3A      FG3%  FT  FTA  FT%  OFF  REB  TREB  A  STL  BLK  TO  PF  PTS\n",
        "495  6457  Ray Allen 2013-05-22 00:00:00       SG  IND  W 103-102   22   1    8  0.125000    1     4  0.250000   1    2  0.5    0    2     2  0    0    0   1   1    4\n",
        "496  6457  Ray Allen 2013-05-26 00:00:00       SG  IND   W 114-96   19   2    6  0.333333    2     4  0.500000   0    0  NaN    1    0     1  2    1    1   1   4    6\n",
        "497  6457  Ray Allen 2013-05-24 00:00:00       SG  IND    L 93-97   21   2    5  0.400000    0     2  0.000000   2    4  0.5    0    3     3  0    0    0   1   1    6\n",
        "498  6457  Ray Allen 2013-05-28 00:00:00       SG  IND    L 92-99   32   4   13  0.307692    2     7  0.285714   1    1  1.0    1    6     7  1    1    0   1   1   11\n",
        "500  6457  Ray Allen 2013-04-21 00:00:00       SG  MIL   W 110-87   29   6   13  0.461538    2     8  0.250000   6    6  1.0    2    3     5  3    2    0   3   0   20"
       ]
      }
     ],
     "prompt_number": 9
    },
    {
     "cell_type": "markdown",
     "metadata": {},
     "source": [
      "Excellent! We have all the data, it is clean and usable, and split into regular and playoff season subsets."
     ]
    },
    {
     "cell_type": "heading",
     "level": 2,
     "metadata": {},
     "source": [
      "Exploratory Data Analysis"
     ]
    },
    {
     "cell_type": "markdown",
     "metadata": {},
     "source": [
      "Now that we've gathered and cleaned data, let's explore it! We're curious to see how \"explainable\" vs. \"random/disorganized\" the data look."
     ]
    },
    {
     "cell_type": "heading",
     "level": 4,
     "metadata": {},
     "source": [
      "Distributions of Field Goal % for All Players"
     ]
    },
    {
     "cell_type": "markdown",
     "metadata": {},
     "source": [
      "First, let's look at the average field goal percentage for all players. We'll start by creating groupby objects so we aggregate all scores for the season for each player."
     ]
    },
    {
     "cell_type": "code",
     "collapsed": false,
     "input": [
      "#Notice that we group by both Id and Name. This allows us to retain the name in the groupby while using the unique Ids to aggregate \n",
      "#by. We group by both mean and sum to make available both measures when needed later.\n",
      "id_groupby = all_data.groupby(['Id', 'Name'], as_index = False).mean()\n",
      "id_groupby_sum = all_data.groupby(['Id', 'Name']).sum()\n",
      "rseason_id_groupby = rseason.groupby(['Id', 'Name']).mean()\n",
      "rseason_id_groupby_sum = rseason.groupby(['Id', 'Name']).sum()"
     ],
     "language": "python",
     "metadata": {},
     "outputs": [],
     "prompt_number": 10
    },
    {
     "cell_type": "markdown",
     "metadata": {},
     "source": [
      "Now that the data is grouped by Player ID, let's take a look to see what the data looks like."
     ]
    },
    {
     "cell_type": "code",
     "collapsed": false,
     "input": [
      "id_groupby.head()"
     ],
     "language": "python",
     "metadata": {},
     "outputs": [
      {
       "html": [
        "<div style=\"max-height:1000px;max-width:1500px;overflow:auto;\">\n",
        "<table border=\"1\" class=\"dataframe\">\n",
        "  <thead>\n",
        "    <tr style=\"text-align: right;\">\n",
        "      <th></th>\n",
        "      <th>Id</th>\n",
        "      <th>Name</th>\n",
        "      <th>MIN</th>\n",
        "      <th>FG</th>\n",
        "      <th>FGA</th>\n",
        "      <th>FG%</th>\n",
        "      <th>FG3</th>\n",
        "      <th>FG3A</th>\n",
        "      <th>FG3%</th>\n",
        "      <th>FT</th>\n",
        "      <th>FTA</th>\n",
        "      <th>FT%</th>\n",
        "      <th>OFF</th>\n",
        "      <th>REB</th>\n",
        "      <th>TREB</th>\n",
        "      <th>A</th>\n",
        "      <th>STL</th>\n",
        "      <th>BLK</th>\n",
        "      <th>TO</th>\n",
        "      <th>PF</th>\n",
        "      <th>PTS</th>\n",
        "    </tr>\n",
        "  </thead>\n",
        "  <tbody>\n",
        "    <tr>\n",
        "      <th>0</th>\n",
        "      <td> 6457</td>\n",
        "      <td>        Ray Allen</td>\n",
        "      <td> 25.539216</td>\n",
        "      <td> 3.588235</td>\n",
        "      <td>  8.068627</td>\n",
        "      <td> 0.445302</td>\n",
        "      <td> 1.745098</td>\n",
        "      <td> 4.196078</td>\n",
        "      <td> 0.406698</td>\n",
        "      <td> 1.833333</td>\n",
        "      <td> 2.078431</td>\n",
        "      <td> 0.887374</td>\n",
        "      <td> 0.519608</td>\n",
        "      <td> 2.235294</td>\n",
        "      <td>  2.754902</td>\n",
        "      <td> 1.607843</td>\n",
        "      <td> 0.774510</td>\n",
        "      <td> 0.176471</td>\n",
        "      <td> 1.274510</td>\n",
        "      <td> 1.676471</td>\n",
        "      <td> 10.754902</td>\n",
        "    </tr>\n",
        "    <tr>\n",
        "      <th>1</th>\n",
        "      <td> 6480</td>\n",
        "      <td> Chauncey Billups</td>\n",
        "      <td> 19.035714</td>\n",
        "      <td> 2.285714</td>\n",
        "      <td>  6.000000</td>\n",
        "      <td> 0.354663</td>\n",
        "      <td> 1.392857</td>\n",
        "      <td> 3.821429</td>\n",
        "      <td> 0.353351</td>\n",
        "      <td> 1.928571</td>\n",
        "      <td> 2.107143</td>\n",
        "      <td> 0.908113</td>\n",
        "      <td> 0.142857</td>\n",
        "      <td> 1.428571</td>\n",
        "      <td>  1.571429</td>\n",
        "      <td> 1.964286</td>\n",
        "      <td> 0.464286</td>\n",
        "      <td> 0.071429</td>\n",
        "      <td> 1.214286</td>\n",
        "      <td> 1.250000</td>\n",
        "      <td>  7.892857</td>\n",
        "    </tr>\n",
        "    <tr>\n",
        "      <th>2</th>\n",
        "      <td> 6496</td>\n",
        "      <td>      Kobe Bryant</td>\n",
        "      <td> 38.692308</td>\n",
        "      <td> 9.461538</td>\n",
        "      <td> 20.448718</td>\n",
        "      <td> 0.462342</td>\n",
        "      <td> 1.692308</td>\n",
        "      <td> 5.217949</td>\n",
        "      <td> 0.283980</td>\n",
        "      <td> 6.730769</td>\n",
        "      <td> 8.025641</td>\n",
        "      <td> 0.830037</td>\n",
        "      <td> 0.846154</td>\n",
        "      <td> 4.705128</td>\n",
        "      <td>  5.551282</td>\n",
        "      <td> 6.012821</td>\n",
        "      <td> 1.358974</td>\n",
        "      <td> 0.320513</td>\n",
        "      <td> 3.679487</td>\n",
        "      <td> 2.217949</td>\n",
        "      <td> 27.346154</td>\n",
        "    </tr>\n",
        "    <tr>\n",
        "      <th>3</th>\n",
        "      <td> 6505</td>\n",
        "      <td>     Marcus Camby</td>\n",
        "      <td>  9.407407</td>\n",
        "      <td> 0.666667</td>\n",
        "      <td>  2.000000</td>\n",
        "      <td> 0.386243</td>\n",
        "      <td> 0.000000</td>\n",
        "      <td> 0.000000</td>\n",
        "      <td>      NaN</td>\n",
        "      <td> 0.296296</td>\n",
        "      <td> 0.703704</td>\n",
        "      <td> 0.444444</td>\n",
        "      <td> 0.925926</td>\n",
        "      <td> 2.111111</td>\n",
        "      <td>  3.037037</td>\n",
        "      <td> 0.518519</td>\n",
        "      <td> 0.259259</td>\n",
        "      <td> 0.518519</td>\n",
        "      <td> 0.592593</td>\n",
        "      <td> 1.074074</td>\n",
        "      <td>  1.629630</td>\n",
        "    </tr>\n",
        "    <tr>\n",
        "      <th>4</th>\n",
        "      <td> 6552</td>\n",
        "      <td>       Tim Duncan</td>\n",
        "      <td> 31.255556</td>\n",
        "      <td> 7.122222</td>\n",
        "      <td> 14.411111</td>\n",
        "      <td> 0.492060</td>\n",
        "      <td> 0.022222</td>\n",
        "      <td> 0.088889</td>\n",
        "      <td> 0.250000</td>\n",
        "      <td> 3.600000</td>\n",
        "      <td> 4.422222</td>\n",
        "      <td> 0.814476</td>\n",
        "      <td> 1.988889</td>\n",
        "      <td> 8.011111</td>\n",
        "      <td> 10.000000</td>\n",
        "      <td> 2.488889</td>\n",
        "      <td> 0.755556</td>\n",
        "      <td> 2.411111</td>\n",
        "      <td> 2.100000</td>\n",
        "      <td> 1.888889</td>\n",
        "      <td> 17.866667</td>\n",
        "    </tr>\n",
        "  </tbody>\n",
        "</table>\n",
        "</div>"
       ],
       "metadata": {},
       "output_type": "pyout",
       "prompt_number": 11,
       "text": [
        "     Id              Name        MIN        FG        FGA       FG%       FG3      FG3A      FG3%        FT       FTA       FT%       OFF       REB       TREB         A       STL       BLK        TO        PF        PTS\n",
        "0  6457         Ray Allen  25.539216  3.588235   8.068627  0.445302  1.745098  4.196078  0.406698  1.833333  2.078431  0.887374  0.519608  2.235294   2.754902  1.607843  0.774510  0.176471  1.274510  1.676471  10.754902\n",
        "1  6480  Chauncey Billups  19.035714  2.285714   6.000000  0.354663  1.392857  3.821429  0.353351  1.928571  2.107143  0.908113  0.142857  1.428571   1.571429  1.964286  0.464286  0.071429  1.214286  1.250000   7.892857\n",
        "2  6496       Kobe Bryant  38.692308  9.461538  20.448718  0.462342  1.692308  5.217949  0.283980  6.730769  8.025641  0.830037  0.846154  4.705128   5.551282  6.012821  1.358974  0.320513  3.679487  2.217949  27.346154\n",
        "3  6505      Marcus Camby   9.407407  0.666667   2.000000  0.386243  0.000000  0.000000       NaN  0.296296  0.703704  0.444444  0.925926  2.111111   3.037037  0.518519  0.259259  0.518519  0.592593  1.074074   1.629630\n",
        "4  6552        Tim Duncan  31.255556  7.122222  14.411111  0.492060  0.022222  0.088889  0.250000  3.600000  4.422222  0.814476  1.988889  8.011111  10.000000  2.488889  0.755556  2.411111  2.100000  1.888889  17.866667"
       ]
      }
     ],
     "prompt_number": 11
    },
    {
     "cell_type": "markdown",
     "metadata": {},
     "source": [
      "This looks great - just from these few rows, we can already see several data points that confirm known facts.\n",
      "\n",
      "1. Ray Allen, one of the NBA's best 3-point shooters, has a high FG3%.\n",
      "2. Kobe Bryant, the longtime workhorse for the Los Angeles Lakers, has an extremely high average number of minutes played (MIN) and average number of points (PTS).\n",
      "3. Marcus Camby, a defensive-minded center, shoots free throws poorly (FT%) but does fairly well in average blocks (BLK).\n",
      "4. Tim Duncan, a great player nicknamed the Big Fundamental, has high averages for points (PTS), rebounds (TREB), and blocks (BLK).\n",
      "\n",
      "Let's visualize the data by plotting some charts."
     ]
    },
    {
     "cell_type": "code",
     "collapsed": false,
     "input": [
      "fg_all = id_groupby.copy()\n",
      "\n",
      "#Need to make sure there are only people who actually attempted field goals included\n",
      "fg_all = fg_all[~fg_all['FG%'].isnull()]\n",
      "\n",
      "plt.hist(fg_all['FG%'], bins = 50)\n",
      "\n",
      "#plot a mean and median line to look for possible skewing\n",
      "plt.axvline(fg_all['FG%'].median(), color = 'b', label = 'Median')\n",
      "plt.axvline(fg_all['FG%'].mean(), color = 'r', label = 'Mean')\n",
      "plt.title('FG% All Players Regular Season Plus Postseason')\n",
      "plt.xlabel('Field Goal %')\n",
      "plt.legend(loc = 1)\n",
      "remove_border()\n",
      "plt.show()\n",
      "\n",
      "print \"Median is: \", fg_all['FG%'].median()\n",
      "print \"Mean is: \", fg_all['FG%'].mean()\n",
      "print \"Variance is: \", fg_all['FG%'].var()"
     ],
     "language": "python",
     "metadata": {},
     "outputs": [
      {
       "metadata": {},
       "output_type": "display_data",
       "png": "[encoded data removed]",
       "text": [
        "<matplotlib.figure.Figure at 0x8e19b38>"
       ]
      },
      {
       "output_type": "stream",
       "stream": "stdout",
       "text": [
        "Median is:  0.422766369641\n",
        "Mean is:  0.420096065512\n",
        "Variance is:  0.0101904015615\n"
       ]
      }
     ],
     "prompt_number": 12
    },
    {
     "cell_type": "markdown",
     "metadata": {},
     "source": [
      "The shape of the above distribution is surprisingly well-behaved. It is unimodal and relatively symmetric, resembling a Normal (Gaussian) distribution.  A handful of players shot 0% and 100% - they likely attempted only a few shots (otherwise, they'd be extremely bad or extremely great shooters!).\n",
      "\n",
      "Postseason play is considered slightly different from regular season play.  Not only are there fewer teams (meaning fewer players), but also, player rotations are shortened and the pace of play is often slower.  For instance, a team that regularly plays 10-11 players during regular season games may only play 8 during the postseason.\n",
      "\n",
      "What does the distribution of FG% look like for just the regular season?"
     ]
    },
    {
     "cell_type": "code",
     "collapsed": false,
     "input": [
      "rseason_id_groupby = rseason.groupby(['Id', 'Name']).mean()\n",
      "#Need to make sure there are only people who actually attempted field goals included\n",
      "rseason_id_groupby = rseason_id_groupby[~rseason_id_groupby['FG%'].isnull()]\n",
      "\n",
      "plt.hist(rseason_id_groupby['FG%'], bins = 50)\n",
      "\n",
      "#plot a mean and median line to look for possible skewing\n",
      "plt.axvline(rseason_id_groupby['FG%'].median(), color = 'b', label = 'Median')\n",
      "plt.axvline(rseason_id_groupby['FG%'].mean(), color = 'r', label = 'Mean')\n",
      "plt.title('FG% All Players Regular Season')\n",
      "plt.xlabel('Field Goal %')\n",
      "plt.legend(loc = 1)\n",
      "remove_border()\n",
      "plt.show()\n",
      "\n",
      "print \"Median is: \", rseason_id_groupby['FG%'].median()\n",
      "print \"Mean is: \", rseason_id_groupby['FG%'].mean()\n",
      "print \"Variance is: \", rseason_id_groupby['FG%'].var()"
     ],
     "language": "python",
     "metadata": {},
     "outputs": [
      {
       "metadata": {},
       "output_type": "display_data",
       "png": "[encoded data removed]",
       "text": [
        "<matplotlib.figure.Figure at 0xa190198>"
       ]
      },
      {
       "output_type": "stream",
       "stream": "stdout",
       "text": [
        "Median is:  0.425490085642\n",
        "Mean is:  0.420811400065\n",
        "Variance is:  0.0104209149318\n"
       ]
      }
     ],
     "prompt_number": 13
    },
    {
     "cell_type": "markdown",
     "metadata": {},
     "source": [
      "Again, the distribution seems well-behaved: unimodal and symmetric, and approximately Normal.  This is not suprising, since the regular season comprised the bulk of the first histogram (regular season plus postseason).\n",
      "\n",
      "Lastly, let's take a look at the playoffs."
     ]
    },
    {
     "cell_type": "code",
     "collapsed": false,
     "input": [
      "pseason_id_groupby = pseason.groupby(['Id', 'Name']).mean()\n",
      "#Need to make sure there are only people who actually attempted field goals included\n",
      "pseason_id_groupby = pseason_id_groupby[~pseason_id_groupby['FG%'].isnull()]\n",
      "\n",
      "plt.hist(pseason_id_groupby['FG%'], bins = 50)\n",
      "\n",
      "#plot a mean and median line to look for possible skewing\n",
      "plt.axvline(pseason_id_groupby['FG%'].median(), color = 'b', label = 'Median')\n",
      "plt.axvline(pseason_id_groupby['FG%'].mean(), color = 'r', label = 'Mean')\n",
      "plt.title('FG% All Players Postseason')\n",
      "plt.xlabel('Field Goal %')\n",
      "plt.legend(loc = 1)\n",
      "remove_border()\n",
      "plt.show()\n",
      "\n",
      "print \"Median is: \", pseason_id_groupby['FG%'].median()\n",
      "print \"Mean is: \", pseason_id_groupby['FG%'].mean()\n",
      "print \"Variance is: \", pseason_id_groupby['FG%'].var()"
     ],
     "language": "python",
     "metadata": {},
     "outputs": [
      {
       "metadata": {},
       "output_type": "display_data",
       "png": "[encoded data removed]",
       "text": [
        "<matplotlib.figure.Figure at 0x2ea6a20>"
       ]
      },
      {
       "output_type": "stream",
       "stream": "stdout",
       "text": [
        "Median is:  0.433507492866\n",
        "Mean is:  0.414409755499\n",
        "Variance is:  0.0285192611909\n"
       ]
      }
     ],
     "prompt_number": 14
    },
    {
     "cell_type": "markdown",
     "metadata": {},
     "source": [
      "This distribution still seems fairly unimodal and symmetric, but it is much \"patchier.\" There is considerably more variance in the aggregate FG% scores and as expected, the histogram is less smooth (because of smaller sample size - this dataset only includes players who played in the playoffs.  Usually less than half of NBA players will play in the playoffs in a given year). There also seems to be some some slight skew right as the mean is pulled away from the median toward 0. This makes sense as there are a fairly large number of players with postseason FG percentages of 0.  Since there are fewer games and the pace of play is often slower in the playoffs, FG% values become more erratic because of the small sample sizes."
     ]
    },
    {
     "cell_type": "heading",
     "level": 4,
     "metadata": {},
     "source": [
      "Distributions of Field Goal % for Top NBA Players"
     ]
    },
    {
     "cell_type": "markdown",
     "metadata": {},
     "source": [
      "Let's take a look at the top 5 players according to season average FG%."
     ]
    },
    {
     "cell_type": "code",
     "collapsed": false,
     "input": [
      "fg_sorted = id_groupby[['Name','FG%']].copy()\n",
      "fg_sorted.sort(columns = 'FG%', ascending=False, inplace = True)\n",
      "fg_sorted = fg_sorted[~fg_sorted['FG%'].isnull()]\n",
      "fg_sorted.head()"
     ],
     "language": "python",
     "metadata": {},
     "outputs": [
      {
       "html": [
        "<div style=\"max-height:1000px;max-width:1500px;overflow:auto;\">\n",
        "<table border=\"1\" class=\"dataframe\">\n",
        "  <thead>\n",
        "    <tr style=\"text-align: right;\">\n",
        "      <th></th>\n",
        "      <th>Name</th>\n",
        "      <th>FG%</th>\n",
        "    </tr>\n",
        "  </thead>\n",
        "  <tbody>\n",
        "    <tr>\n",
        "      <th>398</th>\n",
        "      <td>        Julyan Stone</td>\n",
        "      <td> 1.000000</td>\n",
        "    </tr>\n",
        "    <tr>\n",
        "      <th>72 </th>\n",
        "      <td>        Chris Wilcox</td>\n",
        "      <td> 0.739024</td>\n",
        "    </tr>\n",
        "    <tr>\n",
        "      <th>448</th>\n",
        "      <td> Viacheslav Kravtsov</td>\n",
        "      <td> 0.722619</td>\n",
        "    </tr>\n",
        "    <tr>\n",
        "      <th>43 </th>\n",
        "      <td>          Eddy Curry</td>\n",
        "      <td> 0.714286</td>\n",
        "    </tr>\n",
        "    <tr>\n",
        "      <th>388</th>\n",
        "      <td>       Chris Johnson</td>\n",
        "      <td> 0.684058</td>\n",
        "    </tr>\n",
        "  </tbody>\n",
        "</table>\n",
        "</div>"
       ],
       "metadata": {},
       "output_type": "pyout",
       "prompt_number": 15,
       "text": [
        "                    Name       FG%\n",
        "398         Julyan Stone  1.000000\n",
        "72          Chris Wilcox  0.739024\n",
        "448  Viacheslav Kravtsov  0.722619\n",
        "43            Eddy Curry  0.714286\n",
        "388        Chris Johnson  0.684058"
       ]
      }
     ],
     "prompt_number": 15
    },
    {
     "cell_type": "markdown",
     "metadata": {},
     "source": [
      "Ever heard of these guys?  (As pretty diligent NBA fans, we've only heard of two of the five.)  If these players are shooting so well, you'd think they'd be more well known.  Why isn't that the case?\n",
      "\n",
      "Let's look at their FG% distributions across games."
     ]
    },
    {
     "cell_type": "code",
     "collapsed": false,
     "input": [
      "top_fg = list(fg_sorted['Name'].head(5))"
     ],
     "language": "python",
     "metadata": {},
     "outputs": [],
     "prompt_number": 16
    },
    {
     "cell_type": "code",
     "collapsed": false,
     "input": [
      "for i, name in enumerate(top_fg):\n",
      "    temp = all_data[all_data['Name'] == name]['FG%']\n",
      "    temp = temp[~temp.isnull()]\n",
      "    plt.figure(i)\n",
      "    plt.hist(temp)\n",
      "    plt.title(name)\n",
      "    remove_border()"
     ],
     "language": "python",
     "metadata": {},
     "outputs": [
      {
       "metadata": {},
       "output_type": "display_data",
       "png": "[encoded data removed]",
       "text": [
        "<matplotlib.figure.Figure at 0x8df70b8>"
       ]
      },
      {
       "metadata": {},
       "output_type": "display_data",
       "png": "[encoded data removed]",
       "text": [
        "<matplotlib.figure.Figure at 0xa471ef0>"
       ]
      },
      {
       "metadata": {},
       "output_type": "display_data",
       "png": "[encoded data removed]",
       "text": [
        "<matplotlib.figure.Figure at 0xa190ac8>"
       ]
      },
      {
       "metadata": {},
       "output_type": "display_data",
       "png": "[encoded data removed]",
       "text": [
        "<matplotlib.figure.Figure at 0xa7189b0>"
       ]
      },
      {
       "metadata": {},
       "output_type": "display_data",
       "png": "[encoded data removed]",
       "text": [
        "<matplotlib.figure.Figure at 0xa17feb8>"
       ]
      }
     ],
     "prompt_number": 17
    },
    {
     "cell_type": "markdown",
     "metadata": {},
     "source": [
      "That's why - these players did not play in many games and/or did not attempt many field goals.  Subsequently, these histograms don't make much sense and definitely don't look prety. These players tend to be centers who take high-percentage shots (e.g., dunks and layups near the basket).  These particular few got lucky by making all or most of the few shots they took.\n",
      "\n",
      "Let's instead use the top 5 players ranked last year according to ESPN: LeBron James, Kevin Durant, Dwight Howard, Chris Paul, and Derrick Rose. Source: http://espn.go.com/nba/story/_/id/8429260/2012-nba-player-rankings-no-5"
     ]
    },
    {
     "cell_type": "code",
     "collapsed": false,
     "input": [
      "\"\"\"\n",
      "The code below intends to plot the FG% distributions by game for each of the top 5 players (as ranked by ESPN).\n",
      "However, it spits out a ValueError (not because of code problems - the reason is explained below).\n",
      "\n",
      "top_players = ['LeBron James', 'Kevin Durant', 'Dwight Howard', 'Chris Paul', 'Derrick Rose']\n",
      "for i, name in enumerate(top_players):\n",
      "    plt.figure(i)\n",
      "    plt.hist(all_data[all_data['Name'] == name]['FG%'])\n",
      "    plt.title(name)\n",
      "    remove_border()\"\"\""
     ],
     "language": "python",
     "metadata": {},
     "outputs": [
      {
       "metadata": {},
       "output_type": "pyout",
       "prompt_number": 18,
       "text": [
        "\"\\nThe code below intends to plot the FG% distributions by game for each of the top 5 players (as ranked by ESPN).\\nHowever, it spits out a ValueError (not because of code problems - the reason is explained below).\\n\\ntop_players = ['LeBron James', 'Kevin Durant', 'Dwight Howard', 'Chris Paul', 'Derrick Rose']\\nfor i, name in enumerate(top_players):\\n    plt.figure(i)\\n    plt.hist(all_data[all_data['Name'] == name]['FG%'])\\n    plt.title(name)\\n    remove_border()\""
       ]
      }
     ],
     "prompt_number": 18
    },
    {
     "cell_type": "markdown",
     "metadata": {},
     "source": [
      "The ValueError results from empty data for Derrick Rose, point guard for the Chicago Bulls."
     ]
    },
    {
     "cell_type": "code",
     "collapsed": false,
     "input": [
      "print all_data[all_data['Name'] == 'Derrick Rose']"
     ],
     "language": "python",
     "metadata": {},
     "outputs": [
      {
       "output_type": "stream",
       "stream": "stdout",
       "text": [
        "Empty DataFrame\n",
        "Columns: [Id, Name, Date, Position, Opp, Result, MIN, FG, FGA, FG%, FG3, FG3A, FG3%, FT, FTA, FT%, OFF, REB, TREB, A, STL, BLK, TO, PF, PTS]\n",
        "Index: []\n"
       ]
      }
     ],
     "prompt_number": 19
    },
    {
     "cell_type": "markdown",
     "metadata": {},
     "source": [
      "Data for Derrick Rose's 2013 season are unavailable through CBS Sports because he sat out the entire season recovering from an ACL (knee ligament) injury that he suffered in the 2012 playoffs. (In fact, he recently injured his other knee and will miss the rest of the 2014 season. Talk about bad luck!)\n",
      "\n",
      "Let's substitute in ESPN's No. 6, Kobe Bryant."
     ]
    },
    {
     "cell_type": "code",
     "collapsed": false,
     "input": [
      "top_players = ['LeBron James', 'Kevin Durant', 'Dwight Howard', 'Chris Paul', 'Kobe Bryant']\n",
      "for i, name in enumerate(top_players):\n",
      "    plt.figure(i)\n",
      "    plt.hist(all_data[all_data['Name'] == name]['FG%'],bins=20,range=(0,1))\n",
      "    plt.title(name)\n",
      "    remove_border()"
     ],
     "language": "python",
     "metadata": {},
     "outputs": [
      {
       "metadata": {},
       "output_type": "display_data",
       "png": "[encoded data removed]",
       "text": [
        "<matplotlib.figure.Figure at 0xab0d240>"
       ]
      },
      {
       "metadata": {},
       "output_type": "display_data",
       "png": "[encoded data removed]",
       "text": [
        "<matplotlib.figure.Figure at 0x8e127b8>"
       ]
      },
      {
       "metadata": {},
       "output_type": "display_data",
       "png": "[encoded data removed]",
       "text": [
        "<matplotlib.figure.Figure at 0x8df7320>"
       ]
      },
      {
       "metadata": {},
       "output_type": "display_data",
       "png": "[encoded data removed]",
       "text": [
        "<matplotlib.figure.Figure at 0xaccd4a8>"
       ]
      },
      {
       "metadata": {},
       "output_type": "display_data",
       "png": "[encoded data removed]",
       "text": [
        "<matplotlib.figure.Figure at 0xa72c668>"
       ]
      }
     ],
     "prompt_number": 20
    },
    {
     "cell_type": "markdown",
     "metadata": {},
     "source": [
      "All these players exhibit relatively Normal-shaped distributions for their FG%s.  They are all unimodal, and each player has a different central location.  This suggests that having player-specific location parameters and modeling game-by-game field goals made using player-specific Binomial distributions is reasonable.\n",
      "\n",
      "The histograms also tell us that players with higher numbers of field goal attempts tend to have more \"regular\" behavior in terms of FG%."
     ]
    },
    {
     "cell_type": "heading",
     "level": 4,
     "metadata": {},
     "source": [
      "Minutes Played Per Game"
     ]
    },
    {
     "cell_type": "markdown",
     "metadata": {},
     "source": [
      "Let's explore players' number of game minutes played.  Below are two different ways for calculating players' average number of minutes played per game.  The first method sums up the total minutes played and then divides by 82, the number of games in an NBA season.  The second method averages the number of minutes played over the players' rows in the dataset."
     ]
    },
    {
     "cell_type": "code",
     "collapsed": false,
     "input": [
      "avgmin1 = (rseason_id_groupby_sum['MIN']/82)[rseason_id_groupby_sum['FGA']!=0]\n",
      "avgmin2 = rseason_id_groupby['MIN'][rseason_id_groupby['FGA']!=0]\n",
      "\n",
      "fig1=plt.figure()\n",
      "plt.hist(avgmin1,bins=20,range=(0,40))\n",
      "axis1=fig1.gca()\n",
      "axis1.set_title('Average Minutes per Game - Measure 1')\n",
      "axis1.set_xlabel('Number of Minutes')\n",
      "remove_border()\n",
      "\n",
      "fig2=plt.figure()\n",
      "plt.hist(avgmin2,bins=20,range=(0,40),color=dark2_colors[1])\n",
      "axis2=fig2.gca()\n",
      "axis2.set_title('Average Minutes per Game - Measure 2')\n",
      "axis2.set_xlabel('Number of Minutes')\n",
      "remove_border()"
     ],
     "language": "python",
     "metadata": {},
     "outputs": [
      {
       "metadata": {},
       "output_type": "display_data",
       "png": "[encoded data removed]",
       "text": [
        "<matplotlib.figure.Figure at 0xacef940>"
       ]
      },
      {
       "metadata": {},
       "output_type": "display_data",
       "png": "[encoded data removed]",
       "text": [
        "<matplotlib.figure.Figure at 0xbc92080>"
       ]
      }
     ],
     "prompt_number": 21
    },
    {
     "cell_type": "markdown",
     "metadata": {},
     "source": [
      "As we see from the plot, these two measures of \"average\" minutes are quite different.  The distribution of measure 1 is skewed right, while the distribution of measure 2 is more symmetric (kind of).  Measure 2 values seem to suggest that players are playing larger numbers of minutes.  How can we explain this difference?\n",
      "\n",
      "The answer is that the first average is an unconditional average number of minutes over all 82 games in the season, while the second average is a conditional average: the average number of minutes in a game conditional on the fact that the player actually played in a particular game.  The two averages are equivalent if a player plays in all 82 games.  In fact, measure 2 will always be greater than or equal to measure 1, assuming an 82-game schedule (excluding playoff games).\n",
      "\n",
      "We can see that in the scatterplot below."
     ]
    },
    {
     "cell_type": "code",
     "collapsed": false,
     "input": [
      "fig3=plt.figure()\n",
      "plt.scatter(avgmin1,avgmin2)\n",
      "plt.plot([0,40],[0,40])\n",
      "axis3=fig3.gca()\n",
      "axis3.set_xlim(0,40)\n",
      "axis3.set_ylim(0,40)\n",
      "axis3.set_title('Average Minutes per Game - Measure 1 vs. Measure 2')\n",
      "axis3.set_xlabel('Measure 1')\n",
      "axis3.set_ylabel('Measure 2')\n",
      "remove_border()"
     ],
     "language": "python",
     "metadata": {},
     "outputs": [
      {
       "metadata": {},
       "output_type": "display_data",
       "png": "[encoded data removed]",
       "text": [
        "<matplotlib.figure.Figure at 0xa47c160>"
       ]
      }
     ],
     "prompt_number": 22
    },
    {
     "cell_type": "markdown",
     "metadata": {},
     "source": [
      "We know that equality (or near-equality) is rarely the case; players may get injured and sit out a few games, older players may sit out the second of back-to-back games, and star players may sit out the last few games of the season if playoff positioning has been locked.  On the other hand, end-of-the-bench players rarely play, but when they do, they may get a significant number of minutes.\n",
      "\n",
      "In the scatterplot, we see only small proportion of players essentially on the 45-degree line.  Those players are extremely durable and play consistently (they play in every game or nearly every game).\n",
      "\n",
      "Let's check measure 1 and measure 2 values for a couple players on either side of the spectrum."
     ]
    },
    {
     "cell_type": "code",
     "collapsed": false,
     "input": [
      "avgmin1.head()"
     ],
     "language": "python",
     "metadata": {},
     "outputs": [
      {
       "metadata": {},
       "output_type": "pyout",
       "prompt_number": 23,
       "text": [
        "Id    Name            \n",
        "6457  Ray Allen           24.792683\n",
        "6480  Chauncey Billups     5.097561\n",
        "6496  Kobe Bryant         36.804878\n",
        "6505  Marcus Camby         3.060976\n",
        "6552  Tim Duncan          25.353659\n",
        "Name: MIN, dtype: float64"
       ]
      }
     ],
     "prompt_number": 23
    },
    {
     "cell_type": "code",
     "collapsed": false,
     "input": [
      "avgmin2.head()"
     ],
     "language": "python",
     "metadata": {},
     "outputs": [
      {
       "metadata": {},
       "output_type": "pyout",
       "prompt_number": 24,
       "text": [
        "Id    Name            \n",
        "6457  Ray Allen           25.734177\n",
        "6480  Chauncey Billups    19.000000\n",
        "6496  Kobe Bryant         38.692308\n",
        "6505  Marcus Camby        10.458333\n",
        "6552  Tim Duncan          30.130435\n",
        "Name: MIN, dtype: float64"
       ]
      }
     ],
     "prompt_number": 24
    },
    {
     "cell_type": "code",
     "collapsed": false,
     "input": [
      "avgmin1 = avgmin1.reset_index()\n",
      "avgmin2 = avgmin2.reset_index()"
     ],
     "language": "python",
     "metadata": {},
     "outputs": [],
     "prompt_number": 25
    },
    {
     "cell_type": "code",
     "collapsed": false,
     "input": [
      "print \"Measure 1: \\n\", avgmin1[avgmin1['Name'] == 'Andre Iguodala'][['Name', 'MIN']], \"\\n\"\n",
      "print \"Measure 2: \\n\", avgmin2[avgmin2['Name'] == 'Andre Iguodala'][['Name', 'MIN']], \"\\n\"\n",
      "\n",
      "print \"Measure 1: \\n\", avgmin1[avgmin1['Name'] == 'LeBron James'][['Name', 'MIN']], \"\\n\"\n",
      "print \"Measure 2: \\n\", avgmin2[avgmin2['Name'] == 'LeBron James'][['Name', 'MIN']], \"\\n\"\n",
      "\n",
      "print \"Measure 1: \\n\", avgmin1[avgmin1['Name'] == 'Tim Duncan'][['Name', 'MIN']], \"\\n\"\n",
      "print \"Measure 2: \\n\", avgmin2[avgmin2['Name'] == 'Tim Duncan'][['Name', 'MIN']], \"\\n\"\n",
      "\n",
      "print \"Measure 1: \\n\", avgmin1[avgmin1['Name'] == 'Julyan Stone'][['Name','MIN']], \"\\n\"\n",
      "print \"Measure 2: \\n\", avgmin2[avgmin2['Name'] == 'Julyan Stone'][['Name','MIN']], \"\\n\"\n",
      "\n",
      "print \"Measure 1: \\n\", avgmin1[avgmin1['Name'] == 'Eddy Curry'][['Name','MIN']], \"\\n\"\n",
      "print \"Measure 2: \\n\", avgmin2[avgmin2['Name'] == 'Eddy Curry'][['Name','MIN']], \"\\n\""
     ],
     "language": "python",
     "metadata": {},
     "outputs": [
      {
       "output_type": "stream",
       "stream": "stdout",
       "text": [
        "Measure 1: \n",
        "               Name       MIN\n",
        "113  Andre Iguodala  33.95122 \n",
        "\n",
        "Measure 2: \n",
        "               Name   MIN\n",
        "113  Andre Iguodala  34.8 \n",
        "\n",
        "Measure 1: \n",
        "            Name        MIN\n",
        "86  LeBron James  35.134146 \n",
        "\n",
        "Measure 2: \n",
        "            Name        MIN\n",
        "86  LeBron James  37.907895 \n",
        "\n",
        "Measure 1: \n",
        "         Name        MIN\n",
        "4  Tim Duncan  25.353659 \n",
        "\n",
        "Measure 2: \n",
        "         Name        MIN\n",
        "4  Tim Duncan  30.130435 \n",
        "\n",
        "Measure 1: \n",
        "             Name       MIN\n",
        "394  Julyan Stone  0.329268"
       ]
      },
      {
       "output_type": "stream",
       "stream": "stdout",
       "text": [
        " \n",
        "\n",
        "Measure 2: \n",
        "             Name   MIN\n",
        "394  Julyan Stone  6.75 \n",
        "\n",
        "Measure 1: \n",
        "          Name       MIN\n",
        "42  Eddy Curry  0.304878 \n",
        "\n",
        "Measure 2: \n",
        "          Name   MIN\n",
        "42  Eddy Curry  12.5 \n",
        "\n"
       ]
      }
     ],
     "prompt_number": 26
    },
    {
     "cell_type": "markdown",
     "metadata": {},
     "source": [
      "Andre Iguodala's measures are nearly identical, meaning that he played in almost every game last season.  Lebron James' measures are also quite close, though not as close as Iguodala's, as James sat out a few games at the end of the regular season.\n",
      "\n",
      "Tim Duncan's measures are different by 5 minutes per game, since he was often rested because of his old age.\n",
      "\n",
      "Lastly, we have Julyan Stone and Eddy Curry, two of our top five FG shooters from earlier.  Their two measures of average minutes played are completely different, as they only participated in a few games last season.  Conditional on entering the game, Stone averaged nearly seven minutes of playing time, while Curry logged over 12 minutes (one whole quarter).  But unconditionally, both of them averaged less than 30 seconds per game!"
     ]
    },
    {
     "cell_type": "markdown",
     "metadata": {},
     "source": [
      "Another interesting aspect of data to look at is usage rates, i.e., how often players shoot the ball when they're on the court.  To examine usage rate, let's look at FGA per minute played."
     ]
    },
    {
     "cell_type": "code",
     "collapsed": false,
     "input": [
      "FGAmin = id_groupby_sum['FGA']/id_groupby_sum['MIN']\n",
      "FGAmin = FGAmin[~FGAmin.isnull()]\n",
      "print \"The mean number of field goal attemps per minute played is\", FGAmin.mean(), \"\\n\"\n",
      "plt.hist(FGAmin, bins=20)\n",
      "remove_border()\n",
      "plt.show()"
     ],
     "language": "python",
     "metadata": {},
     "outputs": [
      {
       "output_type": "stream",
       "stream": "stdout",
       "text": [
        "The mean number of field goal attemps per minute played is 0.32046551717 \n",
        "\n"
       ]
      },
      {
       "metadata": {},
       "output_type": "display_data",
       "png": "[encoded data removed]",
       "text": [
        "<matplotlib.figure.Figure at 0xa72b6d8>"
       ]
      }
     ],
     "prompt_number": 27
    },
    {
     "cell_type": "markdown",
     "metadata": {},
     "source": [
      "On average, players shoot 0.32 shots per minute played, or about one shot every 3 minutes."
     ]
    },
    {
     "cell_type": "code",
     "collapsed": false,
     "input": [
      "FGAmin.sort(ascending = False)\n",
      "FGAmin"
     ],
     "language": "python",
     "metadata": {},
     "outputs": [
      {
       "metadata": {},
       "output_type": "pyout",
       "prompt_number": 28,
       "text": [
        "Id       Name               \n",
        "1992800  Darius Johnson-Odom    0.666667\n",
        "400526   Carmelo Anthony        0.607155\n",
        "2011989  Henry Sims             0.600000\n",
        "1928772  Cory Higgins           0.593750\n",
        "1685223  DaJuan Summers         0.571429\n",
        "1992817  Kevin Murphy           0.549020\n",
        "1992785  Jared Cunningham       0.538462\n",
        "1622555  Russell Westbrook      0.537700\n",
        "6496     Kobe Bryant            0.528496\n",
        "1779901  Kyrie Irving           0.522461\n",
        "1646611  Jordan Hamilton        0.503741\n",
        "1926311  Justin Dentmon         0.500000\n",
        "1622495  Michael Beasley        0.494194\n",
        "498284   Ben Gordon             0.486556\n",
        "1622544  Brook Lopez            0.483512\n",
        "...\n",
        "1992790  Festus Ezeli       0.144789\n",
        "1231884  Dominic McGuire    0.144330\n",
        "555979   Ronny Turiaf       0.140236\n",
        "240272   Kwame Brown        0.137546\n",
        "1685270  Hasheem Thabeet    0.134663\n",
        "372464   Reggie Evans       0.130215\n",
        "1232033  Joel Anthony       0.122449\n",
        "240281   DeSagana Diop      0.119469\n",
        "1755248  Jarvis Varnado     0.118644\n",
        "240277   Jason Collins      0.075916\n",
        "1928773  Julyan Stone       0.050000\n",
        "498273   Andris Biedrins    0.041016\n",
        "1113163  Solomon Jones      0.038462\n",
        "563941   Dwayne Jones       0.000000\n",
        "436682   Matt Carroll       0.000000\n",
        "Length: 464, dtype: float64"
       ]
      }
     ],
     "prompt_number": 28
    },
    {
     "cell_type": "markdown",
     "metadata": {},
     "source": [
      "In general, the distribution of FGA per minute played is surprisingly well-behaved.  It seems to be approximately unimodal and symmetric about 0.33.\n",
      "\n",
      "Carmelo Anthony is widely regarded as a \"ball-hog\" - he attempts a shot every 90 seconds.  But he is outdone by Darius Johnson-Odom!  (Anthony is also regarded as one of the best scorers in the NBA; Johnson-Odom is not even close to be considered as such.)\n",
      "\n",
      "Interestingly, apart from Anthony and Russell Westbrook, many of the top-usage players are relative unknowns.  Their high FGA/MIN ratios may be explained from low MIN values, whereas Anthony's and Westbrook's are surely explained from high FGA values."
     ]
    },
    {
     "cell_type": "heading",
     "level": 4,
     "metadata": {},
     "source": [
      "Restricting the Data to Early in the Season"
     ]
    },
    {
     "cell_type": "markdown",
     "metadata": {},
     "source": [
      "Our primary research question pertains to whether or not one can make accurate naive predictions for the entire season in the first month of the season, and whether or not we can improve on those predictions using statistical modeling. The following code splits the data into data that comes before the end of November (all data before December 1) and data after the end of November."
     ]
    },
    {
     "cell_type": "code",
     "collapsed": false,
     "input": [
      "#this restricts the 2012-2013 data to pre-December data\n",
      "mask = (all_data['Date'] > '2013-10-01') & (all_data['Date'] <= '2013-11-30')\n",
      "\n",
      "pre_DEC = all_data[mask]\n",
      "id_groupby_pre_DEC = pre_DEC.groupby(['Id', 'Name'], as_index = False).sum()\n",
      "\n",
      "#here we drop columns that don't make sense because of the \"sum\" groupby above\n",
      "id_groupby_pre_DEC = id_groupby_pre_DEC.drop(['FG%', 'FG3%', 'FT%'], axis = 1)"
     ],
     "language": "python",
     "metadata": {},
     "outputs": [],
     "prompt_number": 29
    },
    {
     "cell_type": "markdown",
     "metadata": {},
     "source": [
      "Later on, we use R/RStan for Markov Chain Monte Carlo sampling machinery.  Now we'll export the pre-December data for use in R."
     ]
    },
    {
     "cell_type": "code",
     "collapsed": false,
     "input": [
      "#id_groupby_pre_DEC.to_csv('aggregated_pre_DEC_12_13.csv', index = False)\n",
      "#pre_DEC.to_csv('pre_DEC_12_13.csv', index = False)"
     ],
     "language": "python",
     "metadata": {},
     "outputs": [],
     "prompt_number": 30
    },
    {
     "cell_type": "markdown",
     "metadata": {},
     "source": [
      "Now to get the remainder of the season so we can check our predictions."
     ]
    },
    {
     "cell_type": "code",
     "collapsed": false,
     "input": [
      "#this generates the remainder of the 2012-2013 data\n",
      "mask = (all_data['Date'] < '2013-04-20') | (all_data['Date'] > '2013-11-30')\n",
      "\n",
      "post_NOV = all_data[mask]\n",
      "id_groupby_post_NOV = post_NOV.groupby(['Id', 'Name'], as_index = False).sum()\n",
      "\n",
      "#here we drop columns that don't make sense because of the \"sum\" groupby above\n",
      "id_groupby_post_NOV = id_groupby_post_NOV.drop(['FG%', 'FG3%', 'FT%'], axis = 1)"
     ],
     "language": "python",
     "metadata": {},
     "outputs": [],
     "prompt_number": 31
    },
    {
     "cell_type": "markdown",
     "metadata": {},
     "source": [
      "And we export that data for R as well."
     ]
    },
    {
     "cell_type": "code",
     "collapsed": false,
     "input": [
      "#id_groupby_post_NOV.to_csv('aggregated_post_NOV_12_13.csv', index = False)\n",
      "#post_NOV.to_csv('post_NOV_12_13.csv', index = False)"
     ],
     "language": "python",
     "metadata": {},
     "outputs": [],
     "prompt_number": 32
    },
    {
     "cell_type": "markdown",
     "metadata": {},
     "source": [
      "Before jumping into the model, let's take a quick peek at the pre-December and post-December data's histograms."
     ]
    },
    {
     "cell_type": "code",
     "collapsed": false,
     "input": [
      "pre_dec_groupby = pre_DEC.groupby(['Id', 'Name'], as_index = False).mean()\n",
      "\n",
      "#Need to make sure there are only people who actually attempted field goals included\n",
      "pre_dec_groupby = pre_dec_groupby[~pre_dec_groupby['FG%'].isnull()]\n",
      "\n",
      "plt.hist(pre_dec_groupby['FG%'], bins = 50)\n",
      "\n",
      "#plot a mean and median line to look for possible skewing\n",
      "plt.axvline(pre_dec_groupby['FG%'].median(), color = 'b', label = 'Median')\n",
      "plt.axvline(pre_dec_groupby['FG%'].mean(), color = 'r', label = 'Mean')\n",
      "plt.title('FG% All Players Pre-December')\n",
      "plt.xlabel('Field Goal %')\n",
      "plt.legend(loc = 1)\n",
      "remove_border()\n",
      "plt.show()\n",
      "\n",
      "print \"Median is: \", pre_dec_groupby['FG%'].median()\n",
      "print \"Mean is: \", pre_dec_groupby['FG%'].mean()\n",
      "print \"Variance is: \", pre_dec_groupby['FG%'].var()"
     ],
     "language": "python",
     "metadata": {},
     "outputs": [
      {
       "metadata": {},
       "output_type": "display_data",
       "png": "[encoded data removed]",
       "text": [
        "<matplotlib.figure.Figure at 0xbcb6208>"
       ]
      },
      {
       "output_type": "stream",
       "stream": "stdout",
       "text": [
        "Median is:  0.425228963234\n",
        "Mean is:  0.41720584388\n",
        "Variance is:  0.0189647934524\n"
       ]
      }
     ],
     "prompt_number": 33
    },
    {
     "cell_type": "markdown",
     "metadata": {},
     "source": [
      "Perhaps surprisingly, even only after a month, the distribution of field goal percentages seems fairly well-behaved resembling a Normal (Gaussian) shape.  It is relatively unimodal and symmetric, but there is the patchiness we would expect from the relatively small sample size available from the first month or so of the season (for example, many players shooting 0%)."
     ]
    },
    {
     "cell_type": "code",
     "collapsed": false,
     "input": [
      "post_nov_groupby = post_NOV.groupby(['Id', 'Name'], as_index = False).mean()\n",
      "\n",
      "#Need to make sure there are only people who actually attempted field goals included\n",
      "post_nov_groupby = post_nov_groupby[~post_nov_groupby['FG%'].isnull()]\n",
      "\n",
      "plt.hist(post_nov_groupby['FG%'], bins = 50)\n",
      "\n",
      "#plot a mean and median line to look for possible skewing\n",
      "plt.axvline(post_nov_groupby['FG%'].median(), color = 'b', label = 'Median')\n",
      "plt.axvline(post_nov_groupby['FG%'].mean(), color = 'r', label = 'Mean')\n",
      "plt.title('FG% All Players Post-November')\n",
      "plt.xlabel('Field Goal %')\n",
      "plt.legend(loc = 1)\n",
      "remove_border()\n",
      "plt.show()\n",
      "\n",
      "print \"Median is: \", post_nov_groupby['FG%'].median()\n",
      "print \"Mean is: \", post_nov_groupby['FG%'].mean()\n",
      "print \"Variance is: \", post_nov_groupby['FG%'].var()"
     ],
     "language": "python",
     "metadata": {},
     "outputs": [
      {
       "metadata": {},
       "output_type": "display_data",
       "png": "[encoded data removed]",
       "text": [
        "<matplotlib.figure.Figure at 0xad057f0>"
       ]
      },
      {
       "output_type": "stream",
       "stream": "stdout",
       "text": [
        "Median is:  0.424820757854\n",
        "Mean is:  0.421619855174\n",
        "Variance is:  0.0107156263096\n"
       ]
      }
     ],
     "prompt_number": 34
    },
    {
     "cell_type": "markdown",
     "metadata": {},
     "source": [
      "There are no surprises here. The distribution is unimodal and normal (Gaussian) in shape."
     ]
    },
    {
     "cell_type": "heading",
     "level": 2,
     "metadata": {},
     "source": [
      "Building the Model"
     ]
    },
    {
     "cell_type": "markdown",
     "metadata": {},
     "source": [
      "As stated in the introduction, we want to evaluate whether or not one can make accurate naive predictions for the entire season in the first 33 days of the season (pre-December 1), and whether or not we can improve on those predictions using statistical modeling. If we can improve those predictions, by how much?\n",
      "\n",
      "We will use pre-December 1 data, in combination with our models, to predict the players' overall shooting percentages for the remainder of the season."
     ]
    },
    {
     "cell_type": "markdown",
     "metadata": {},
     "source": [
      "Let $M$ denote the number of NBA players (for our dataset of the 2012-2013 NBA season, $M$ is approximately 460).\n",
      "\n",
      "For each player $i$ ($i=1,...,M$), let $\\theta_i$ denote his true, underlying shooting percentage for the given season.  We can think of $\\theta_i$ as the hypothetical shooting percentage player $i$ would have if the season were repeated many times, and the player took many field goal attempts.\n",
      "\n",
      "Unfortunately, we do not observe the $\\theta_i$'s; we only observe noisy data points that depend on them through some generative process.  For our purposes, the data points we observe are the number of field goal made (we also observe the number of field goals attempted) in each game the players participated in before the All-Star break.\n",
      "\n",
      "Let the observed data point $y_{ij}$ represent the number of field goals made by player $i$ in game $j$.  For simplicity, we treat $n_{ij}$, the number of field goals attempted by player $i$ in game $j$, as fixed.  (Modeling $y_{ij}$ and $n_{ij}$ would require a complicated joint distribution; intuitively, the two would not seem to be independent.  The joint model is left as possible future research.)\n",
      "\n",
      "Let $K_i$ denote the number of games that player $i$ participated in ($i=1,...,M$).  Conditional on player $i$'s true shooting percentage, $\\theta_i$, we model the number of goals made by player $i$ in game $j$ using a Binomial distribution.\n",
      "\n",
      "$$y_{ij} | \\theta_i, n_{ij} \\sim Bin(n_{ij}, \\theta_i) \\mbox{ for } i=1,...,M; j^{(i)}=1,...,K_i$$\n",
      "\n",
      "By using the Binomial distribution, we assume that each shot the player takes is independent and that the probability of success is constant.  Previous researchers have shown evidence against the \"hot hand\" theory, lending credibility to our assumptions, but more complicated models with dependence structures and non-constant success probabilities are possible extensions.\n",
      "\n",
      "By estimating the $\\theta_i$'s, we can predict players' overall season shooting percentages, since we believe them to be close to their true shooting percentages.\n",
      "\n",
      "A natural but possibly naive method for estimating the $\\theta_i$'s is to estimate them independently, using only player $i$'s data to estimate $\\theta_i$ and using only player $i'$'s data to estimate $\\theta_{i'}$.  Our goal is to improve upon the naive estimation method by modeling them together (jointly, in a non-technical sense) using Bayesian hierarchical models.\n",
      "\n",
      "The conceptual motivation of hierarchical models is that we believe the parameters share common attributes.  In other words, we believe there is information sharing among the parameters; knowing about one player's true shooting percentage should help us learn about another player's true shooting percentage.  Mathematically, we state this idea by modeling the parameters as coming from a common distribution."
     ]
    },
    {
     "cell_type": "heading",
     "level": 4,
     "metadata": {},
     "source": [
      "Model 1: Empirical Bayes"
     ]
    },
    {
     "cell_type": "markdown",
     "metadata": {},
     "source": [
      "We start with a two-level model, where the true shooting percentages of all players come from a common distribution.  Since the $\\theta_i$'s are success probabilities, their support is limited to $[0,1]$, and a Beta distribution is a natural choice for a prior.  Conveniently, the Beta distribution is the conjugate prior for Binomial data.\n",
      "\n",
      "Our prior stipulates that the $\\theta_i$'s come from a common Beta distribution, with hyperparameters $\\alpha$ and $\\beta$.\n",
      "\n",
      "\\begin{align*}\n",
      "    \\theta_i|\\alpha,\\beta &\\sim Beta( \\alpha, \\beta) &&\\text{independently for } i=1,...,M\\\\\\\\\n",
      "    y_{ij} | \\theta_i, n_{ij} &\\sim Bin(n_{ij}, \\theta_i) &&\\text{for } i=1,...,M; j^{(i)}=1,...,K_i\n",
      "\\end{align*}\n",
      "\n",
      "Below is a hierarchical diagram showing the relationships among the parameters and data."
     ]
    },
    {
     "cell_type": "markdown",
     "metadata": {},
     "source": [
      "<div class=\"banner-container\">\n",
      "<img src=\"files/Tree_model1.png\" width=600>\n",
      "</div>"
     ]
    },
    {
     "cell_type": "markdown",
     "metadata": {},
     "source": [
      "The density functions associated with the prior and likelihood are:\n",
      "\n",
      "\\begin{align*}\n",
      "    P(\\theta_i|\\alpha,\\beta) &\\propto \\theta^{\\alpha-1}(1-\\theta_i)^{\\beta-1} \n",
      "        &&\\text{: Prior distribution of true shooting percentage $\\theta_i$ of player $i$}\\\\\n",
      "    P(y_{ij}|\\theta_i,n_{ij}) &= \\binom{n_{ij}}{y_{ij}}\\theta_i^{y_{ij}}(1-\\theta_i)^{n_{ij}-y_{ij}} \n",
      "        && \\text{: Probability of player $i$ making $y_{ij}$ field goals out of $n_{ij}$ attempts conditioning on $\\theta_i$}\\\\\n",
      "\\end{align*}\n",
      "\n",
      "Henceforth, we suppress the condition on $n_{ij}$ terms, for notational convenience.  We always assume the $n_{ij}$'s to be fixed.\n",
      "\n",
      "Since we treat the games independently, our likelihood is:\n",
      "\n",
      "\\begin{align*}\n",
      "    P(\\vec{y}_i|\\theta_i) &\\propto \\theta_i^{\\sum\\limits_{j=1}^{k_i} y_{ij}}(1-\\theta_i)^{\\sum\\limits_{j=1}^{k_i} n_{ij}-\\sum\\limits_{j=1}^{k_i} y_{ij}}\n",
      "        && \\text{: Probability of the observed data for player $i$ conditioning on $\\theta_i$}\n",
      "\\end{align*}\n",
      "\n",
      "Deriving the posterior, we have:\n",
      "\n",
      "\\begin{align*}\n",
      "    P(\\theta_i|\\vec{y}_i,\\alpha,\\beta) &\\propto P(\\vec{y}_i|\\theta_i)\\cdot P(\\theta_i|\\alpha,\\beta)\n",
      "    &&\\text{: Posterior distribution of true shooting percentage $\\theta_i$ of player $i$} \\\\\n",
      "    &\\propto \\theta_i^{\\alpha-1+\\sum\\limits_{j=1}^{k_i} y_{ij}}(1-\\theta_i)^{\\beta-1+\\sum\\limits_{j=1}^{k_i} n_{ij}-\\sum\\limits_{j=1}^{k_i} y_{ij}}\\\\\n",
      "    P(\\vec{\\theta}|\\vec{y}, \\alpha, \\beta) &\\propto \\prod\\limits_{i=1}^m \\theta_i^{\\alpha-1+\\sum\\limits_{j=1}^{k_i} y_{ij}}(1-\\theta_i)^{\\beta-1+\\sum\\limits_{j=1}^{k_i} n_{ij}-\\sum\\limits_{j=1}^{k_i} y_{ij}}\n",
      "    &&\\text{: Joint posterior distribution of true shooting percentage $\\vec{\\theta}$ of all players}\\\\\n",
      "    i &\\in \\{ 1, 2, \\dotsb, M \\}\\\\\n",
      "    j^{(i)} &\\in \\{ 1, 2, \\dotsb, k_i \\}\n",
      "\\end{align*}"
     ]
    },
    {
     "cell_type": "markdown",
     "metadata": {},
     "source": [
      "Because of Beta-Binomial conjugacy, we have a nice closed-form solution for the posterior distributions of the $\\theta_i$'s, conditional on $\\alpha$ and $\\beta$.  Thus, we have analytic forms for the posterior means, which we use for prediction.\n",
      "\n",
      "Namely, the posterior of $\\theta_i$ is\n",
      "$$\\theta_i|\\vec{y}_i,\\alpha,\\beta \\sim Beta(\\alpha+\\sum_{j=1}^{k_i} y_{ij},\\beta+\\sum_{j=1}^{k_i} n_{ij}-\\sum_{j=1}^{k_i} y_{ij}),$$\n",
      "with mean\n",
      "$$E[\\theta_i|\\vec{y}_i,\\alpha,\\beta] = \\frac{\\alpha+\\sum_{j=1}^{k_i} y_{ij}}{\\alpha+\\beta+\\sum_{j=1}^{k_i} n_{ij}}.$$\n",
      "\n",
      "Since the priors of the $\\theta_i$'s are independent and their likelihoods are only informed by data from their respective players, the posteriors of the $\\theta_i$'s are independently Beta."
     ]
    },
    {
     "cell_type": "markdown",
     "metadata": {},
     "source": [
      "Importantly, the posterior results above condition on $\\alpha$ and $\\beta$.  In this first model, we use an Empirical Bayes approach, substituting in reasonable estimated values for $\\alpha$ and $\\beta$ without adding another level of hierarchy to the model.  Later, we add a third modeling level, with hyperpriors on $\\alpha$ and $\\beta$.\n",
      "\n",
      "For simplicity, we use moment matching to estimate of $\\alpha$ and $\\beta$, i.e., we calculate the sample mean and variance in our data and find estimates of $\\alpha$ and $\\beta$ that would theoretically give us similar results.  We saw in our exploratory analyses that the distribution of players' shooting percentages (aggregated across games by player) was relatively well-behaved: unimodal and symmetric.  So we don't have to worry too much about moment matching giving us strange results.\n",
      "\n",
      "Let $\\bar{y}$ and $s^2$ be the sample mean and variance of the per-player shooting percentages.  The closed-form solutions for the method-of-moments estimates are known as follows, assuming that $s^2<\\bar{y}(1-\\bar{y})$:\n",
      "\n",
      "$$\\hat{\\alpha}=\\bar{y} \\left( \\frac{\\bar{y}(1-\\bar{y})}{s^2} -1 \\right),$$\n",
      "$$\\hat{\\beta}=(1-\\bar{y}) \\left( \\frac{\\bar{y}(1-\\bar{y})}{s^2} -1 \\right).$$\n",
      "\n",
      "In our dataset, $\\bar{y}=0.417$ and $s^2=0.019$.  This gives us estimates of $\\hat{\\alpha}=4.93$ and $\\hat{\\beta}=6.89$, which we substitute into our prior."
     ]
    },
    {
     "cell_type": "heading",
     "level": 5,
     "metadata": {},
     "source": [
      "**Computational Considerations**"
     ]
    },
    {
     "cell_type": "markdown",
     "metadata": {},
     "source": [
      "As mentioned above, we analytically derived the posterior distributions and the posterior means for the $\\theta_i$'s, so calculating predictions is straightforward for this model (e.g., using the posterior means).  However, we also write code in R to obtain posterior draws using RStan, which utilizes Hamiltonian Monte Carlo techniques.  The RStan code and algorithm are not really needed for this first model, but it helps us lay a code framework in later, more complicated models.  We also use it to check that our analytic forms give us similar results.\n",
      "\n",
      "From the likelihood and posterior written above, we see that the game information is additive, i.e., observing $y_{i1}$ field goals made (FGM) out of $n_{i1}$ field goals attempted (FGA) and $y_{i2}$ FGM out of $n_{i2}$ FGA in two different games is equivalent to observing $y_{i1}+y_{i2}$ FGM out of $n_{i1}+n_{i2}$ FGA in one game.  Thus, for RStan implementation purposes, we use an aggregated dataset that has the total FGM and FGA per player.  The aggregated dataset only has $M$ (around 410) rows, whereas the original dataset has about 4,700, so using the aggregated set helps computational efficiency.\n",
      "\n",
      "We run implementations on both the full dataset and the aggregated dataset and confirm that they give the same results.\n",
      "\n",
      "The R code is shown below."
     ]
    },
    {
     "cell_type": "raw",
     "metadata": {},
     "source": [
      "#Bayesian Hierarchical Model 1 (empirical Bayes)\n",
      "\n",
      "bb_code1 <- '\n",
      "  data{\n",
      "\tint<lower=0> ntotal; #total number of observations\n",
      "\tint<lower=0> nplayers; #number of players\n",
      "\tint<lower=0> playernums[ntotal]; #unique player IDs re-numbered from 1 to nplayers\n",
      "\tint<lower=0> FGA[ntotal]; #field goal attempts\n",
      "\tint<lower=0> FGM[ntotal]; #field goals made\n",
      "\treal<lower=0> alphahat; #empirical Bayes parameter estimate\n",
      "\treal<lower=0> betahat; #empirical Bayes parameter estimate\n",
      "  }\n",
      "  parameters{\n",
      "\treal<lower=0,upper=1> theta[nplayers];\n",
      "  }\n",
      "#  transformed parameters{\n",
      "#\tany transformed parameters here\n",
      "#  }\n",
      "  model{\n",
      "\tfor(i in 1:nplayers)\n",
      "\t\ttheta[i] ~ beta(alphahat,betahat);\n",
      "\tfor(n in 1:ntotal)\n",
      "\t\tFGM[n] ~ binomial(FGA[n],theta[playernums[n]]);\n",
      "  }\n",
      "'\n",
      "\n",
      "#Short method (using aggregated dataset, ~410 observations)\n",
      "bb_dat1 <- list(ntotal=nrow(bbdata13),nplayers=nrow(bbdata13),\n",
      "\tplayernums=1:nrow(bbdata13),FGA=bbdata13$FGA,FGM=bbdata13$FG,\n",
      "\talphahat=4.93,betahat=6.89)\n",
      "\n",
      "fit1=stan(model_code=bb_code1,data=bb_dat1,iter=1000,chains=4)\n",
      "samps1=extract(fit1,permute=TRUE,inc_warmup=FALSE)\n",
      "\n",
      "#thetas sorted by CBS player ID\n",
      "#theta[,1] corresponds to Ray Allen\n",
      "\n",
      "plot(samps1$theta[,1],type=\"l\") #check trace plot for good MCMC convergence/exploration\n",
      "c(mean(samps1$theta[,1]),sd(samps1$theta[,1])) #posterior mean and SD\n",
      "quantile(samps1$theta[,1],c(.05,.25,.5,.75,.95)) #posterior quantiles\n",
      "\n",
      "post_means1=apply(samps1$theta,MARGIN=2,mean)\n",
      "post_medians1=apply(samps1$theta,MARGIN=2,median)\n",
      "\n",
      "############################################\n",
      "#Long method (using all ~4,700 observations)\n",
      "\n",
      "playernums=sapply(1:nrow(bbdata_long),function(k) match(bbdata_long$Id[k],unique(bbdata_long$Id)))\n",
      "\n",
      "bb_dat_long <- list(ntotal=nrow(bbdata_long),nplayers=max(playernums),\n",
      "\tplayernums=playernums,FGA=bbdata_long$FGA,FGM=bbdata_long$FG,\n",
      "\talphahat=5.77,betahat=6.89)\n",
      "\n",
      "fitlong=stan(model_code=bb_code1,data=bb_dat_long,iter=1000,chains=4)\n",
      "sampslong=extract(fitlong,permute=TRUE,inc_warmup=FALSE)\n",
      "\n",
      "c(mean(sampslong$theta[,1]),sd(sampslong$theta[,1])) #posterior mean and SD\n",
      "quantile(sampslong$theta[,1],c(.05,.25,.5,.75,.95)) #posterior quantiles"
     ]
    },
    {
     "cell_type": "markdown",
     "metadata": {},
     "source": [
      "Results are discussed later in this process book."
     ]
    },
    {
     "cell_type": "heading",
     "level": 4,
     "metadata": {},
     "source": [
      "Model 2: Full Bayes"
     ]
    },
    {
     "cell_type": "markdown",
     "metadata": {},
     "source": [
      "As a second approach, we will avoid restricting $\\alpha$ and $\\beta$ to be constants and let them vary through the data.  This is a full Bayes approach.  We call the $\\theta_i$'s parameters, so we call $\\alpha$ and $\\beta$ hyperparameters.  We introduce another level of hierarchy into the model: hyperpriors on $\\alpha$ and $\\beta$.\n",
      "\n",
      "Since both $\\alpha$ and $\\beta$ need to be positive (for a valid Beta distribution), we use Gamma hyperpriors.  Our goal is to make the hyperpriors non-informative, so that we \"let the data speak.\"  For our project, we are not particularly interested in the posterior distributions of $\\alpha$ and $\\beta$, but since they affect the posterior distributions of the $\\theta_i$'s (which we are interested in), we should be careful that our Gamma hyperpriors are not too restrictive.\n",
      "\n",
      "We iteratively test several hyperpriors and relax them (make them more disperse) until the posteriors of $\\alpha$ and $\\beta$ are relatively stable.  After testing/relaxing Gamma(1,1), Gamma(2,1), and Gamma(2,0.1), we settle on Gamma(2,0.05) priors.  (The next test, using Gamma(2,0.01) priors, gave similar results.)\n",
      "\n",
      "Below is a visual representation of Model 2."
     ]
    },
    {
     "cell_type": "markdown",
     "metadata": {},
     "source": [
      "<div class=\"banner-container\">\n",
      "<img src=\"files/Tree_model2.png\" width=600>\n",
      "</div>"
     ]
    },
    {
     "cell_type": "markdown",
     "metadata": {},
     "source": [
      "The Model 2 hierarchy is specified below:\n",
      "\n",
      "\\begin{align*}\n",
      "    \\alpha, \\beta &\\sim Gamma(2, 0.05) &&\\text{independently}\\\\\\\\\n",
      "    \\theta_i|\\alpha,\\beta &\\sim Beta( \\alpha, \\beta) &&\\text{independently for } i=1,...,M\\\\\\\\\n",
      "    y_{ij} | \\theta_i &\\sim Bin(n_{ij}, \\theta_i) &&\\text{for } i=1,...,M; j^{(i)}=1,...,K_i\n",
      "\\end{align*}\n",
      "\n",
      "The density functions associated with the hyperprior are:\n",
      "\n",
      "\\begin{align*}\n",
      "    P(\\alpha) &\\propto \\alpha e^{-0.05\\alpha}\\\\\n",
      "    P(\\beta) &\\propto \\beta e^{-0.05\\beta}\n",
      "\\end{align*}\n",
      "\n",
      "We know the conditional posteriors of the $\\theta_i$'s, given $\\alpha$ and $\\beta$, are Beta:\n",
      "\n",
      "$$P(\\theta_i|\\vec{y}_i,\\alpha,\\beta) \\propto \\theta_i^{\\alpha+\\sum y_{ij}-1}(1-\\theta_i)^{\\beta+\\sum n_{ij}-\\sum y_{ij} - 1}$$\n",
      "\n",
      "Thus, we have the joint posterior:\n",
      "\n",
      "\\begin{align*}    \n",
      "    P(\\theta_i,\\alpha,\\beta|\\vec{y}_i) &\\propto P(\\alpha,\\beta)P(\\theta_i|\\alpha,\\beta)P(\\vec{y}_i|\\theta_i,\\alpha,\\beta)\\\\\n",
      "    &\\propto P(\\alpha,\\beta)P(\\theta_i|\\vec{y}_i,\\alpha,\\beta)\\\\\n",
      "    &\\propto \\alpha\\beta e^{-0.05(\\alpha+\\beta)}\\theta_i^{\\alpha+\\sum y_{ij}-1}(1-\\theta_i)^{\\beta+\\sum n_{ij}-\\sum y_{ij} - 1}\\\\\n",
      "    P(\\vec{\\theta},\\alpha,\\beta|\\vec{y}) &\\propto \\alpha\\beta e^{-0.05(\\alpha+\\beta)}\\prod\\limits_{i=1}^M \\theta_i^{\\alpha+\\sum\\limits_{j=1}^{K_i} y_{ij}-1}(1-\\theta_i)^{\\beta+\\sum\\limits_{j=1}^{K_i} n_{ij}-\\sum\\limits_{j=1}^{K_i} y_{ij} - 1}\n",
      "\\end{align*}\n",
      "\n",
      "We, however, are only concerned about the posterior of $\\vec{\\theta}$; $\\alpha$ and $\\beta$ are nuisance parameters.  To obtain the unconditional posterior of $\\vec{\\theta}|\\vec{y}$, we need to integrate out $\\alpha$ and $\\beta$."
     ]
    },
    {
     "cell_type": "markdown",
     "metadata": {},
     "source": [
      "Instead of analytically solving the double integral, we use RStan, using the code for Model 1 as a basis.  (A strong rationale for setting up RStan code in Model 1, even though we analytically derived the posterior distribution, was so that we could build off of it in later models like the one here.)  The RStan code is shown below."
     ]
    },
    {
     "cell_type": "raw",
     "metadata": {},
     "source": [
      "#Bayesian Hierarchical Model 2 (hyperparameters)\n",
      "bb_code2 <- '\n",
      "  data{\n",
      "\tint<lower=0> nplayers; #number of players (equals number of observations)\n",
      "\tint<lower=0> FGA[nplayers]; #field goal attempts\n",
      "\tint<lower=0> FGM[nplayers]; #field goals made\n",
      "  }\n",
      "  parameters{\n",
      "\treal<lower=0,upper=1> theta[nplayers];\n",
      "\treal<lower=0> alpha;\n",
      "\treal<lower=0> beta;\n",
      "  }\n",
      "#  transformed parameters{\n",
      "#\tany transformed parameters here\n",
      "#  }\n",
      "  model{\n",
      "\talpha ~ gamma(2,.05);\n",
      "\tbeta ~ gamma(2,.05);\n",
      "\tfor(i in 1:nplayers){\n",
      "\t\ttheta[i] ~ beta(alpha,beta);\n",
      "\t\tFGM[i] ~ binomial(FGA[i],theta[i]);\n",
      "\t}\n",
      "  }\n",
      "'\n",
      "\n",
      "bb_dat2 <- list(nplayers=nrow(bbdata13),FGA=bbdata13$FGA,FGM=bbdata13$FG)\n",
      "fit2=stan(model_code=bb_code2,data=bb_dat2,iter=1000,chains=4)\n",
      "samps2=extract(fit2,permute=TRUE,inc_warmup=FALSE)\n",
      "\n",
      "c(mean(samps2$theta[,1]),sd(samps2$theta[,1])) #posterior mean and SD\n",
      "quantile(samps2$theta[,1],c(.05,.25,.5,.75,.95)) #posterior quantiles\n",
      "\n",
      "post_means2=apply(samps2$theta,MARGIN=2,mean)\n",
      "post_medians2=apply(samps2$theta,MARGIN=2,median)"
     ]
    },
    {
     "cell_type": "heading",
     "level": 4,
     "metadata": {},
     "source": [
      "Model 3: Full Bayes with Position-Specific Hyperpriors"
     ]
    },
    {
     "cell_type": "markdown",
     "metadata": {},
     "source": [
      "In Bayesian hierarchical models, we utilize information from all NBA players to help inform our prediction for any given player.  In Models 1 and 2, we used the same prior for every $\\theta_i$, so our model shrunk every prediction toward the same proportion.  (In all hierarchical models, the extent of the shrinkage depends on the prior and the sample size of the observed data.)\n",
      "\n",
      "However, we might not think it reasonable for every player's shooting percentage to come from the same exact common prior distribution.  Namely, players tend to have different shooting percentages because they take different types of shots.  For instance, centers often shoot close to the basket (e.g., dunks, layups), while point guards often shoot farther away (e.g., jump shots), resulting in varying shooting percentages.\n",
      "\n",
      "In this third model, we allow separate hyperpriors depending on the players' positions.  We categorize players into 3 categories: point guards (\"1\": PG), wings (\"2\": SG, G, SF), and bigs (\"3\": PF, C).  These categories are not perfect, as some players can play multiple positions, but we think this categorization is reasonable for separating shot types.\n",
      "\n",
      "Let $C_i$ denote the position category of player $i$.  Below is a visual representation of the Model 3 hierarchy."
     ]
    },
    {
     "cell_type": "markdown",
     "metadata": {},
     "source": [
      "<div class=\"banner-container\">\n",
      "<img src=\"files/Tree_model3.png\" width=1200>\n",
      "</div>"
     ]
    },
    {
     "cell_type": "markdown",
     "metadata": {},
     "source": [
      "The Model 3 hierarchy is specified below:\n",
      "\n",
      "\\begin{align*}\n",
      "    \\alpha_1,\\alpha_2,\\alpha_3 &\\sim Gamma(2, 0.05) &&\\text{independently}\\\\\\\\\n",
      "    \\beta_2,\\beta_2,\\beta_3 &\\sim Gamma(2, 0.05) &&\\text{independently}\\\\\\\\\n",
      "    \\theta_i|C_i,\\alpha,\\beta &\\sim Beta( \\alpha_{C_i}, \\beta_{C_i}) &&\\text{independently for } i=1,...,M\\\\\\\\\n",
      "    y_{ij} | \\theta_i &\\sim Bin(n_{ij}, \\theta_i) &&\\text{for } i=1,...,M; j^{(i)}=1,...,K_i\n",
      "\\end{align*}\n",
      "\n",
      "The density functions, conditional posteriors, and joint posterior are similar to Model 2, except that $\\alpha_1$ and $\\beta_1$ are only informed by data from point guards, $\\alpha_2$ and $\\beta_2$ are only informed by data from wings, and $\\alpha_3$ and $\\beta_3$ are only informed by data from bigs.  We omit the mathematics here.\n",
      "\n",
      "A further model, which we do not explore in this project, includes a fourth level of hierarchy, with hyper-hyperpriors on the $\\alpha_c$'s and $\\beta_c$'s ($c=1,2,3$).  As an example of its implications, this model would allow $\\alpha_1$ and $\\beta_1$ to be strongly informed by point guards but also be somewhat influenced by non-point guards through the fourth level.\n",
      "\n",
      "In our Model 3, the $\\alpha_c$'s and $\\beta_c$'s ($c=1,2,3$) are nuisance parameters because we are only concerned about the posterior of $\\vec{\\theta}$.  To obtain the unconditional posterior of $\\vec{\\theta}|\\vec{y}$, we need to integrate them out.\n",
      "\n",
      "We extend our RStan code yet again, this time by specifying position-specific hyperpriors."
     ]
    },
    {
     "cell_type": "raw",
     "metadata": {},
     "source": [
      "#Bayesian Hierarchical Model 3 (position-specific priors)\n",
      "bb_code3 <- '\n",
      "  data{\n",
      "\tint<lower=0> nplayers; #number of players (equals number of observations)\n",
      "\tint<lower=0> npositions; #number of positions\n",
      "\tint<lower=0> positioncat[nplayers]; #position category\n",
      "\tint<lower=0> FGA[nplayers]; #field goal attempts\n",
      "\tint<lower=0> FGM[nplayers]; #field goals made\n",
      "  }\n",
      "  parameters{\n",
      "\treal<lower=0,upper=1> theta[nplayers];\n",
      "\treal<lower=0> alpha[npositions];\n",
      "\treal<lower=0> beta[npositions];\n",
      "  }\n",
      "#  transformed parameters{\n",
      "#\tany transformed parameters here\n",
      "#  }\n",
      "  model{\n",
      "\tfor(pos in 1:npositions){\n",
      "\t\talpha[pos] ~ gamma(2,.05);\n",
      "\t\tbeta[pos] ~ gamma(2,.05);\n",
      "\t}\n",
      "\tfor(i in 1:nplayers){\n",
      "\t\ttheta[i] ~ beta(alpha[positioncat[i]],beta[positioncat[i]]);\n",
      "\t\tFGM[i] ~ binomial(FGA[i],theta[i]);\n",
      "\t}\n",
      "  }\n",
      "'\n",
      "\n",
      "#position categories (1 if point guard, 2 if wing, 3 if big)\n",
      "positioncat=1*(bbdata13$Position==\"PG\")+\n",
      "\t2*(bbdata13$Position %in% c(\"SG\",\"G\",\"SF\"))+\n",
      "\t3*(bbdata13$Position %in% c(\"PF\",\"F\",\"C\"))\n",
      "\n",
      "bb_dat3 <- list(nplayers=nrow(bbdata13),npositions=length(unique(positioncat)),\n",
      "\tpositioncat=positioncat,FGA=bbdata13$FGA,FGM=bbdata13$FG)\n",
      "\n",
      "fit3=stan(model_code=bb_code3,data=bb_dat3,iter=1000,chains=4)\n",
      "\n",
      "samps3=extract(fit3,permute=TRUE,inc_warmup=FALSE)\n",
      "c(mean(samps3$theta[,1]),sd(samps3$theta[,1])) #posterior mean and SD\n",
      "quantile(samps3$theta[,1],c(.05,.25,.5,.75,.95)) #posterior quantiles\n",
      "\n",
      "post_means3=apply(samps3$theta,MARGIN=2,mean)\n",
      "post_medians3=apply(samps3$theta,MARGIN=2,median)"
     ]
    },
    {
     "cell_type": "heading",
     "level": 3,
     "metadata": {},
     "source": [
      "Results for the 2012-2013 Season"
     ]
    },
    {
     "cell_type": "markdown",
     "metadata": {},
     "source": [
      "Now that we have our three models and three posterior predictive distributions we see how well each model's predictions performed compared to the actual outcomes in the 2012-2013 season. Below are the R codes used to generate the visualizations, followed by the visualizations themselves."
     ]
    },
    {
     "cell_type": "raw",
     "metadata": {},
     "source": [
      "setwd( 'C:/Users/kevin/Desktop/Fall 2013/Stat 121/Final/' )\n",
      "source( 'visualize.R' )\n",
      "\n",
      "## all season data\n",
      "load(\"C:/Users/kevin/Desktop/Fall 2013/Stat 121/Final/ModelResults5.RData\")\n",
      "dat.postAS <- read.table( 'fg_post_groupby_sum.csv', sep = ',', h = T, quote = '' )\n",
      "dat.preAS <- read.table( 'fg_pre_groupby_sum.csv', sep = ',', h = T, quote = '' )\n",
      "rownames( dat.postAS ) <- dat.postAS$Id\n",
      "rownames( dat.preAS ) <- dat.preAS$Id\n",
      "\n",
      "## data before December\n",
      "dat.pre11 <- read.table( 'aggregated_pre_NOV_12_13.csv', sep=',', h = T, quote = \"\" )\n",
      "\n",
      "IDs <- dat.pre11$Id\n",
      "rownames( dat.pre11 ) <- IDs\n",
      "IDs.c <- as.character( IDs )\n",
      "\n",
      "## adding players who did not play after all-star break\n",
      "IDs.missing <- IDs[ ! IDs %in% dat.postAS$Id ]\n",
      "add.postAS <- matrix( 0, ncol = ncol( dat.postAS ), nrow = length( IDs.missing ) )\n",
      "rownames( add.postAS ) <- IDs.missing\n",
      "dat.post <- rbind( dat.postAS, IDs.missing )\n",
      "dat.post[ IDs.missing, ]$FG <- 0\n",
      "dat.post[ IDs.missing, ]$FGA <- 0\n",
      "       \n",
      "## generating data for all season / after December\n",
      "dat.All <- data.frame( Id = IDs,\n",
      "                       FG = dat.post[ IDs.c, ]$FG + dat.preAS[ IDs.c, ]$FG,\n",
      "                       FGA = dat.post[ IDs.c, ]$FGA + dat.preAS[ IDs.c, ]$FGA )\n",
      "dat.post11 <- data.frame( FG = dat.All$FG - dat.pre11$FG,\n",
      "                          FGA = dat.All$FGA - dat.pre11$FGA )\n",
      "rownames( dat.post11 ) <- IDs\n",
      "\n",
      "## remove players who did not playe after December\n",
      "IDs.remove <- which( dat.post11$FGA == 0 )\n",
      "dat.pre11 <- dat.pre11[ -IDs.remove, ]\n",
      "dat.post11 <- dat.post11[ -IDs.remove, ]\n",
      "\n",
      "names( post_means1 ) <- names( post_means2 ) <- names( post_means3 ) <- IDs\n",
      "post_means1 <- post_means1[ -IDs.remove ]\n",
      "post_means2 <- post_means2[ -IDs.remove ]\n",
      "post_means3 <- post_means3[ -IDs.remove ]\n",
      "\n",
      "##\n",
      "dat.final <- data.frame( id = dat.pre11$Id, \n",
      "                         name = dat.pre11$Name,\n",
      "                         position = dat.pre11$Position,\n",
      "                         pre = dat.pre11$FG / dat.pre11$FGA,\n",
      "                         post = dat.post11$FG / dat.post11$FGA,\n",
      "                         model_1 = post_means1,\n",
      "                         model_2 = post_means2,\n",
      "                         model_3 = post_means3,\n",
      "                         pre.FG = dat.pre11$FG,\n",
      "                         pre.FGA = dat.pre11$FGA,\n",
      "                         post.FG = dat.post11$FG,\n",
      "                         post.FGA = dat.post11$FGA )\n",
      "id.missing <- which( is.na( dat.final$pre ) )\n",
      "dat.final <- dat.final[ -id.missing, ]\n",
      "dat.error <- data.frame( id = dat.final$id,\n",
      "                         name = dat.final$name,\n",
      "                         position = dat.final$position,\n",
      "                         mle = dat.final$pre - dat.final$post,\n",
      "                         model_1 = dat.final$model_1 - dat.final$post,\n",
      "                         model_2 = dat.final$model_2 - dat.final$post,\n",
      "                         model_3 = dat.final$model_3 - dat.final$post )\n",
      "\n",
      "## Generate Figures\n",
      "dat.thin <- read.csv( 'SelectedPlayers.csv' )\n",
      "wd <- 'Figures'\n",
      "ids.thin <- dat.thin$Id\n",
      "for( ii in 1:3 )\n",
      "  generate_figures( ii, wd = wd, ids.thin= ids.thin )\n",
      "\n",
      "\n",
      "\n",
      "####### 2013-2014\n",
      "rm( list = ls() )\n",
      "load(\"C:/Users/kevin/Desktop/Fall 2013/Stat 121/Final/ModelResults14.RData\")\n",
      "source( 'visualize.R' )\n",
      "\n",
      "dat.pre11 <- read.csv( 'id_groupby_sum_2014.csv' )\n",
      "\n",
      "dat.final <- data.frame( id = dat.pre11$Id, \n",
      "                         name = dat.pre11$Name,\n",
      "                         position = dat.pre11$Position,\n",
      "                         pre = dat.pre11$FG / dat.pre11$FGA,\n",
      "                         model_14 = post_means14,\n",
      "                         pre.FG = dat.pre11$FG,\n",
      "                         pre.FGA = dat.pre11$FGA )\n",
      "id.remove <- which( is.na( dat.final$pre ) )  # players with 0 shooting attempts\n",
      "dat.final <- dat.final[ -id.remove, ]\n",
      "\n",
      "\n",
      "dat.thin <- read.csv( 'SelectedPlayers.csv' )\n",
      "wd <- 'Figures'\n",
      "ids.thin <- dat.thin$Id\n",
      "generate_figures( 14, wd = wd, ids.thin= ids.thin, actual = F )\n",
      "\n",
      "# dat.final$dif <- dat.final$model_14 - dat.final$pre\n",
      "# write.table( dat.final, 'Projection_2014.dat', sep = '\\t', quote = F,\n",
      "#              row.names = F )\n"
     ]
    },
    {
     "cell_type": "raw",
     "metadata": {},
     "source": [
      "require( gridExtra )\n",
      "require( gplots )\n",
      "require( ggplot2 )\n",
      "require( reshape )\n",
      "require( scales )\n",
      "require( devtools )\n",
      "\n",
      "generate_figures <- function( ii, wd = getwd(), actual = T, logScale = F, name.shrink = T, ids.thin = NULL ){\n",
      "  orig.wd <- getwd()\n",
      "  setwd( wd )\n",
      "  \n",
      "  model <- paste( 'model', ii, sep = '_' )\n",
      "  if( actual ){\n",
      "    dat <- data.frame( model = c( dat.final[[ model ]] ), actual = dat.final$post, mle = dat.final$pre,\n",
      "                       pre_FGA = dat.final$pre.FGA, post_FGA = dat.final$post.FGA,\n",
      "                       Id = dat.final$id, err.model = dat.error[[ model ]], err.mle = dat.error$mle,\n",
      "                       Name = dat.final$name )    \n",
      "  }else{\n",
      "    dat <- data.frame( model = c( dat.final[[ model ]] ), mle = dat.final$pre,\n",
      "                       pre_FGA = dat.final$pre.FGA, Id = dat.final$id, Name = dat.final$name )\n",
      "  }\n",
      "  \n",
      "  dat$position <- sapply( dat.final$position, function( pp ){\n",
      "    if( pp == 'PG' )\n",
      "      return( 'Guard' )\n",
      "    if( pp == 'SG' | pp == 'SF' )\n",
      "      return( 'Wing' )\n",
      "    return( 'Big-man' )\n",
      "  })\n",
      "  \n",
      "  \n",
      "  ## 2. Plot of x=Actual vs. y = Predicted\n",
      "  tmp.i <- 3\n",
      "  if( !actual )\n",
      "    tmp.i <- 2\n",
      "  \n",
      "  plot.lim <- c( min( dat[ , 1:tmp.i ], na.rm = T ), max( dat[ , 1:tmp.i ], na.rm = T ) )\n",
      "  \n",
      "  dat.2.tmp1 <- data.frame( Model = 'model', Id = dat$Id, value = dat$model, x= dat$mle )\n",
      "  dat.2.tmp2 <- data.frame( Model = 'pre', Id = dat$Id, value = dat$mle, x= dat$mle )\n",
      "  if( actual ){\n",
      "    dat.2.tmp3 <- data.frame( Model = 'post', Id = dat$Id, value = dat$actual, x= dat$mle )\n",
      "    dat.2 <- rbind( dat.2.tmp1, dat.2.tmp2, dat.2.tmp3 )  \n",
      "  }else{\n",
      "    dat.2 <- rbind( dat.2.tmp1, dat.2.tmp2 )  \n",
      "  }\n",
      "  \n",
      "  ss <- 1\n",
      "  if( ! is.null( ids.thin ) ){\n",
      "    dat.2 <- dat.2[ dat.2$Id %in% ids.thin, ]\n",
      "    ss <- 3 \n",
      "  }\n",
      "  \n",
      "  dat.2$Model <- factor( dat.2$Model, levels = c( 'model', 'pre', 'post' ) )  \n",
      "  cols <- c( '#3399FF', 'grey50', '#009933' )\n",
      "  \n",
      "  plt2 <- ggplot( data = dat.2, aes( x = x, y = value, colour = factor( Model ) ) ) + \n",
      "    geom_point( size = ss, shape = 19 ) + xlim( plot.lim ) + ylim( plot.lim ) +\n",
      "    scale_color_manual( name = 'Model', values = cols,\n",
      "                        labels = c( 'Our model', 'MLE', 'Actual' ) ) +\n",
      "    scale_fill_manual( name = 'Model', values = cols ) +\n",
      "    xlab( 'Pre-December Field Goal Percentage' ) +\n",
      "    ylab( 'Post-December Field Goal Perecentage')\n",
      "  \n",
      "  png( paste( model, '_plt2.png', sep ='' ) )\n",
      "  print( plt2 )\n",
      "  dev.off()\n",
      "  \n",
      "  \n",
      "  ## 4. Histogram of Dif of Probability\n",
      "  if( actual ){\n",
      "    dat.4.tmp1 <- data.frame( model = 'model', se = dat$err.model^2 )\n",
      "    dat.4.tmp2 <- data.frame( model = 'mle', se = dat$err.mle^2 )\n",
      "    dat.4 <- rbind( dat.4.tmp1, dat.4.tmp2 )\n",
      "    \n",
      "    plt4 <- ggplot( dat.4, aes( x = se, fill = model ) ) +\n",
      "      geom_bar( position = 'dodge', binwidth = 0.02 ) +\n",
      "      xlab( 'Squared Error' ) + ylab( 'Counts' ) +\n",
      "      scale_fill_manual( values = cols[ c( 1, 2 ) ], name = 'Model', labels = c( 'Our Model', 'MLE' ) ) +\n",
      "      xlim( c( 0, max( dat.4$se ) + 0.02 ) )\n",
      "    \n",
      "    if( logScale )\n",
      "      plt4 <- plt4 + scale_y_log10() \n",
      "    png( paste( model, '_plt4-1.png', sep ='' ) )\n",
      "    print( plt4 )\n",
      "    dev.off()\n",
      "    \n",
      "    dat.4.2 <- data.frame( dif.se = dat$err.model^2 - dat$err.mle^2 )\n",
      "    plt4.2 <- ggplot( dat.4.2, aes( x = dif.se ) ) +\n",
      "      geom_bar( binwidth = .01, fill = cols[ 3 ], colour = 'black' ) +\n",
      "      xlab( 'Difference of Squared Error (Our Model - MLE)' ) + ylab( 'Counts' )\n",
      "    if( logScale )\n",
      "      plt4.2 <- plt4.2 + scale_y_log10()\n",
      "    \n",
      "    png( paste( model, '_plt4-2.png', sep ='' ) )\n",
      "    print( plt4.2 )\n",
      "    dev.off()\n",
      "  }\n",
      "  \n",
      "  ## 1. Shrinkage Plot\n",
      "  \n",
      "  lvl <- levels( factor( c( 'mle', model ) ) )\n",
      "  dat.1.tmp1 <- data.frame( model = 'mle', player = dat$Name, FGA = dat$pre_FGA,\n",
      "                            value = dat$mle, id = dat$Id, pos = dat$position )\n",
      "  \n",
      "  dat.1.tmp2 <- data.frame( model = model, player = dat$Name, FGA = dat$pre_FGA,\n",
      "                            value = dat$model, id = dat$Id, pos = dat$position )\n",
      "  dat.1 <- rbind( dat.1.tmp1, dat.1.tmp2 )\n",
      "  dat.1$model <- factor( dat.1$model, levels = lvl )\n",
      "  if( ! is.null( ids.thin ) ){\n",
      "    dat.1 <- dat.1[ dat.1$id %in% ids.thin, ]\n",
      "    dat.1.tmp1 <- dat.1.tmp1[ dat.1.tmp1$id %in% ids.thin, ]\n",
      "  }\n",
      "  \n",
      "  plt1 <- ggplot( dat.1, aes( x = model, y = value, colour = pos ) ) +\n",
      "    geom_line( aes( group = player ) ) + geom_point( show_guide = F ) +\n",
      "    scale_x_discrete( breaks = c( 'mle', model ), expand = c( 0, 0.5 ), \n",
      "                      labels = c( 'Pre-December', 'Our Model') ) + labs( x= '', y = 'Field Goal Percentage') +\n",
      "    scale_color_discrete( 'Position' )  \n",
      "  #geom_point( colour = '#3399FF' ) +\n",
      "  #+ theme(legend.position=\"none\")\n",
      "  if( name.shrink )\n",
      "    plt1 <- plt1 + geom_text( data = dat.1.tmp1, position= 'dodge', colour = 'black',\n",
      "                              aes( hjust = 1.1, label = player, size = 1 ), show_guide = F ) \n",
      "  \n",
      "  \n",
      "  png( paste( model, '_plt1.png', sep ='' ), width = 650  )\n",
      "  print( plt1 )\n",
      "  dev.off()\n",
      "  \n",
      "  ## 3. x=MLE vs. y=Model (showing shrinkage)\n",
      "  #ggplot( data = dat, aes( x = mle, y = model ) ) +\n",
      "  #  geom_line( aes( x = xx, y = yy ), colour ='red' ) +\n",
      "  #  geom_point( shape = 20, size = 3, colour = '#3399FF' ) +\n",
      "  #  xlim( plot.lim ) + ylim( plot.lim )\n",
      "  nn <- nrow( dat )\n",
      "  col.3 <- c( gg_color_hue( 3 ), 'grey50' )\n",
      "  dat.3.tmp1 <- data.frame( Model = 'model', Id = dat$Id, value = dat$model, \n",
      "                            x = rank(dat$mle )/nn, x.tmp = dat$mle, pos = dat$position )\n",
      "  dat.3.tmp2 <- data.frame( Model = 'pre', Id = dat$Id, value = dat$mle, \n",
      "                            x= rank( dat$mle )/nn, x.tmp = dat$mle, pos = 'mle' )\n",
      "  dat.3 <- rbind( dat.3.tmp1, dat.3.tmp2 )\n",
      "\n",
      "  cols <- c( '#3399FF', 'grey50' )\n",
      "  plt3.tmp <- ggplot( data = dat.3, aes( x = x.tmp, y = value, colour = factor( pos ) ) ) + \n",
      "    geom_point( ) + #xlim( plot.lim ) + ylim( plot.lim ) +\n",
      "    scale_color_manual( name = 'Model/Position', values = col.3,\n",
      "                        labels = c( paste( 'Our Model', levels( dat.3.tmp1$pos ), sep =' / ' ), 'MLE' ) ) +\n",
      "    scale_fill_manual( name = 'Model', values = col.3 ) +\n",
      "    labs( x = 'Pre-December Field Goal Perecentage', y = 'Post-December Field Goal Perecentage' )\n",
      "  \n",
      "  plt3 <- ggplot( data = dat.3, aes( x = x, y = value, colour = factor( pos ) ) ) + \n",
      "    geom_point( ) + #xlim( plot.lim ) + ylim( plot.lim ) +\n",
      "    scale_color_manual( name = 'Model/Position', values = col.3,\n",
      "                        labels = c( paste( 'Our Model', levels( dat.3.tmp1$pos ), sep =' / ' ), 'MLE' ) ) +\n",
      "    scale_fill_manual( name = 'Model', values = col.3 ) +\n",
      "    labs( x = 'Pre-December Field Goal Perecentage', y = 'Post-December Field Goal Perecentage' )\n",
      "  \n",
      "  png( paste( model, '_plt3.png', sep ='' ) )\n",
      "  print( plt3 )\n",
      "  dev.off()\n",
      "  \n",
      "  png( paste( model, '_plt3_tmp.png', sep = '' ) )\n",
      "  print( plt3.tmp )\n",
      "  dev.off()\n",
      "  \n",
      "  ## 5. x = post_FGA vs. y = dif. of error\n",
      "  if( actual ){\n",
      "    dat.5 <- data.frame( x = dat$pre_FGA, y = dat$err.model^2 - dat$err.mle^2 )\n",
      "    plt5 <- ggplot( data = dat.5, aes( x = x, y = y ) ) +\n",
      "      geom_point( colour = '#3399FF' ) + xlab( 'Pre-December Field Goal Attempts' ) +\n",
      "      ylab( 'Difference of Squared Error (Our Model - MLE)' ) + scale_x_log10()\n",
      "    png( paste( model, '_plt5.png', sep ='' ) )\n",
      "    print( plt5 )\n",
      "    dev.off()  \n",
      "  }\n",
      "  \n",
      "  \n",
      "  setwd( orig.wd )\n",
      "}\n",
      "\n",
      "gg_color_hue <- function( n ) {\n",
      "  hues = seq(15, 375, length = n + 1 )\n",
      "  hcl( h = hues, l = 65, c = 100 )[ 1:n ]\n",
      "}"
     ]
    },
    {
     "cell_type": "markdown",
     "metadata": {},
     "source": [
      "Now that we have all our visualizations, we will discuss each one for each of the 3 models. The graphs are as follows:\n",
      "\n",
      "**Graph 1:** This visualization is a \"shrinkage plot\" for 13 selected players. These players were manually selected to most cleanly demonstrate how our model shrinks the FG% (so the text for the names in the plot do not overlap). Players with extreme pre-December 1 FG% are shrunk toward a central value. These players remain the same throughout all visualizations.\n",
      "\n",
      "**Graph 2:** In this visualization we use a scatterplot to look at pre- and post-December 1 field goal percentages for the 13 players from graph 1. We plot the MLE or \"naive\" predictions in gray as the y=x, 45 degree line. This means that the MLE model predicts whatever players are shooting now will remain constant throughout the rest of the season. Our model is plotted in blue while the actual FG% are plotted in green. \n",
      "\n",
      "**Graph 3-1:** This graph is the same as graph 2 but for all players. We do not include actual post-December 1 values as the graph would become too cluttered and unreadable. The average slope of the model predictions for our model is less steep than the naive model due to our inclusion of shrinkage.\n",
      "\n",
      "**Graph 3-2:** This graph is the same as graph 3-1 but with the x values organized into quantiles. This graph was included to better visualize the players clustered closely near the center of the graph. This is like a Q-Q plot except we leave the y values as raw predictions.\n",
      "\n",
      "**Graph 4-1:** This is a histogram of squared errors for our model and MLE. As you'll see most squared errors in this plot are very small. However we did not use a log transformation because the presentation of bins with counts of 1 in ggplot2 were non-sensical. \n",
      "\n",
      "**Graph 4-2:** This is a histogram of the differences between the squared errors of our model and those of the MLE model. Negative values mean that our model performed better than the naive model.\n",
      "\n",
      "**Graph 5:** Scatterplot of the differences from graph 4-2 versus pre-December 1 field goal attempts. The x-axis is on a log scale to highlight players with small sample sizes."
     ]
    },
    {
     "cell_type": "heading",
     "level": 4,
     "metadata": {},
     "source": [
      "Model 1"
     ]
    },
    {
     "cell_type": "heading",
     "level": 5,
     "metadata": {},
     "source": [
      "**Graph 1**"
     ]
    },
    {
     "cell_type": "markdown",
     "metadata": {},
     "source": [
      "<div class=\"banner-container\">\n",
      "<img src=\"../files/Model_1/model_1_plt1.png\" width=600>\n",
      "</div>"
     ]
    },
    {
     "cell_type": "markdown",
     "metadata": {},
     "source": [
      "One point of interest that showcases our model well is the crossing of Hasheem Thabeet's and Tyson Chandler's predictions. Thabeet has a higher pre-December FG% but is predicted to end up with a lower FG% than Chandler in our model. In this case, both get shrunk toward the central value but Thabeet shrinks more because he has a smaller sample size pre-December 1. From Chandler's perspective, he is shrunk as well but not as much as Thabeet because of his relatively larger sample size.\n",
      "\n",
      "DeMarcus Cousins is also worth noting as his plot is flat. This indicates he shot an average FG% pre-December 1 and thus we do not predict much regression toward the mean since he is already shooting at the mean FG%. In his case MLE would likely produce predictions equally as good as our model.\n",
      "\n",
      "The position colors are irrelevant for this model, as all players are shrunk toward one common central value; those will come into play later."
     ]
    },
    {
     "cell_type": "heading",
     "level": 5,
     "metadata": {},
     "source": [
      "**Graph 2**"
     ]
    },
    {
     "cell_type": "markdown",
     "metadata": {},
     "source": [
      "<div class=\"banner-container\">\n",
      "<img src=\"files/Model_1/model_1_plt2.png\" width=550>\n",
      "</div>"
     ]
    },
    {
     "cell_type": "markdown",
     "metadata": {},
     "source": [
      "In this plot we can see how our predictions did relative to the MLE predictions for the 13 players from graph 1 using the actual post-December 1 data. Overall our predictions are closer to the actual data than the MLE. We chose these 13 players without looking at the actual post-December 1 data.\n",
      "\n",
      "Indeed we correctly predicted the re-ordering of Thabeet and Chandler. Thabeet is the right-most point and Chandler the second from the right. Thabeet did indeed drop more than Chandler in the post-December 1 data, just as our model predicted.\n",
      "\n",
      "Cousins, as expected, remains average throughout the season.\n",
      "\n",
      "Model 1 has a relatively weak prior, with empirical Bayes estimates of $\\alpha=4.93$ and $\\beta=6.89$.  We can see that our predictions are shrunk weakly toward the central FG% value, and perhaps a stronger prior is needed."
     ]
    },
    {
     "cell_type": "heading",
     "level": 5,
     "metadata": {},
     "source": [
      "**Graph 3-1**"
     ]
    },
    {
     "cell_type": "markdown",
     "metadata": {},
     "source": [
      "<div class=\"banner-container\">\n",
      "<img src=\"files/Model_1/model_1_plt3_tmp.png\" width=600>\n",
      "</div>"
     ]
    },
    {
     "cell_type": "markdown",
     "metadata": {},
     "source": [
      "From the graph, you can clearly see the shrinkage for all players. Many of the players are in the middle of the pack and for those on either extreme, our model pulls their predictions closer to the center, sometimes up to over 50 percentage points."
     ]
    },
    {
     "cell_type": "heading",
     "level": 5,
     "metadata": {},
     "source": [
      "**Graph 3-2**"
     ]
    },
    {
     "cell_type": "markdown",
     "metadata": {},
     "source": [
      "<div class=\"banner-container\">\n",
      "<img src=\"files/Model_1/model_1_plt3.png\" width=600>\n",
      "</div>"
     ]
    },
    {
     "cell_type": "markdown",
     "metadata": {},
     "source": [
      "This graph too shows shrinkage in action, with x-axis transformed to we can more clearly see the \"middle\" players. The players in the middle 25% of the graph have model predictions that strongly resemble MLE. As before, players on either extreme are pulled toward the center by as much as 50 percentage points depending on pre-December 1 sample size."
     ]
    },
    {
     "cell_type": "heading",
     "level": 5,
     "metadata": {},
     "source": [
      "**Graph 4-1**"
     ]
    },
    {
     "cell_type": "markdown",
     "metadata": {},
     "source": [
      "<div class=\"banner-container\">\n",
      "<img src=\"files/Model_1/model_1_plt4-1.png\" width=550>\n",
      "</div>"
     ]
    },
    {
     "cell_type": "markdown",
     "metadata": {},
     "source": [
      "Both our model and MLE performed fairly well for a number of players as shown by the large bins near 0. MLE grossly mis-estimates for a good chunk of players as shown by the handful of bars along the x-axis to the right, past 0.1. Our model's errors are generally smaller than MLE. When we calculate the mean squared error it is much lower than MLE. MLE's MSE is 0.0171 while our model is 0.0062."
     ]
    },
    {
     "cell_type": "heading",
     "level": 5,
     "metadata": {},
     "source": [
      "**Graph 4-2**"
     ]
    },
    {
     "cell_type": "markdown",
     "metadata": {},
     "source": [
      "<div class=\"banner-container\">\n",
      "<img src=\"files/Model_1/model_1_plt4-2.png\" width=550>\n",
      "</div>"
     ]
    },
    {
     "cell_type": "markdown",
     "metadata": {},
     "source": [
      "Most of these differences are negative which means our model does better at predicting FG% than MLE. Our model did better than MLE on 287 out of 401 players or 72% of all players. What that means is that 72% of the area in this histogram is left of 0."
     ]
    },
    {
     "cell_type": "heading",
     "level": 5,
     "metadata": {},
     "source": [
      "**Graph 5**"
     ]
    },
    {
     "cell_type": "markdown",
     "metadata": {},
     "source": [
      "<div class=\"banner-container\">\n",
      "<img src=\"files/Model_1/model_1_plt5.png\" width=550>\n",
      "</div>"
     ]
    },
    {
     "cell_type": "markdown",
     "metadata": {},
     "source": [
      "For players with fewer pre-December field goal attempts, our model makes much better predictions than MLE. This makes sense because our model is designed to shrink extreme values back to more reasonable values. For players with many pre-December 1 field goal attempts, they have similar error magnitudes. This also makes sense because as sample size increases, the observed data gradually overrides any prior/hyperprior distributions placed on the parameters."
     ]
    },
    {
     "cell_type": "heading",
     "level": 4,
     "metadata": {},
     "source": [
      "Model 2"
     ]
    },
    {
     "cell_type": "heading",
     "level": 5,
     "metadata": {},
     "source": [
      "**Graph 1**"
     ]
    },
    {
     "cell_type": "markdown",
     "metadata": {},
     "source": [
      "<div class=\"banner-container\">\n",
      "<img src=\"files/Model_2/model_2_plt1.png\" width=600>\n",
      "</div>"
     ]
    },
    {
     "cell_type": "markdown",
     "metadata": {},
     "source": [
      "This plot is fairly similar to its counterpart from Model 1, with extreme-shooting players shrunk down toward a common central value.  The same 13 players are shown.  The lines in this graph are generally steeper than they were in Model 1, suggesting that the hyperpriors on $\\alpha$ and $\\beta$ effectively created a somewhat stronger prior on the $\\theta_i$'s.  The stronger prior can be thought of as implementing larger prior sample sizes.  The stronger prior shrinks players more toward the center than they were in Model 1.\n",
      "\n",
      "The position colors are also irrelevant here but will be relevant in Model 3."
     ]
    },
    {
     "cell_type": "heading",
     "level": 5,
     "metadata": {},
     "source": [
      "**Graph 2**"
     ]
    },
    {
     "cell_type": "markdown",
     "metadata": {},
     "source": [
      "<div class=\"banner-container\">\n",
      "<img src=\"files/Model_2/model_2_plt2.png\" width=500>\n",
      "</div>"
     ]
    },
    {
     "cell_type": "markdown",
     "metadata": {},
     "source": [
      "We again see the effectively stronger prior in Model 2, as the predictions are shrunk more toward the center than they were in Model 1.  Judging from these 13 players, the shrinkage is no longer under-shrinking as it was in Model 1, but perhaps now it is a little too strong (over-shrinking).  This is particularly noticeable for Chandler and Thabeet (the two rightmost points), where our predictions now underestimate the actual post-December 1 FG%."
     ]
    },
    {
     "cell_type": "heading",
     "level": 5,
     "metadata": {},
     "source": [
      "**Graph 3-1**"
     ]
    },
    {
     "cell_type": "markdown",
     "metadata": {},
     "source": [
      "<div class=\"banner-container\">\n",
      "<img src=\"files/Model_2/model_2_plt3_tmp.png\" width=600>\n",
      "</div>"
     ]
    },
    {
     "cell_type": "heading",
     "level": 5,
     "metadata": {},
     "source": [
      "**Graph 3-2**"
     ]
    },
    {
     "cell_type": "markdown",
     "metadata": {},
     "source": [
      "<div class=\"banner-container\">\n",
      "<img src=\"files/Model_2/model_2_plt3.png\" width=600>\n",
      "</div>"
     ]
    },
    {
     "cell_type": "markdown",
     "metadata": {},
     "source": [
      "Both Graphs 3-1 and 3-2 show the stronger effectively perior, squeezing in the predictions tighter (closer to the central value) than they were in Model 1."
     ]
    },
    {
     "cell_type": "heading",
     "level": 5,
     "metadata": {},
     "source": [
      "**Graph 4-1**"
     ]
    },
    {
     "cell_type": "markdown",
     "metadata": {},
     "source": [
      "<div class=\"banner-container\">\n",
      "<img src=\"files/Model_2/model_2_plt4-1.png\" width=550>\n",
      "</div>"
     ]
    },
    {
     "cell_type": "markdown",
     "metadata": {},
     "source": [
      "Model 2 also outperforms the MLE in terms of squared error.  Model 2's MSE was 0.0043, compared to 0.0171 for the MLE.  Model 2 also beat out Model 1 in terms of MSE (Model 1's MSE was 0.0062)."
     ]
    },
    {
     "cell_type": "heading",
     "level": 5,
     "metadata": {},
     "source": [
      "**Graph 4-2**"
     ]
    },
    {
     "cell_type": "markdown",
     "metadata": {},
     "source": [
      "<div class=\"banner-container\">\n",
      "<img src=\"files/Model_2/model_2_plt4-2.png\" width=500>\n",
      "</div>"
     ]
    },
    {
     "cell_type": "markdown",
     "metadata": {},
     "source": [
      "Model 2 predictions beat the MLE predictions, in terms of squared error, for 268 of 401 (67%) players.  Interestingly, Model 2 had a lower MSE than Model 1 but beat the MLE for fewer players than Model 1 did (287 of 401 for 72%).  This suggests that Model 2 predictions were generally closer than Model 1 predictions to their actual post-December 1 FG% realizations, but that by chance, the MLE beat out Model 2 for a few players (likely toward the center, where all the predictions were close)."
     ]
    },
    {
     "cell_type": "heading",
     "level": 5,
     "metadata": {},
     "source": [
      "**Graph 5**"
     ]
    },
    {
     "cell_type": "markdown",
     "metadata": {},
     "source": [
      "<div class=\"banner-container\">\n",
      "<img src=\"files/Model_2/model_2_plt5.png\" width=550>\n",
      "</div>"
     ]
    },
    {
     "cell_type": "markdown",
     "metadata": {},
     "source": [
      "Again, we see that Model 2 does much better than the MLE for players with small FGA numbers (sample size).  If pre-December 1 sample sizes are large enough, the MLE is reasonably close to model predictions."
     ]
    },
    {
     "cell_type": "heading",
     "level": 4,
     "metadata": {},
     "source": [
      "Model 3"
     ]
    },
    {
     "cell_type": "heading",
     "level": 5,
     "metadata": {},
     "source": [
      "**Graph 1**"
     ]
    },
    {
     "cell_type": "markdown",
     "metadata": {},
     "source": [
      "<div class=\"banner-container\">\n",
      "<img src=\"files/Model_3/model_3_plt1.png\" width=600>\n",
      "</div>"
     ]
    },
    {
     "cell_type": "markdown",
     "metadata": {},
     "source": [
      "The main takeaway here is the clustering of colors.  The \"bigs\" gravitate toward a higher central value than wings, who gravitate toward a higher central value than point guards.  This result is by design in the model, where each position category had its own prior.\n",
      "\n",
      "We can see the prediction for Nazr Mohammed, a big who shot very poorly pre-December 1, is pulled strongly upward.  However, his pre-December 1 FG% was so poor that he is still projected to shoot worse than a few guards and wings.  Chandler and Thabeet are shrunk down less because of the higher central value for bigs.\n",
      "\n",
      "D.J. Augustin is pulled up only slightly, to the lowest central value, for point guards."
     ]
    },
    {
     "cell_type": "heading",
     "level": 5,
     "metadata": {},
     "source": [
      "**Graph 2**"
     ]
    },
    {
     "cell_type": "markdown",
     "metadata": {},
     "source": [
      "<div class=\"banner-container\">\n",
      "<img src=\"files/Model_3/model_3_plt2.png\" width=500>\n",
      "</div>"
     ]
    },
    {
     "cell_type": "markdown",
     "metadata": {},
     "source": [
      "For these 13 players (chosen before looking at actual post-December 1 data), Model 3 performs extremely well and better than Models 1 and 2.  The model predictions are almost right next to the actual post-December 1 FG% numbers!"
     ]
    },
    {
     "cell_type": "heading",
     "level": 5,
     "metadata": {},
     "source": [
      "**Graph 3-1**"
     ]
    },
    {
     "cell_type": "markdown",
     "metadata": {},
     "source": [
      "<div class=\"banner-container\">\n",
      "<img src=\"files/Model_3/model_3_plt3_tmp.png\" width=600>\n",
      "</div>"
     ]
    },
    {
     "cell_type": "heading",
     "level": 5,
     "metadata": {},
     "source": [
      "**Graph 3-2**"
     ]
    },
    {
     "cell_type": "markdown",
     "metadata": {},
     "source": [
      "<div class=\"banner-container\">\n",
      "<img src=\"files/Model_3/model_3_plt3.png\" width=600>\n",
      "</div>"
     ]
    },
    {
     "cell_type": "markdown",
     "metadata": {},
     "source": [
      "In Graphs 3-1 and 3-2, we see higher variation in predictions than we saw in the corresponding graphs for Models 1 and 2. This is due to the separation of position-specific central locations.  Instead of all being shrunk toward one common mean, predictions are now shrunk toward one of three means, depending on a player's position.  When visualizing all players, we see more variability because there are now three central values.  The central values are relatively close to one another, so it just looks like overall, predictions are not as narrow.  This can be validated easily by looking at predicted values of each position which are shown in different colors. Each position forms a layer, rather than being mingled as in Graphs 3-1 and 3-2 of Model 1 and Model 2, indicating that they are regressing toward the mean of each position.  "
     ]
    },
    {
     "cell_type": "heading",
     "level": 5,
     "metadata": {},
     "source": [
      "**Graph 4-1**"
     ]
    },
    {
     "cell_type": "markdown",
     "metadata": {},
     "source": [
      "<div class=\"banner-container\">\n",
      "<img src=\"files/Model_3/model_3_plt4-1.png\" width=500>\n",
      "</div>"
     ]
    },
    {
     "cell_type": "markdown",
     "metadata": {},
     "source": [
      "Model 3 easily beats the MLE in terms of MSE, with an MSE of 0.0039 (compared to 0.0171 for the MLE).  Model 3 has the lowest MSE of all of our models."
     ]
    },
    {
     "cell_type": "heading",
     "level": 5,
     "metadata": {},
     "source": [
      "**Graph 4-2**"
     ]
    },
    {
     "cell_type": "markdown",
     "metadata": {},
     "source": [
      "<div class=\"banner-container\">\n",
      "<img src=\"files/Model_3/model_3_plt4-2.png\" width=500>\n",
      "</div>"
     ]
    },
    {
     "cell_type": "markdown",
     "metadata": {},
     "source": [
      "Model 3 beats the MLE for 287 of 401 (72%) players."
     ]
    },
    {
     "cell_type": "heading",
     "level": 5,
     "metadata": {},
     "source": [
      "**Graph 5**"
     ]
    },
    {
     "cell_type": "markdown",
     "metadata": {},
     "source": [
      "<div class=\"banner-container\">\n",
      "<img src=\"files/Model_3/model_3_plt5.png\" width=500>\n",
      "</div>"
     ]
    },
    {
     "cell_type": "markdown",
     "metadata": {},
     "source": [
      "Pre-December 1 FGA (sample size) remains a big driver of when Model 3 outperforms the MLE."
     ]
    },
    {
     "cell_type": "heading",
     "level": 3,
     "metadata": {},
     "source": [
      "Applying Our Model to the Current (2013-2014) Season"
     ]
    },
    {
     "cell_type": "markdown",
     "metadata": {},
     "source": [
      "Now to make predictions!  We obtain data for the current (2013-2014) NBA season and, using the data available so far (until the end of November 2013), make predictions for each player's FG% for the remainder of the season.\n",
      "\n",
      "We reuse code from earlier in the process book to obtain the data and then rerun our exploratory analysis and model-building using the new data."
     ]
    },
    {
     "cell_type": "heading",
     "level": 4,
     "metadata": {},
     "source": [
      "Obtaining the New Data"
     ]
    },
    {
     "cell_type": "markdown",
     "metadata": {},
     "source": [
      "First, we modify the get_player_data function from above to get data from the 2013-2014 season."
     ]
    },
    {
     "cell_type": "code",
     "collapsed": false,
     "input": [
      "\"\"\"\n",
      "function: get_player_data_2014\n",
      "\n",
      "description: takes a player id, scrapes CBS website for that player's data, returns tuple with stat headings (FG, FGA, MIN, etc)\n",
      "as first element and a dict containing all stats for all games player participated in for 2013-2014 season as second element.\n",
      "Entries in the dict are keyed on the date of the game.\n",
      "\n",
      "inputs: player_id: int\n",
      "\n",
      "outputs: tuple. First element is list of of stat headings. Second element is a dict. Dict is keyed on game date and values are lists \n",
      "of the games' stats.\n",
      "\"\"\"\n",
      "\n",
      "def get_player_data_2014(player_id):\n",
      "    # The following while loop is used to handle server timeouts. Occasionally the CBS server would not return information\n",
      "    # and the program would exceed the max allowable retries. The while loop limits request tries to 3 and then returns None\n",
      "    # and moves on if it hasn't gotten information from the server.\n",
      "    \n",
      "    attempt = 0\n",
      "    \n",
      "    while attempt <= 2: \n",
      "        try:\n",
      "            html = requests.get('http://fantasynews.cbssports.com/fantasybasketball/players/player/gamelogs/2013/%d' % player_id).text\n",
      "            break\n",
      "            \n",
      "        except:\n",
      "            attempt += 1\n",
      "    \n",
      "    if attempt == 3:\n",
      "        return None\n",
      "    \n",
      "    dom = web.Element(html)\n",
      "    data = {}\n",
      "    headings = []\n",
      "    \n",
      "    # This if statement checks to see if any usable data at all was returned. Some players with IDs did not play for the entirety\n",
      "    # of the season and thus had no data.\n",
      "    if len(dom.by_class('label')) == 0:\n",
      "        return None\n",
      "    \n",
      "    # This loop produces the headings for the individual stats. (i.e. FG, FGA, MIN, etc.)\n",
      "    for i, stat_headings in enumerate(dom.by_class('label')[1]):\n",
      "        # We need to knock off the html tags.\n",
      "        heading = str(stat_headings)[4:-5]\n",
      "        if len(heading) > 0 and i > 1:\n",
      "            headings.append(heading)\n",
      "    \n",
      "    # This loop grabs the data for each game and puts it in a dict keyed on the date of each game\n",
      "    for element in dom.by_class('data borderTop'):\n",
      "        for row in element.by_tag('tr'):\n",
      "            for i, each in enumerate(row.by_tag('td')):\n",
      "                if i == 0:\n",
      "                    #the key here is the date of the game\n",
      "                    key = str(each.content)\n",
      "                    data[key] = []\n",
      "                else:\n",
      "                    data[key].append(each.content)\n",
      "                    \n",
      "    return (headings, data)"
     ],
     "language": "python",
     "metadata": {},
     "outputs": [],
     "prompt_number": 54
    },
    {
     "cell_type": "markdown",
     "metadata": {},
     "source": [
      "We also need to modify the get_all_player_data function to use the new get_player_data_2014 function."
     ]
    },
    {
     "cell_type": "code",
     "collapsed": false,
     "input": [
      "\"\"\"\n",
      "Function: get_all_player_data_2014\n",
      "\n",
      "Description: gets all player data for the 2013-2014 season.\n",
      "\n",
      "Inputs: None\n",
      "\n",
      "Outputs: Dataframe of all players and their data\n",
      "\"\"\"\n",
      "\n",
      "def get_all_player_data_2014():\n",
      "    #Part of this solution is from the HW3 solution, problem 1.2\n",
      "    \n",
      "    #First we grab all player ids.\n",
      "    ids = get_player_ids()\n",
      "    dfs = []\n",
      "    \n",
      "    #Next we iterate through the ids, grabbing everyone's data, and appending it to the dfs list it.\n",
      "    for player_id in ids:\n",
      "        \n",
      "        #unpack the ids\n",
      "        pid, player_name, player_position = player_id\n",
      "        \n",
      "        #get the player's data, checking to make sure it's actually there\n",
      "        player_data = get_player_data_2014(pid)\n",
      "        if player_data != None:\n",
      "            headings, raw_data = player_data\n",
      "        else:\n",
      "            continue\n",
      "        \n",
      "        #Now we clean that data...\n",
      "        data = clean_data(headings, raw_data)\n",
      "        \n",
      "        #...and package it into a nice dataframe\n",
      "        player_df = make_dataframe(pid, player_name, player_position, headings, data)\n",
      "        dfs.append(player_df)\n",
      "    \n",
      "    all_player_df = pd.concat(dfs, ignore_index=True)\n",
      "    \n",
      "    return all_player_df"
     ],
     "language": "python",
     "metadata": {},
     "outputs": [],
     "prompt_number": 47
    },
    {
     "cell_type": "markdown",
     "metadata": {},
     "source": [
      "Now that we have those two functions modified appropriately, we can scrape the data and download it as a csv file for later use."
     ]
    },
    {
     "cell_type": "code",
     "collapsed": false,
     "input": [
      "#all_data_2014 = get_all_player_data_2014()\n",
      "#all_data_2014.to_csv('all_data_2014.csv', index=False)\n",
      "all_data_2014 = pd.read_csv('all_data_2014.csv')"
     ],
     "language": "python",
     "metadata": {},
     "outputs": [],
     "prompt_number": 3
    },
    {
     "cell_type": "markdown",
     "metadata": {},
     "source": [
      "In the same way as before, we calculate shooting percentages and rearrange columns to a more intuitive format"
     ]
    },
    {
     "cell_type": "code",
     "collapsed": false,
     "input": [
      "cols = ['Id', 'Name', 'Date', 'Position', 'Opp', 'Result', 'MIN', 'FG', 'FGA', 'FG3', 'FG3A', 'FT', 'FTA', \n",
      "        'OFF', 'REB', 'TREB', 'A', 'STL', 'BLK', 'TO', 'PF', 'PTS']\n",
      "\n",
      "all_data_2014 = all_data_2014[cols]"
     ],
     "language": "python",
     "metadata": {},
     "outputs": [],
     "prompt_number": 4
    },
    {
     "cell_type": "markdown",
     "metadata": {},
     "source": [
      "As before, we drop games for players who did not enter the game and convert the dates to datetime objects."
     ]
    },
    {
     "cell_type": "code",
     "collapsed": false,
     "input": [
      "all_data_2014 = all_data_2014[~all_data_2014['MIN'].isnull()]\n",
      "\n",
      "all_data_2014['Date'] = pd.to_datetime(all_data_2014['Date'])\n",
      "\n",
      "all_data_2014['FG%'] = all_data_2014['FG']/all_data_2014['FGA']"
     ],
     "language": "python",
     "metadata": {},
     "outputs": [],
     "prompt_number": 5
    },
    {
     "cell_type": "markdown",
     "metadata": {},
     "source": [
      "And now, we create a groupby object to use in our exploratory data analysis and predictions for the 2013-2014 season."
     ]
    },
    {
     "cell_type": "code",
     "collapsed": false,
     "input": [
      "id_groupby_sum_2014 = all_data_2014.groupby(['Id', 'Name'], as_index = False).sum()\n",
      "id_groupby_2014 = all_data_2014.groupby(['Id', 'Name'], as_index = False).mean()"
     ],
     "language": "python",
     "metadata": {},
     "outputs": [],
     "prompt_number": 6
    },
    {
     "cell_type": "code",
     "collapsed": false,
     "input": [
      "fg_all_2014 = id_groupby_2014.copy()\n",
      "#Need to make sure there are only people who actually attempted field goals included\n",
      "fg_all_2014 = fg_all_2014[~fg_all_2014['FG%'].isnull()]\n",
      "plt.hist(fg_all_2014['FG%'], bins = 50)\n",
      "\n",
      "#plot a mean and median line to look for possible skewing\n",
      "plt.axvline(fg_all_2014['FG%'].median(), color = 'b', label = 'Median')\n",
      "plt.axvline(fg_all_2014['FG%'].mean(), color = 'r', label = 'Mean')\n",
      "axes = plt.gca()\n",
      "axes.set_xlim(0, 1)\n",
      "plt.title('FG% All Players 2013-14 Season So Far')\n",
      "plt.xlabel('Field Goal %')\n",
      "plt.legend(loc = 1)\n",
      "remove_border()\n",
      "plt.show()\n",
      "\n",
      "print \"Median is: \", fg_all_2014['FG%'].median()\n",
      "print \"Mean is: \", fg_all_2014['FG%'].mean()\n",
      "print \"Variance is: \", fg_all_2014['FG%'].var()"
     ],
     "language": "python",
     "metadata": {},
     "outputs": [
      {
       "metadata": {},
       "output_type": "display_data",
       "png": "[encoded data removed]",
       "text": [
        "<matplotlib.figure.Figure at 0x518c128>"
       ]
      },
      {
       "output_type": "stream",
       "stream": "stdout",
       "text": [
        "Median is:  0.425529897039\n",
        "Mean is:  0.418685465668\n",
        "Variance is:  0.0142234850879\n"
       ]
      }
     ],
     "prompt_number": 8
    },
    {
     "cell_type": "markdown",
     "metadata": {},
     "source": [
      "The field goal percentages here seem to roughly resemble a normal distribution already."
     ]
    },
    {
     "cell_type": "heading",
     "level": 4,
     "metadata": {},
     "source": [
      "Making the Prediction"
     ]
    },
    {
     "cell_type": "markdown",
     "metadata": {},
     "source": [
      "In order to make the prediction for the 2013-2014 season, we use code in R as before. It is pasted below."
     ]
    },
    {
     "cell_type": "raw",
     "metadata": {},
     "source": [
      "#Bayesian Hierarchical Model 3 (position-specific priors)\n",
      "bb_code3 <- '\n",
      "  data{\n",
      "\tint<lower=0> nplayers; #number of players (equals number of observations)\n",
      "\tint<lower=0> npositions; #number of positions\n",
      "\tint<lower=0> positioncat[nplayers]; #position category\n",
      "\tint<lower=0> FGA[nplayers]; #field goal attempts\n",
      "\tint<lower=0> FGM[nplayers]; #field goals made\n",
      "  }\n",
      "  parameters{\n",
      "\treal<lower=0,upper=1> theta[nplayers];\n",
      "\treal<lower=0> alpha[npositions];\n",
      "\treal<lower=0> beta[npositions];\n",
      "  }\n",
      "#  transformed parameters{\n",
      "#\tany transformed parameters here\n",
      "#  }\n",
      "  model{\n",
      "\tfor(pos in 1:npositions){\n",
      "\t\talpha[pos] ~ gamma(2,.05);\n",
      "\t\tbeta[pos] ~ gamma(2,.05);\n",
      "\t}\n",
      "\tfor(i in 1:nplayers){\n",
      "\t\ttheta[i] ~ beta(alpha[positioncat[i]],beta[positioncat[i]]);\n",
      "\t\tFGM[i] ~ binomial(FGA[i],theta[i]);\n",
      "\t}\n",
      "  }\n",
      "'\n",
      "\n",
      "#position categories (1 if point guard, 2 if wing, 3 if big)\n",
      "positioncat=1*(bbdata14$Position==\"PG\")+\n",
      "\t2*(bbdata14$Position %in% c(\"SG\",\"G\",\"SF\"))+\n",
      "\t3*(bbdata14$Position %in% c(\"PF\",\"F\",\"C\"))\n",
      "\n",
      "bb_dat14 <- list(nplayers=nrow(bbdata14),npositions=length(unique(positioncat)),\n",
      "\tpositioncat=positioncat,FGA=bbdata14$FGA,FGM=bbdata14$FG)\n",
      "\n",
      "fit14=stan(model_code=bb_code3,data=bb_dat14,iter=1000,chains=4)\n",
      "\n",
      "samps14=extract(fit14,permute=TRUE,inc_warmup=FALSE)\n",
      "c(mean(samps14$theta[,1]),sd(samps14$theta[,1])) #posterior mean and SD\n",
      "quantile(samps14$theta[,1],c(.05,.25,.5,.75,.95)) #posterior quantiles\n",
      "\n",
      "post_means14=apply(samps14$theta,MARGIN=2,mean)\n",
      "post_medians14=apply(samps14$theta,MARGIN=2,median)"
     ]
    },
    {
     "cell_type": "heading",
     "level": 4,
     "metadata": {},
     "source": [
      "Results"
     ]
    },
    {
     "cell_type": "markdown",
     "metadata": {},
     "source": [
      "We now import our predictions for 2014, comment on a few visualizations based on those predictions, and pull out our top 5 predictions for the 2014 season."
     ]
    },
    {
     "cell_type": "code",
     "collapsed": false,
     "input": [
      "predictions_2014 = pd.read_csv('Projection_2014.csv')"
     ],
     "language": "python",
     "metadata": {},
     "outputs": [],
     "prompt_number": 3
    },
    {
     "cell_type": "markdown",
     "metadata": {},
     "source": [
      "The graphs are as follows:\n",
      "\n",
      "**Graph 1:** This visualization is a \"shrinkage plot\" for 13 selected players. These players were manually selected to most cleanly demonstrate how our model shrinks the FG% (so the text for the names in the plot do not overlap). Players with extreme pre-December 1 FG% are shrunk toward a central value. These players remain the same throughout all visualizations.\n",
      "\n",
      "**Graph 2:** In this visualization we use a scatterplot to look at pre- and post-December 1 field goal percentages for the 13 players from graph 1. We plot the MLE or \"naive\" predictions in gray as the y=x, 45 degree line. This means that the MLE model predicts whatever players are shooting now will remain constant throughout the rest of the season. Our model is plotted in blue while the actual FG% are plotted in green. \n",
      "\n",
      "**Graph 3:** This graph is the same as graph 3-1 but with the x values organized into quantiles. This graph was included to better visualize the players clustered closely near the center of the graph. This is like a Q-Q plot except we leave the y values as raw predictions."
     ]
    },
    {
     "cell_type": "heading",
     "level": 5,
     "metadata": {},
     "source": [
      "**Graph 1**"
     ]
    },
    {
     "cell_type": "markdown",
     "metadata": {},
     "source": [
      "<div class=\"banner-container\">\n",
      "<img src=\"files/Model_3_2014/model_14_plt1.png\" width=600>\n",
      "</div>"
     ]
    },
    {
     "cell_type": "markdown",
     "metadata": {},
     "source": [
      "These players are the same 13 players from the 2012-2013 visualizations. Here LeBron James has a very high shooting percentage but is not predicted to shrink much because of his large pre-December 1 sample size. Cousins remains decidedly average."
     ]
    },
    {
     "cell_type": "heading",
     "level": 5,
     "metadata": {},
     "source": [
      "**Graph 2**"
     ]
    },
    {
     "cell_type": "markdown",
     "metadata": {},
     "source": [
      "<div class=\"banner-container\">\n",
      "<img src=\"files/Model_3_2014/model_14_plt2.png\" width=500>\n",
      "</div>"
     ]
    },
    {
     "cell_type": "markdown",
     "metadata": {},
     "source": [
      "As before players with extreme pre-December 1 FG% are shrunk toward the center. As an interesting aside, we see regression toward the mean between seasons in this plot. These are the same 13 players as  the ones from 2012-2013 and were previously chosen for their wide range of pre-December FG% in the 2012-2013 season. Here, in the 2013-2014 season, they are much less spread out and closer to the average FG%."
     ]
    },
    {
     "cell_type": "heading",
     "level": 5,
     "metadata": {},
     "source": [
      "**Graph 3**"
     ]
    },
    {
     "cell_type": "markdown",
     "metadata": {},
     "source": [
      "<div class=\"banner-container\">\n",
      "<img src=\"files/Model_3_2014/model_14_plt3.png\" width=600>\n",
      "</div>"
     ]
    },
    {
     "cell_type": "markdown",
     "metadata": {},
     "source": [
      "Here too our model pulls extreme values toward the center but because we are differentiating players based on position played, our predictions are more spread out. Big-men are generally predicted to have higher FG% compared to Wings, who are exepcted to have higher FG% than Guards."
     ]
    },
    {
     "cell_type": "markdown",
     "metadata": {},
     "source": [
      "Since we can't observe the actual data from the remainder of the 2013-2014 season (it hasn't happened yet) we cannot provide plots detailing evaluating our model's errors."
     ]
    },
    {
     "cell_type": "markdown",
     "metadata": {},
     "source": [
      "Let's check that our 2014 predictions are imported in a good format."
     ]
    },
    {
     "cell_type": "code",
     "collapsed": false,
     "input": [
      "predictions_2014.head()"
     ],
     "language": "python",
     "metadata": {},
     "outputs": [
      {
       "html": [
        "<div style=\"max-height:1000px;max-width:1500px;overflow:auto;\">\n",
        "<table border=\"1\" class=\"dataframe\">\n",
        "  <thead>\n",
        "    <tr style=\"text-align: right;\">\n",
        "      <th></th>\n",
        "      <th>Name</th>\n",
        "      <th>Position</th>\n",
        "      <th>Pre-December FG%</th>\n",
        "      <th>Projected Post-December FG%</th>\n",
        "      <th>Pre-December FG</th>\n",
        "      <th>Pre-December FGA</th>\n",
        "      <th>Difference between Pre-December and Projected Post-December (Absolute Value)</th>\n",
        "    </tr>\n",
        "  </thead>\n",
        "  <tbody>\n",
        "    <tr>\n",
        "      <th>0</th>\n",
        "      <td>        Ray Allen</td>\n",
        "      <td> SG</td>\n",
        "      <td> 0.453782</td>\n",
        "      <td> 0.445146</td>\n",
        "      <td> 54</td>\n",
        "      <td> 119</td>\n",
        "      <td> 0.008636</td>\n",
        "    </tr>\n",
        "    <tr>\n",
        "      <th>1</th>\n",
        "      <td> Chauncey Billups</td>\n",
        "      <td> PG</td>\n",
        "      <td> 0.333333</td>\n",
        "      <td> 0.394189</td>\n",
        "      <td> 12</td>\n",
        "      <td>  36</td>\n",
        "      <td> 0.060856</td>\n",
        "    </tr>\n",
        "    <tr>\n",
        "      <th>2</th>\n",
        "      <td>       Tim Duncan</td>\n",
        "      <td> PF</td>\n",
        "      <td> 0.444444</td>\n",
        "      <td> 0.458130</td>\n",
        "      <td> 84</td>\n",
        "      <td> 189</td>\n",
        "      <td> 0.013685</td>\n",
        "    </tr>\n",
        "    <tr>\n",
        "      <th>3</th>\n",
        "      <td>     Derek Fisher</td>\n",
        "      <td> PG</td>\n",
        "      <td> 0.369565</td>\n",
        "      <td> 0.398926</td>\n",
        "      <td> 17</td>\n",
        "      <td>  46</td>\n",
        "      <td> 0.029361</td>\n",
        "    </tr>\n",
        "    <tr>\n",
        "      <th>4</th>\n",
        "      <td>    Kevin Garnett</td>\n",
        "      <td>  C</td>\n",
        "      <td> 0.362963</td>\n",
        "      <td> 0.417231</td>\n",
        "      <td> 49</td>\n",
        "      <td> 135</td>\n",
        "      <td> 0.054268</td>\n",
        "    </tr>\n",
        "  </tbody>\n",
        "</table>\n",
        "</div>"
       ],
       "metadata": {},
       "output_type": "pyout",
       "prompt_number": 10,
       "text": [
        "               Name Position  Pre-December FG%  Projected Post-December FG%  Pre-December FG  Pre-December FGA  Difference between Pre-December and Projected Post-December (Absolute Value)\n",
        "0         Ray Allen       SG          0.453782                     0.445146               54               119                                           0.008636                           \n",
        "1  Chauncey Billups       PG          0.333333                     0.394189               12                36                                           0.060856                           \n",
        "2        Tim Duncan       PF          0.444444                     0.458130               84               189                                           0.013685                           \n",
        "3      Derek Fisher       PG          0.369565                     0.398926               17                46                                           0.029361                           \n",
        "4     Kevin Garnett        C          0.362963                     0.417231               49               135                                           0.054268                           "
       ]
      }
     ],
     "prompt_number": 10
    },
    {
     "cell_type": "markdown",
     "metadata": {},
     "source": [
      "Here are the players with the highest predicted FG% after December 1st, 2013."
     ]
    },
    {
     "cell_type": "code",
     "collapsed": false,
     "input": [
      "predictions_2014.sort( columns = 'Projected Post-December FG%', ascending = False ).head()"
     ],
     "language": "python",
     "metadata": {},
     "outputs": [
      {
       "html": [
        "<div style=\"max-height:1000px;max-width:1500px;overflow:auto;\">\n",
        "<table border=\"1\" class=\"dataframe\">\n",
        "  <thead>\n",
        "    <tr style=\"text-align: right;\">\n",
        "      <th></th>\n",
        "      <th>Name</th>\n",
        "      <th>Position</th>\n",
        "      <th>Pre-December FG%</th>\n",
        "      <th>Projected Post-December FG%</th>\n",
        "      <th>Pre-December FG</th>\n",
        "      <th>Pre-December FGA</th>\n",
        "      <th>Difference between Pre-December and Projected Post-December (Absolute Value)</th>\n",
        "    </tr>\n",
        "  </thead>\n",
        "  <tbody>\n",
        "    <tr>\n",
        "      <th>319</th>\n",
        "      <td> Andre Drummond</td>\n",
        "      <td>  C</td>\n",
        "      <td> 0.646067</td>\n",
        "      <td> 0.579937</td>\n",
        "      <td> 115</td>\n",
        "      <td> 178</td>\n",
        "      <td> 0.066131</td>\n",
        "    </tr>\n",
        "    <tr>\n",
        "      <th>393</th>\n",
        "      <td>  Mason Plumlee</td>\n",
        "      <td> PF</td>\n",
        "      <td> 0.685185</td>\n",
        "      <td> 0.543636</td>\n",
        "      <td>  37</td>\n",
        "      <td>  54</td>\n",
        "      <td> 0.141549</td>\n",
        "    </tr>\n",
        "    <tr>\n",
        "      <th>181</th>\n",
        "      <td> DeAndre Jordan</td>\n",
        "      <td>  C</td>\n",
        "      <td> 0.604839</td>\n",
        "      <td> 0.542595</td>\n",
        "      <td>  75</td>\n",
        "      <td> 124</td>\n",
        "      <td> 0.062244</td>\n",
        "    </tr>\n",
        "    <tr>\n",
        "      <th>59 </th>\n",
        "      <td>   LeBron James</td>\n",
        "      <td> SF</td>\n",
        "      <td> 0.594982</td>\n",
        "      <td> 0.534719</td>\n",
        "      <td> 166</td>\n",
        "      <td> 279</td>\n",
        "      <td> 0.060263</td>\n",
        "    </tr>\n",
        "    <tr>\n",
        "      <th>155</th>\n",
        "      <td> Tiago Splitter</td>\n",
        "      <td> PF</td>\n",
        "      <td> 0.594340</td>\n",
        "      <td> 0.533980</td>\n",
        "      <td>  63</td>\n",
        "      <td> 106</td>\n",
        "      <td> 0.060359</td>\n",
        "    </tr>\n",
        "  </tbody>\n",
        "</table>\n",
        "</div>"
       ],
       "metadata": {},
       "output_type": "pyout",
       "prompt_number": 7,
       "text": [
        "               Name Position  Pre-December FG%  Projected Post-December FG%  Pre-December FG  Pre-December FGA  Difference between Pre-December and Projected Post-December (Absolute Value)\n",
        "319  Andre Drummond        C          0.646067                     0.579937              115               178                                           0.066131                           \n",
        "393   Mason Plumlee       PF          0.685185                     0.543636               37                54                                           0.141549                           \n",
        "181  DeAndre Jordan        C          0.604839                     0.542595               75               124                                           0.062244                           \n",
        "59     LeBron James       SF          0.594982                     0.534719              166               279                                           0.060263                           \n",
        "155  Tiago Splitter       PF          0.594340                     0.533980               63               106                                           0.060359                           "
       ]
      }
     ],
     "prompt_number": 7
    },
    {
     "cell_type": "markdown",
     "metadata": {},
     "source": [
      "Not surprisingly, many of the top predictions are \"big men\" (centers or power forwards).  Mason Plumlee is a rookie on the Brooklyn Nets - what a rookie campaign that would be if he finished second in FG%!\n",
      "\n",
      "Lebron James is the only non-big in the top 5 (he is classified as a wing in this dataset).  His current 59.5% shooting percentage is remarkable given the volume of shots he has taken.  We wouldn't be surprised at all to see him here!"
     ]
    },
    {
     "cell_type": "markdown",
     "metadata": {},
     "source": [
      "Now let's look at the players with the lowest predicted FG% after December 1st, 2013."
     ]
    },
    {
     "cell_type": "code",
     "collapsed": false,
     "input": [
      "predictions_2014.sort( columns = 'Projected Post-December FG%' ).head()"
     ],
     "language": "python",
     "metadata": {},
     "outputs": [
      {
       "html": [
        "<div style=\"max-height:1000px;max-width:1500px;overflow:auto;\">\n",
        "<table border=\"1\" class=\"dataframe\">\n",
        "  <thead>\n",
        "    <tr style=\"text-align: right;\">\n",
        "      <th></th>\n",
        "      <th>Name</th>\n",
        "      <th>Position</th>\n",
        "      <th>Pre-December FG%</th>\n",
        "      <th>Projected Post-December FG%</th>\n",
        "      <th>Pre-December FG</th>\n",
        "      <th>Pre-December FGA</th>\n",
        "      <th>Difference between Pre-December and Projected Post-December (Absolute Value)</th>\n",
        "    </tr>\n",
        "  </thead>\n",
        "  <tbody>\n",
        "    <tr>\n",
        "      <th>358</th>\n",
        "      <td>   Alexey Shved</td>\n",
        "      <td> PG</td>\n",
        "      <td> 0.238095</td>\n",
        "      <td> 0.372062</td>\n",
        "      <td> 10</td>\n",
        "      <td>  42</td>\n",
        "      <td> 0.133966</td>\n",
        "    </tr>\n",
        "    <tr>\n",
        "      <th>405</th>\n",
        "      <td>   Phil Pressey</td>\n",
        "      <td> PG</td>\n",
        "      <td> 0.255319</td>\n",
        "      <td> 0.372700</td>\n",
        "      <td> 12</td>\n",
        "      <td>  47</td>\n",
        "      <td> 0.117381</td>\n",
        "    </tr>\n",
        "    <tr>\n",
        "      <th>351</th>\n",
        "      <td> Marquis Teague</td>\n",
        "      <td> PG</td>\n",
        "      <td> 0.166667</td>\n",
        "      <td> 0.374424</td>\n",
        "      <td>  4</td>\n",
        "      <td>  24</td>\n",
        "      <td> 0.207757</td>\n",
        "    </tr>\n",
        "    <tr>\n",
        "      <th>5  </th>\n",
        "      <td>     Steve Nash</td>\n",
        "      <td> PG</td>\n",
        "      <td> 0.260870</td>\n",
        "      <td> 0.374496</td>\n",
        "      <td> 12</td>\n",
        "      <td>  46</td>\n",
        "      <td> 0.113627</td>\n",
        "    </tr>\n",
        "    <tr>\n",
        "      <th>184</th>\n",
        "      <td>   Derrick Rose</td>\n",
        "      <td> PG</td>\n",
        "      <td> 0.353659</td>\n",
        "      <td> 0.380557</td>\n",
        "      <td> 58</td>\n",
        "      <td> 164</td>\n",
        "      <td> 0.026899</td>\n",
        "    </tr>\n",
        "  </tbody>\n",
        "</table>\n",
        "</div>"
       ],
       "metadata": {},
       "output_type": "pyout",
       "prompt_number": 6,
       "text": [
        "               Name Position  Pre-December FG%  Projected Post-December FG%  Pre-December FG  Pre-December FGA  Difference between Pre-December and Projected Post-December (Absolute Value)\n",
        "358    Alexey Shved       PG          0.238095                     0.372062               10                42                                           0.133966                           \n",
        "405    Phil Pressey       PG          0.255319                     0.372700               12                47                                           0.117381                           \n",
        "351  Marquis Teague       PG          0.166667                     0.374424                4                24                                           0.207757                           \n",
        "5        Steve Nash       PG          0.260870                     0.374496               12                46                                           0.113627                           \n",
        "184    Derrick Rose       PG          0.353659                     0.380557               58               164                                           0.026899                           "
       ]
      }
     ],
     "prompt_number": 6
    },
    {
     "cell_type": "markdown",
     "metadata": {},
     "source": [
      "Five point guards!  Exactly what we would expect.  Interestingly, some big-name point guards (Steve Nash and Derrick Rose) are the in bottom five.  Nash is predicted to increase his FG% by 11%, but his pre-December 1 FG% is so poor that he's sitll in the bottom 5.  Rose is actually injured for the rest of the season, so his FG% won't be defined post-December 1."
     ]
    },
    {
     "cell_type": "markdown",
     "metadata": {},
     "source": [
      "Here are the players with the largest difference between FG% before December 1st and predicted FG% after December 1st, 2013."
     ]
    },
    {
     "cell_type": "code",
     "collapsed": false,
     "input": [
      "pre_tmp = predictions_2014.loc[ predictions_2014.get( 'Pre-December FG' ) > 1, : ]\n",
      "pre_tmp.sort( columns = 'Difference between Pre-December and Projected Post-December (Absolute Value)', ascending = False ).head()"
     ],
     "language": "python",
     "metadata": {},
     "outputs": [
      {
       "html": [
        "<div style=\"max-height:1000px;max-width:1500px;overflow:auto;\">\n",
        "<table border=\"1\" class=\"dataframe\">\n",
        "  <thead>\n",
        "    <tr style=\"text-align: right;\">\n",
        "      <th></th>\n",
        "      <th>Name</th>\n",
        "      <th>Position</th>\n",
        "      <th>Pre-December FG%</th>\n",
        "      <th>Projected Post-December FG%</th>\n",
        "      <th>Pre-December FG</th>\n",
        "      <th>Pre-December FGA</th>\n",
        "      <th>Difference between Pre-December and Projected Post-December (Absolute Value)</th>\n",
        "    </tr>\n",
        "  </thead>\n",
        "  <tbody>\n",
        "    <tr>\n",
        "      <th>208</th>\n",
        "      <td>       Greg Smith</td>\n",
        "      <td>  C</td>\n",
        "      <td> 0.857143</td>\n",
        "      <td> 0.499534</td>\n",
        "      <td>  6</td>\n",
        "      <td>  7</td>\n",
        "      <td> 0.357609</td>\n",
        "    </tr>\n",
        "    <tr>\n",
        "      <th>334</th>\n",
        "      <td>   Meyers Leonard</td>\n",
        "      <td>  C</td>\n",
        "      <td> 0.750000</td>\n",
        "      <td> 0.486747</td>\n",
        "      <td>  3</td>\n",
        "      <td>  4</td>\n",
        "      <td> 0.263253</td>\n",
        "    </tr>\n",
        "    <tr>\n",
        "      <th>388</th>\n",
        "      <td> Shabazz Muhammad</td>\n",
        "      <td> SF</td>\n",
        "      <td> 0.166667</td>\n",
        "      <td> 0.420457</td>\n",
        "      <td>  2</td>\n",
        "      <td> 12</td>\n",
        "      <td> 0.253791</td>\n",
        "    </tr>\n",
        "    <tr>\n",
        "      <th>309</th>\n",
        "      <td>     Lance Thomas</td>\n",
        "      <td> PF</td>\n",
        "      <td> 0.222222</td>\n",
        "      <td> 0.458559</td>\n",
        "      <td>  2</td>\n",
        "      <td>  9</td>\n",
        "      <td> 0.236337</td>\n",
        "    </tr>\n",
        "    <tr>\n",
        "      <th>289</th>\n",
        "      <td>     Jeremy Evans</td>\n",
        "      <td> SF</td>\n",
        "      <td> 0.722222</td>\n",
        "      <td> 0.487674</td>\n",
        "      <td> 26</td>\n",
        "      <td> 36</td>\n",
        "      <td> 0.234548</td>\n",
        "    </tr>\n",
        "  </tbody>\n",
        "</table>\n",
        "</div>"
       ],
       "metadata": {},
       "output_type": "pyout",
       "prompt_number": 11,
       "text": [
        "                 Name Position  Pre-December FG%  Projected Post-December FG%  Pre-December FG  Pre-December FGA  Difference between Pre-December and Projected Post-December (Absolute Value)\n",
        "208        Greg Smith        C          0.857143                     0.499534                6                 7                                           0.357609                           \n",
        "334    Meyers Leonard        C          0.750000                     0.486747                3                 4                                           0.263253                           \n",
        "388  Shabazz Muhammad       SF          0.166667                     0.420457                2                12                                           0.253791                           \n",
        "309      Lance Thomas       PF          0.222222                     0.458559                2                 9                                           0.236337                           \n",
        "289      Jeremy Evans       SF          0.722222                     0.487674               26                36                                           0.234548                           "
       ]
      }
     ],
     "prompt_number": 11
    },
    {
     "cell_type": "markdown",
     "metadata": {},
     "source": [
      "Again as we'd expect, the players with the highest predicted differences are players shooting extremely well or extremely poorly, with small sample size.  Greg Smith at 85% - wow!  (He basically only dunks.)  Shabazz Muhammad, a high-profile 2013 draft choice, has shot extremely poorly, but our projection is that he'll end up in the middle of the road, around 42%.  Jeremy Evans actually has a much higher pre-December 1 FGA than the others - it'll be interesting to see if his FG% drops as much as we predict it will (drop by 23%)."
     ]
    },
    {
     "cell_type": "markdown",
     "metadata": {},
     "source": [
      "Here are the players with the smallest difference between FG% before December 1st and predicted FG% after December 1st."
     ]
    },
    {
     "cell_type": "code",
     "collapsed": false,
     "input": [
      "predictions_2014.sort( column = 'Difference between Pre-December and Projected Post-December (Absolute Value)' ).head()"
     ],
     "language": "python",
     "metadata": {},
     "outputs": [
      {
       "html": [
        "<div style=\"max-height:1000px;max-width:1500px;overflow:auto;\">\n",
        "<table border=\"1\" class=\"dataframe\">\n",
        "  <thead>\n",
        "    <tr style=\"text-align: right;\">\n",
        "      <th></th>\n",
        "      <th>Name</th>\n",
        "      <th>Position</th>\n",
        "      <th>Pre-December FG%</th>\n",
        "      <th>Projected Post-December FG%</th>\n",
        "      <th>Pre-December FG</th>\n",
        "      <th>Pre-December FGA</th>\n",
        "      <th>Difference between Pre-December and Projected Post-December (Absolute Value)</th>\n",
        "    </tr>\n",
        "  </thead>\n",
        "  <tbody>\n",
        "    <tr>\n",
        "      <th>97 </th>\n",
        "      <td>    Gerald Green</td>\n",
        "      <td> SG</td>\n",
        "      <td> 0.435407</td>\n",
        "      <td> 0.435377</td>\n",
        "      <td>  91</td>\n",
        "      <td> 209</td>\n",
        "      <td> 0.000030</td>\n",
        "    </tr>\n",
        "    <tr>\n",
        "      <th>245</th>\n",
        "      <td>    James Harden</td>\n",
        "      <td> SG</td>\n",
        "      <td> 0.439689</td>\n",
        "      <td> 0.439874</td>\n",
        "      <td> 113</td>\n",
        "      <td> 257</td>\n",
        "      <td> 0.000185</td>\n",
        "    </tr>\n",
        "    <tr>\n",
        "      <th>213</th>\n",
        "      <td> Josh Harrellson</td>\n",
        "      <td>  C</td>\n",
        "      <td> 0.478261</td>\n",
        "      <td> 0.478469</td>\n",
        "      <td>  11</td>\n",
        "      <td>  23</td>\n",
        "      <td> 0.000208</td>\n",
        "    </tr>\n",
        "    <tr>\n",
        "      <th>233</th>\n",
        "      <td>     Jeff Teague</td>\n",
        "      <td> PG</td>\n",
        "      <td> 0.408922</td>\n",
        "      <td> 0.408639</td>\n",
        "      <td> 110</td>\n",
        "      <td> 269</td>\n",
        "      <td> 0.000283</td>\n",
        "    </tr>\n",
        "    <tr>\n",
        "      <th>242</th>\n",
        "      <td>   DeMar DeRozan</td>\n",
        "      <td> SG</td>\n",
        "      <td> 0.438944</td>\n",
        "      <td> 0.439359</td>\n",
        "      <td> 133</td>\n",
        "      <td> 303</td>\n",
        "      <td> 0.000415</td>\n",
        "    </tr>\n",
        "  </tbody>\n",
        "</table>\n",
        "</div>"
       ],
       "metadata": {},
       "output_type": "pyout",
       "prompt_number": 9,
       "text": [
        "                Name Position  Pre-December FG%  Projected Post-December FG%  Pre-December FG  Pre-December FGA  Difference between Pre-December and Projected Post-December (Absolute Value)\n",
        "97      Gerald Green       SG          0.435407                     0.435377               91               209                                           0.000030                           \n",
        "245     James Harden       SG          0.439689                     0.439874              113               257                                           0.000185                           \n",
        "213  Josh Harrellson        C          0.478261                     0.478469               11                23                                           0.000208                           \n",
        "233      Jeff Teague       PG          0.408922                     0.408639              110               269                                           0.000283                           \n",
        "242    DeMar DeRozan       SG          0.438944                     0.439359              133               303                                           0.000415                           "
       ]
      }
     ],
     "prompt_number": 9
    },
    {
     "cell_type": "markdown",
     "metadata": {},
     "source": [
      "These players are the ones who have shot very close to average FG% and/or have taken many shot attempts.  Four of the five players here have large sample sizes, and they've also shot middle-of-the-pack percentages (in the mid-40s).  Note that \"middle-of-the-pack\" means different things for different positions.  Josh Harrellson hasn't shot the ball much, but he just happens to have shot a percentage extremely close to the \"big man\" central value.  So his FG% prediction is pretty much in line with his pre-December 1 FG%."
     ]
    },
    {
     "cell_type": "markdown",
     "metadata": {},
     "source": [
      "Finally, let's look at Anthony Bennett, the number one \"draft bust\" we mentioned at the beginning of this notebook.  What do we predict his post-December 1 FG% to be?"
     ]
    },
    {
     "cell_type": "code",
     "collapsed": false,
     "input": [
      "predictions_2014[predictions_2014['Name']=='Anthony Bennett']"
     ],
     "language": "python",
     "metadata": {},
     "outputs": [
      {
       "html": [
        "<div style=\"max-height:1000px;max-width:1500px;overflow:auto;\">\n",
        "<table border=\"1\" class=\"dataframe\">\n",
        "  <thead>\n",
        "    <tr style=\"text-align: right;\">\n",
        "      <th></th>\n",
        "      <th>Name</th>\n",
        "      <th>Position</th>\n",
        "      <th>Pre-December FG%</th>\n",
        "      <th>Projected Post-December FG%</th>\n",
        "      <th>Pre-December FG</th>\n",
        "      <th>Pre-December FGA</th>\n",
        "      <th>Difference between Pre-December and Projected Post-December (Absolute Value)</th>\n",
        "    </tr>\n",
        "  </thead>\n",
        "  <tbody>\n",
        "    <tr>\n",
        "      <th>367</th>\n",
        "      <td> Anthony Bennett</td>\n",
        "      <td> PF</td>\n",
        "      <td> 0.240741</td>\n",
        "      <td> 0.403678</td>\n",
        "      <td> 13</td>\n",
        "      <td> 54</td>\n",
        "      <td> 0.162937</td>\n",
        "    </tr>\n",
        "  </tbody>\n",
        "</table>\n",
        "</div>"
       ],
       "metadata": {},
       "output_type": "pyout",
       "prompt_number": 12,
       "text": [
        "                Name Position  Pre-December FG%  Projected Post-December FG%  Pre-December FG  Pre-December FGA  Difference between Pre-December and Projected Post-December (Absolute Value)\n",
        "367  Anthony Bennett       PF          0.240741                     0.403678               13                54                                           0.162937                           "
       ]
      }
     ],
     "prompt_number": 12
    },
    {
     "cell_type": "markdown",
     "metadata": {},
     "source": [
      "About 40% - not too shabby!  That certainly wouldn't make him an epic draft bust.  Let's see how the rest of the season plays out!"
     ]
    },
    {
     "cell_type": "heading",
     "level": 3,
     "metadata": {},
     "source": [
      "Conclusions and Final Remarks"
     ]
    },
    {
     "cell_type": "markdown",
     "metadata": {},
     "source": [
      "In this process book, we provide motivation for analyzing NBA data in a principled fashion, using statistical modeling to make predictions about field goal percentages instead of spinning stories based on possible random noise observed during the first 33 days of the season.  We outline three Bayesian hierarchical models that share a similar flavor but have reasonable variations that give each model its own specific taste.  We present results based on 2012-2013 data and show that all three of our models outperform naive MLE predictions in terms of both mean squared error and in terms of the proportion of players for which predictions are closer to actual data.  We then choose one model to run on 2013-2014 data and make predictions about the remainder of the current NBA season.\n",
      "\n",
      "Our 2013-2014 results predict that Anthony Bennett, the number one pick in the 2013 draft, won't be as big a bust as some pundits are making him out to be.  We predict him to shoot around 40% for the remainder of the season, which is slightly lower than average but not extremely so.  However, we predict one of his draftmates, Mason Plumlee, to have the second-highest FG% for the remainder of the season.  We also predict Lebron James to shoot over 50% for the remainder of the season, placing him in the top 5, and Steve Nash to shoot under 40% for the remainder of the season, placing him with the poorest shooters.\n",
      "\n",
      "Overall, we chose to use Model 3, which incorporates position-specific shrinkage centers, for our 2013-2014 predictions.  Model 3 demonstrated the lowest mean squared error, easily outperforming the naive MLE and also bested Models 1 and 2.  From a sample of 13 players (selected before observing post-December 1, 2012 data), Model 3 performed extremely well.\n",
      "\n",
      "Our models tell us that we should be cautious about hot and cold shooting starts to the NBA season.  Most players with extremely high and low field goal percentages have taken relatively few shots, and their percentages up to this point cannot be trusted for extrapolation to the remainder of the season.  However, we can use that data, in combination with data from other players, to make intuitive statistical adjustments that produce extremely sensible predictions.  The 2012-2013 checks against actual data show these predictions to do quite well, easily outperforming the naive extrapolated estimates.\n",
      "\n",
      "In the end, sports are filled with intricacies and random variation (not to mention flawed human referees) that make any result difficult to predict perfectly, even with the most complicated models.  After all, those intracacies and variations are what make sports so emotional, captivating, and exciting."
     ]
    }
   ],
   "metadata": {}
  }
 ]
}